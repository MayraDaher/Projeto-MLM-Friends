{
  "cells": [
    {
      "cell_type": "markdown",
      "metadata": {
        "id": "jhQCTd_r27gF"
      },
      "source": [
        "# Projeto Final de SBC\n",
        "\n",
        "> Este notebook está organizado em seções navegáveis.\n",
        "\n",
        "Implementação e treinamento de um Transformer e Modelo Oculto de Markov para \"dada uma frase, complete onde há a máscara com base em algo que um dos personagens da série de TV Friends responderia\".\n",
        "\n",
        "**Grupo** Mayra Daher e Samantha Medeiros.\n",
        "\n",
        "## Sobre os dados e a implementação\n",
        "A base de dados utilizada são as falas dos 6 personagens principais da série, cada um possuindo seu próprio arquivo `.txt` com todas as frases ditas por eles ao longo da série. A base de dados completa pode ser acessada no seguinte **[Dataset Kaggle](https://www.kaggle.com/datasets/blessondensil294/friends-tv-series-screenplay-script)**.\n",
        "\n",
        "## Como executar este notebook?\n",
        "1. Baixe as dependências;\n",
        "2. Execute cada uma das células de código;\n",
        "3. E execute o bloco de código da seção \"Main\".\n",
        "\n",
        "## Importante se atentar\n",
        "- Se estiver utilizando o ambiente Google Colab, certifique-se de executar a célular correspondente;\n",
        "- Verifique se o caminho dos arquivos;\n",
        "- Certique-se de que todos os arquivos necessários para a execução deste notebook estejam presentes.\n",
        "\n",
        "## Referências\n",
        "1. [Jonathan Hui. Speech Recognition - GMM, HMMM](https://jonathan-hui.medium.com/speech-recognition-gmm-hmm-8bb5eff8b196)\n",
        "2. [Ankur Singh. End-to-end Masked Language Modeling with BERT](https://keras.io/examples/nlp/masked_language_modeling/#create)"
      ]
    },
    {
      "cell_type": "markdown",
      "metadata": {
        "id": "iU0K_z8f27gI"
      },
      "source": [
        "# **Implementação BERT** (parte 1)"
      ]
    },
    {
      "cell_type": "markdown",
      "metadata": {
        "id": "yODY8IM9x3NO"
      },
      "source": [
        "## BERT model (Pretraining Model)"
      ]
    },
    {
      "cell_type": "markdown",
      "metadata": {
        "id": "LBT27vWq27gJ"
      },
      "source": [
        "### Dependências"
      ]
    },
    {
      "cell_type": "code",
      "execution_count": null,
      "metadata": {
        "id": "fGsJGkg76WMa"
      },
      "outputs": [],
      "source": [
        "#setup de ambiente\n",
        "!pip install -q keras-nlp tensorflow tensorflow-hub\n",
        "\n",
        "import tensorflow as tf\n",
        "from tensorflow import keras\n",
        "from tensorflow.keras import layers\n",
        "from tensorflow.keras.layers import TextVectorization\n",
        "import keras_nlp\n",
        "from google.colab import files\n",
        "import numpy as np\n",
        "import os\n",
        "import re\n",
        "\n",
        "\n",
        "os.makedirs(\"checkpoints\", exist_ok=True)"
      ]
    },
    {
      "cell_type": "markdown",
      "metadata": {
        "id": "ATTs6Fn-27gL"
      },
      "source": [
        "### Carregando Base de Dados"
      ]
    },
    {
      "cell_type": "code",
      "execution_count": null,
      "metadata": {
        "colab": {
          "base_uri": "https://localhost:8080/",
          "height": 1000
        },
        "id": "6B1Fjljx9k36",
        "outputId": "6bce67f6-1ef0-4308-cb03-46fe8d66feb5"
      },
      "outputs": [
        {
          "data": {
            "text/html": [
              "\n",
              "     <input type=\"file\" id=\"files-a30575ef-d726-4f62-bd15-6b81c29f2ccf\" name=\"files[]\" multiple disabled\n",
              "        style=\"border:none\" />\n",
              "     <output id=\"result-a30575ef-d726-4f62-bd15-6b81c29f2ccf\">\n",
              "      Upload widget is only available when the cell has been executed in the\n",
              "      current browser session. Please rerun this cell to enable.\n",
              "      </output>\n",
              "      <script>// Copyright 2017 Google LLC\n",
              "//\n",
              "// Licensed under the Apache License, Version 2.0 (the \"License\");\n",
              "// you may not use this file except in compliance with the License.\n",
              "// You may obtain a copy of the License at\n",
              "//\n",
              "//      http://www.apache.org/licenses/LICENSE-2.0\n",
              "//\n",
              "// Unless required by applicable law or agreed to in writing, software\n",
              "// distributed under the License is distributed on an \"AS IS\" BASIS,\n",
              "// WITHOUT WARRANTIES OR CONDITIONS OF ANY KIND, either express or implied.\n",
              "// See the License for the specific language governing permissions and\n",
              "// limitations under the License.\n",
              "\n",
              "/**\n",
              " * @fileoverview Helpers for google.colab Python module.\n",
              " */\n",
              "(function(scope) {\n",
              "function span(text, styleAttributes = {}) {\n",
              "  const element = document.createElement('span');\n",
              "  element.textContent = text;\n",
              "  for (const key of Object.keys(styleAttributes)) {\n",
              "    element.style[key] = styleAttributes[key];\n",
              "  }\n",
              "  return element;\n",
              "}\n",
              "\n",
              "// Max number of bytes which will be uploaded at a time.\n",
              "const MAX_PAYLOAD_SIZE = 100 * 1024;\n",
              "\n",
              "function _uploadFiles(inputId, outputId) {\n",
              "  const steps = uploadFilesStep(inputId, outputId);\n",
              "  const outputElement = document.getElementById(outputId);\n",
              "  // Cache steps on the outputElement to make it available for the next call\n",
              "  // to uploadFilesContinue from Python.\n",
              "  outputElement.steps = steps;\n",
              "\n",
              "  return _uploadFilesContinue(outputId);\n",
              "}\n",
              "\n",
              "// This is roughly an async generator (not supported in the browser yet),\n",
              "// where there are multiple asynchronous steps and the Python side is going\n",
              "// to poll for completion of each step.\n",
              "// This uses a Promise to block the python side on completion of each step,\n",
              "// then passes the result of the previous step as the input to the next step.\n",
              "function _uploadFilesContinue(outputId) {\n",
              "  const outputElement = document.getElementById(outputId);\n",
              "  const steps = outputElement.steps;\n",
              "\n",
              "  const next = steps.next(outputElement.lastPromiseValue);\n",
              "  return Promise.resolve(next.value.promise).then((value) => {\n",
              "    // Cache the last promise value to make it available to the next\n",
              "    // step of the generator.\n",
              "    outputElement.lastPromiseValue = value;\n",
              "    return next.value.response;\n",
              "  });\n",
              "}\n",
              "\n",
              "/**\n",
              " * Generator function which is called between each async step of the upload\n",
              " * process.\n",
              " * @param {string} inputId Element ID of the input file picker element.\n",
              " * @param {string} outputId Element ID of the output display.\n",
              " * @return {!Iterable<!Object>} Iterable of next steps.\n",
              " */\n",
              "function* uploadFilesStep(inputId, outputId) {\n",
              "  const inputElement = document.getElementById(inputId);\n",
              "  inputElement.disabled = false;\n",
              "\n",
              "  const outputElement = document.getElementById(outputId);\n",
              "  outputElement.innerHTML = '';\n",
              "\n",
              "  const pickedPromise = new Promise((resolve) => {\n",
              "    inputElement.addEventListener('change', (e) => {\n",
              "      resolve(e.target.files);\n",
              "    });\n",
              "  });\n",
              "\n",
              "  const cancel = document.createElement('button');\n",
              "  inputElement.parentElement.appendChild(cancel);\n",
              "  cancel.textContent = 'Cancel upload';\n",
              "  const cancelPromise = new Promise((resolve) => {\n",
              "    cancel.onclick = () => {\n",
              "      resolve(null);\n",
              "    };\n",
              "  });\n",
              "\n",
              "  // Wait for the user to pick the files.\n",
              "  const files = yield {\n",
              "    promise: Promise.race([pickedPromise, cancelPromise]),\n",
              "    response: {\n",
              "      action: 'starting',\n",
              "    }\n",
              "  };\n",
              "\n",
              "  cancel.remove();\n",
              "\n",
              "  // Disable the input element since further picks are not allowed.\n",
              "  inputElement.disabled = true;\n",
              "\n",
              "  if (!files) {\n",
              "    return {\n",
              "      response: {\n",
              "        action: 'complete',\n",
              "      }\n",
              "    };\n",
              "  }\n",
              "\n",
              "  for (const file of files) {\n",
              "    const li = document.createElement('li');\n",
              "    li.append(span(file.name, {fontWeight: 'bold'}));\n",
              "    li.append(span(\n",
              "        `(${file.type || 'n/a'}) - ${file.size} bytes, ` +\n",
              "        `last modified: ${\n",
              "            file.lastModifiedDate ? file.lastModifiedDate.toLocaleDateString() :\n",
              "                                    'n/a'} - `));\n",
              "    const percent = span('0% done');\n",
              "    li.appendChild(percent);\n",
              "\n",
              "    outputElement.appendChild(li);\n",
              "\n",
              "    const fileDataPromise = new Promise((resolve) => {\n",
              "      const reader = new FileReader();\n",
              "      reader.onload = (e) => {\n",
              "        resolve(e.target.result);\n",
              "      };\n",
              "      reader.readAsArrayBuffer(file);\n",
              "    });\n",
              "    // Wait for the data to be ready.\n",
              "    let fileData = yield {\n",
              "      promise: fileDataPromise,\n",
              "      response: {\n",
              "        action: 'continue',\n",
              "      }\n",
              "    };\n",
              "\n",
              "    // Use a chunked sending to avoid message size limits. See b/62115660.\n",
              "    let position = 0;\n",
              "    do {\n",
              "      const length = Math.min(fileData.byteLength - position, MAX_PAYLOAD_SIZE);\n",
              "      const chunk = new Uint8Array(fileData, position, length);\n",
              "      position += length;\n",
              "\n",
              "      const base64 = btoa(String.fromCharCode.apply(null, chunk));\n",
              "      yield {\n",
              "        response: {\n",
              "          action: 'append',\n",
              "          file: file.name,\n",
              "          data: base64,\n",
              "        },\n",
              "      };\n",
              "\n",
              "      let percentDone = fileData.byteLength === 0 ?\n",
              "          100 :\n",
              "          Math.round((position / fileData.byteLength) * 100);\n",
              "      percent.textContent = `${percentDone}% done`;\n",
              "\n",
              "    } while (position < fileData.byteLength);\n",
              "  }\n",
              "\n",
              "  // All done.\n",
              "  yield {\n",
              "    response: {\n",
              "      action: 'complete',\n",
              "    }\n",
              "  };\n",
              "}\n",
              "\n",
              "scope.google = scope.google || {};\n",
              "scope.google.colab = scope.google.colab || {};\n",
              "scope.google.colab._files = {\n",
              "  _uploadFiles,\n",
              "  _uploadFilesContinue,\n",
              "};\n",
              "})(self);\n",
              "</script> "
            ],
            "text/plain": [
              "<IPython.core.display.HTML object>"
            ]
          },
          "metadata": {},
          "output_type": "display_data"
        },
        {
          "name": "stdout",
          "output_type": "stream",
          "text": [
            "Saving S01E01 Monica Gets A Roommate.txt to S01E01 Monica Gets A Roommate.txt\n",
            "Saving S01E02 The Sonogram At The End.txt to S01E02 The Sonogram At The End.txt\n",
            "Saving S01E03 The Thumb.txt to S01E03 The Thumb.txt\n",
            "Saving S01E04 George Stephanopoulos.txt to S01E04 George Stephanopoulos.txt\n",
            "Saving S01E05 The East German Laundry Detergent.txt to S01E05 The East German Laundry Detergent.txt\n",
            "Saving S01E06 The Butt.txt to S01E06 The Butt.txt\n",
            "Saving S01E07 The Blackout.txt to S01E07 The Blackout.txt\n",
            "Saving S01E08 Nana Dies Twice.txt to S01E08 Nana Dies Twice.txt\n",
            "Saving S01E09 Underdog Gets Away.txt to S01E09 Underdog Gets Away.txt\n",
            "Saving S01E10 The Monkey.txt to S01E10 The Monkey.txt\n",
            "Saving S01E11 Mrs. Bing.txt to S01E11 Mrs. Bing.txt\n",
            "Saving S01E12 The Dozen Lasagnas.txt to S01E12 The Dozen Lasagnas.txt\n",
            "Saving S01E13 The Boobies.txt to S01E13 The Boobies.txt\n",
            "Saving S01E14 The Candy Hearts.txt to S01E14 The Candy Hearts.txt\n",
            "Saving S01E15 The Stoned Guy.txt to S01E15 The Stoned Guy.txt\n",
            "Saving S01E16 The Two Parts Part I.txt to S01E16 The Two Parts Part I.txt\n",
            "Saving S01E17 The Two Parts Part II.txt to S01E17 The Two Parts Part II.txt\n",
            "Saving S01E18 All The Poker.txt to S01E18 All The Poker.txt\n",
            "Saving S01E19 The Monkey Gets Away.txt to S01E19 The Monkey Gets Away.txt\n",
            "Saving S01E20 The Evil Orthodontist.txt to S01E20 The Evil Orthodontist.txt\n",
            "Saving S01E21 The Fake Monica.txt to S01E21 The Fake Monica.txt\n",
            "Saving S01E22 The Ick Factor.txt to S01E22 The Ick Factor.txt\n",
            "Saving S01E23 The Birth.txt to S01E23 The Birth.txt\n",
            "Saving S01E24 Rachel Finds Out.txt to S01E24 Rachel Finds Out.txt\n",
            "Saving S02E01 Rosss New Girlfriend.txt to S02E01 Rosss New Girlfriend.txt\n",
            "Saving S02E02 The Breast Milk.txt to S02E02 The Breast Milk.txt\n",
            "Saving S02E03 Heckles Dies.txt to S02E03 Heckles Dies.txt\n",
            "Saving S02E04 Phoebes Husband.txt to S02E04 Phoebes Husband.txt\n",
            "Saving S02E05 Five Steaks And An Eggplant.txt to S02E05 Five Steaks And An Eggplant.txt\n",
            "Saving S02E06 The Baby On The Bus.txt to S02E06 The Baby On The Bus.txt\n",
            "Saving S02E07 Ross Finds Out.txt to S02E07 Ross Finds Out.txt\n",
            "Saving S02E08 The List.txt to S02E08 The List.txt\n",
            "Saving S02E09 Phoebes Dad.txt to S02E09 Phoebes Dad.txt\n",
            "Saving S02E10 Russ.txt to S02E10 Russ.txt\n",
            "Saving S02E11 The Lesbian Wedding.txt to S02E11 The Lesbian Wedding.txt\n",
            "Saving S02E12-S02E13 The Superbowl.txt to S02E12-S02E13 The Superbowl.txt\n",
            "Saving S02E14 The Prom Video.txt to S02E14 The Prom Video.txt\n",
            "Saving S02E15 Ross And Rachel... You Know.txt to S02E15 Ross And Rachel... You Know.txt\n",
            "Saving S02E16 Joey Moves Out.txt to S02E16 Joey Moves Out.txt\n",
            "Saving S02E17 Eddie Moves In.txt to S02E17 Eddie Moves In.txt\n",
            "Saving S02E18 Dr. Ramoray Dies.txt to S02E18 Dr. Ramoray Dies.txt\n",
            "Saving S02E19 Eddie Wont Go.txt to S02E19 Eddie Wont Go.txt\n",
            "Saving S02E20 Old Yeller Dies.txt to S02E20 Old Yeller Dies.txt\n",
            "Saving S02E21 The Bullies.txt to S02E21 The Bullies.txt\n",
            "Saving S02E22 The Two Parties.txt to S02E22 The Two Parties.txt\n",
            "Saving S02E23 The Chicken Pox.txt to S02E23 The Chicken Pox.txt\n",
            "Saving S02E24 Barry And Mindys Wedding.txt to S02E24 Barry And Mindys Wedding.txt\n",
            "Saving S03E01 The Princess Leia Fantasy.txt to S03E01 The Princess Leia Fantasy.txt\n",
            "Saving S03E02 No Ones Ready.txt to S03E02 No Ones Ready.txt\n",
            "Saving S03E03 The Jam.txt to S03E03 The Jam.txt\n",
            "Saving S03E04 The Metaphorical Tunnel.txt to S03E04 The Metaphorical Tunnel.txt\n",
            "Saving S03E05 Frank Jr..txt to S03E05 Frank Jr..txt\n",
            "Saving S03E06 The Flashback.txt to S03E06 The Flashback.txt\n",
            "Saving S03E07 The Race Car Bed.txt to S03E07 The Race Car Bed.txt\n",
            "Saving S03E08 The Giant Poking Device.txt to S03E08 The Giant Poking Device.txt\n",
            "Saving S03E09 The Football.txt to S03E09 The Football.txt\n",
            "Saving S03E10 Rachel Quits.txt to S03E10 Rachel Quits.txt\n",
            "Saving S03E11 Chandler Cant Remember Which Sister.txt to S03E11 Chandler Cant Remember Which Sister.txt\n",
            "Saving S03E12 All The Jealousy.txt to S03E12 All The Jealousy.txt\n",
            "Saving S03E13 Monica And Richard Are Just Friends.txt to S03E13 Monica And Richard Are Just Friends.txt\n",
            "Saving S03E14 Phoebes Ex-Partner.txt to S03E14 Phoebes Ex-Partner.txt\n",
            "Saving S03E15 Ross And Rachel Take A Break.txt to S03E15 Ross And Rachel Take A Break.txt\n",
            "Saving S03E16 The Morning After.txt to S03E16 The Morning After.txt\n",
            "Saving S03E17 The Ski Trip.txt to S03E17 The Ski Trip.txt\n",
            "Saving S03E18 The Hypnosis Tape.txt to S03E18 The Hypnosis Tape.txt\n",
            "Saving S03E19 The Tiny T-Shirt.txt to S03E19 The Tiny T-Shirt.txt\n",
            "Saving S03E20 The Dollhouse.txt to S03E20 The Dollhouse.txt\n",
            "Saving S03E21 The Chick And The Duck.txt to S03E21 The Chick And The Duck.txt\n",
            "Saving S03E22 The Screamer.txt to S03E22 The Screamer.txt\n",
            "Saving S03E23 Rosss Thing.txt to S03E23 Rosss Thing.txt\n",
            "Saving S03E24 The Ultimate Fighting Champion.txt to S03E24 The Ultimate Fighting Champion.txt\n",
            "Saving s03E25 At The Beach.txt to s03E25 At The Beach.txt\n",
            "Saving S04E01 The Jellyfish.txt to S04E01 The Jellyfish.txt\n",
            "Saving S04E02 The Cat.txt to S04E02 The Cat.txt\n",
            "Saving S04E03 The Cuffs.txt to S04E03 The Cuffs.txt\n",
            "Saving S04E04 The Ballroom Dancing.txt to S04E04 The Ballroom Dancing.txt\n",
            "Saving S04E05 Joeys New Girlfriend.txt to S04E05 Joeys New Girlfriend.txt\n",
            "Saving S04E06 The Dirty Girl.txt to S04E06 The Dirty Girl.txt\n",
            "Saving S04E07 Chandler Crosses The Line.txt to S04E07 Chandler Crosses The Line.txt\n",
            "Saving S04E08 Chandler In A Box.txt to S04E08 Chandler In A Box.txt\n",
            "Saving S04E09 Theyre Going To Party.txt to S04E09 Theyre Going To Party.txt\n",
            "Saving S04E10 The Girl From Poughkeepsie.txt to S04E10 The Girl From Poughkeepsie.txt\n",
            "Saving S04E11 Phoebes Uterus.txt to S04E11 Phoebes Uterus.txt\n",
            "Saving S04E12 The Embryos.txt to S04E12 The Embryos.txt\n",
            "Saving S04E13 Rachels Crush.txt to S04E13 Rachels Crush.txt\n",
            "Saving S04E14 Joeys Dirty Day.txt to S04E14 Joeys Dirty Day.txt\n",
            "Saving S04E15 All The Rugby.txt to S04E15 All The Rugby.txt\n",
            "Saving S04E16 The Fake Party.txt to S04E16 The Fake Party.txt\n",
            "Saving S04E17 The Free Porn.txt to S04E17 The Free Porn.txt\n",
            "Saving S04E18 Rachels New Dress.txt to S04E18 Rachels New Dress.txt\n",
            "Saving S04E19 All The Haste.txt to S04E19 All The Haste.txt\n",
            "Saving S04E20 The Wedding Dresses.txt to S04E20 The Wedding Dresses.txt\n",
            "Saving S04E21 The Invitation.txt to S04E21 The Invitation.txt\n",
            "Saving S04E22 The Worst Best Man Ever.txt to S04E22 The Worst Best Man Ever.txt\n",
            "Saving S04E23 Rosss Wedding.txt to S04E23 Rosss Wedding.txt\n",
            "Saving S05E01 Ross Says Rachel.txt to S05E01 Ross Says Rachel.txt\n",
            "Saving S05E02 All The Kissing.txt to S05E02 All The Kissing.txt\n",
            "Saving S05E03 Hundredth.txt to S05E03 Hundredth.txt\n",
            "Saving S05E04 Phoebe Hates PBS.txt to S05E04 Phoebe Hates PBS.txt\n",
            "Saving S05E05 The Kips.txt to S05E05 The Kips.txt\n",
            "Saving S05E06 The Yeti.txt to S05E06 The Yeti.txt\n",
            "Saving S05E07 Ross Moves In.txt to S05E07 Ross Moves In.txt\n",
            "Saving S05E08 The Thanksgiving Flashbacks.txt to S05E08 The Thanksgiving Flashbacks.txt\n",
            "Saving S05E09 Rosss Sandwich.txt to S05E09 Rosss Sandwich.txt\n",
            "Saving S05E10 The Inappropriate Sister.txt to S05E10 The Inappropriate Sister.txt\n",
            "Saving S05E11 All The Resolutions.txt to S05E11 All The Resolutions.txt\n",
            "Saving S05E12 Chandlers Work Laugh.txt to S05E12 Chandlers Work Laugh.txt\n",
            "Saving S05E13 Joeys Bag.txt to S05E13 Joeys Bag.txt\n",
            "Saving S05E14 Everybody Finds Out.txt to S05E14 Everybody Finds Out.txt\n",
            "Saving S05E15 The Girl Who Hits Joey.txt to S05E15 The Girl Who Hits Joey.txt\n",
            "Saving S05E16 The Cop.txt to S05E16 The Cop.txt\n",
            "Saving S05E17 Rachels Inadvertant Kiss.txt to S05E17 Rachels Inadvertant Kiss.txt\n",
            "Saving S05E18 Rachel Smokes.txt to S05E18 Rachel Smokes.txt\n",
            "Saving S05E19 Ross Cant Flirt.txt to S05E19 Ross Cant Flirt.txt\n",
            "Saving S05E20 The Ride Along.txt to S05E20 The Ride Along.txt\n",
            "Saving S05E21 The Ball.txt to S05E21 The Ball.txt\n",
            "Saving S05E22 Joeys Big Break.txt to S05E22 Joeys Big Break.txt\n",
            "Saving S05E23 In Vegas.txt to S05E23 In Vegas.txt\n",
            "Saving S06E01 Vegas.txt to S06E01 Vegas.txt\n",
            "Saving S06E02 Ross Hugs Rachel.txt to S06E02 Ross Hugs Rachel.txt\n",
            "Saving S06E03 Rosss Denial.txt to S06E03 Rosss Denial.txt\n",
            "Saving S06E04 Joey Loses His Insurance.txt to S06E04 Joey Loses His Insurance.txt\n",
            "Saving S06E05 Joeys Porsche.txt to S06E05 Joeys Porsche.txt\n",
            "Saving S06E06 On The Last Night.txt to S06E06 On The Last Night.txt\n",
            "Saving S06E07 Phoebe Runs.txt to S06E07 Phoebe Runs.txt\n",
            "Saving S06E08 Rosss Teeth.txt to S06E08 Rosss Teeth.txt\n",
            "Saving S06E09 Ross Got High.txt to S06E09 Ross Got High.txt\n",
            "Saving S06E10 The Routine.txt to S06E10 The Routine.txt\n",
            "Saving S06E11 The Apothecary Table.txt to S06E11 The Apothecary Table.txt\n",
            "Saving S06E12 The Joke.txt to S06E12 The Joke.txt\n",
            "Saving S06E13 Rachels Sister.txt to S06E13 Rachels Sister.txt\n",
            "Saving S06E14 Chandler Cant Cry.txt to S06E14 Chandler Cant Cry.txt\n",
            "Saving S06E15-S06E16 That Could Have Been Part I  II.txt to S06E15-S06E16 That Could Have Been Part I  II.txt\n",
            "Saving S06E17 Unagi.txt to S06E17 Unagi.txt\n",
            "Saving S06E18 Ross Dates A Student.txt to S06E18 Ross Dates A Student.txt\n",
            "Saving S06E19 Joeys Fridge.txt to S06E19 Joeys Fridge.txt\n",
            "Saving S06E20 Mac And C.H.E.E.S.E..txt to S06E20 Mac And C.H.E.E.S.E..txt\n",
            "Saving S06E21 Ross Meets Elizabeths Dad.txt to S06E21 Ross Meets Elizabeths Dad.txt\n",
            "Saving S06E22 Pauls The Man.txt to S06E22 Pauls The Man.txt\n",
            "Saving S06E23 The Ring.txt to S06E23 The Ring.txt\n",
            "Saving S06E24 The Proposal Part I  II.txt to S06E24 The Proposal Part I  II.txt\n",
            "Saving S07E01 Monicas Thunder.txt to S07E01 Monicas Thunder.txt\n",
            "Saving S07E02 Rachels Book.txt to S07E02 Rachels Book.txt\n",
            "Saving S07E03 Phoebes Cookies.txt to S07E03 Phoebes Cookies.txt\n",
            "Saving S07E04 Rachels Assistant.txt to S07E04 Rachels Assistant.txt\n",
            "Saving S07E05 The Engagement Picture.txt to S07E05 The Engagement Picture.txt\n",
            "Saving S07E06 The Nap Partners.txt to S07E06 The Nap Partners.txt\n",
            "Saving S07E07 Rosss Library Book.txt to S07E07 Rosss Library Book.txt\n",
            "Saving S07E08 Chandler Doesnt Like Dogs.txt to S07E08 Chandler Doesnt Like Dogs.txt\n",
            "Saving S07E09 All The Candy.txt to S07E09 All The Candy.txt\n",
            "Saving S07E10 The Huliday Armadillo.txt to S07E10 The Huliday Armadillo.txt\n",
            "Saving S07E11 All The Cheesecakes.txt to S07E11 All The Cheesecakes.txt\n",
            "Saving S07E12 Theyre Up All Night.txt to S07E12 Theyre Up All Night.txt\n",
            "Saving S07E13 Rosita Dies.txt to S07E13 Rosita Dies.txt\n",
            "Saving S07E14 They All Turn Thirty.txt to S07E14 They All Turn Thirty.txt\n",
            "Saving S07E15 Joeys New Brain.txt to S07E15 Joeys New Brain.txt\n",
            "Saving S07E16 The Truth About London.txt to S07E16 The Truth About London.txt\n",
            "Saving S07E17 The Cheap Wedding Dress.txt to S07E17 The Cheap Wedding Dress.txt\n",
            "Saving S07E18 Joeys Award.txt to S07E18 Joeys Award.txt\n",
            "Saving S07E19 Ross And Monicas Cousin.txt to S07E19 Ross And Monicas Cousin.txt\n",
            "Saving S07E20 Rachels Big Kiss.txt to S07E20 Rachels Big Kiss.txt\n",
            "Saving S07E21 The Vows.txt to S07E21 The Vows.txt\n",
            "Saving S07E22 Chandlers Dad.txt to S07E22 Chandlers Dad.txt\n",
            "Saving S07E23 Chandler And Monicas Wedding.txt to S07E23 Chandler And Monicas Wedding.txt\n",
            "Saving S07E24 Friends Special The Stuff Youve Never Seen.txt to S07E24 Friends Special The Stuff Youve Never Seen.txt\n",
            "Saving S08E01 I Do.txt to S08E01 I Do.txt\n",
            "Saving S08E02 The Red Sweater.txt to S08E02 The Red Sweater.txt\n",
            "Saving S08E03 Rachel Tells....txt to S08E03 Rachel Tells....txt\n",
            "Saving S08E04 The Videotape.txt to S08E04 The Videotape.txt\n",
            "Saving S08E05 Rachels Date.txt to S08E05 Rachels Date.txt\n",
            "Saving S08E06 The Halloween Party.txt to S08E06 The Halloween Party.txt\n",
            "Saving S08E07 The Stain.txt to S08E07 The Stain.txt\n",
            "Saving S08E08 The Stripper.txt to S08E08 The Stripper.txt\n",
            "Saving S08E09 The Rumor.txt to S08E09 The Rumor.txt\n",
            "Saving S08E10 Monicas Boots.txt to S08E10 Monicas Boots.txt\n",
            "Saving S08E11 Rosss Step Forward.txt to S08E11 Rosss Step Forward.txt\n",
            "Saving S08E12 Joey Dates Rachel.txt to S08E12 Joey Dates Rachel.txt\n",
            "Saving S08E13 Chandler Takes A Bath.txt to S08E13 Chandler Takes A Bath.txt\n",
            "Saving S08E14 The Secret Closet.txt to S08E14 The Secret Closet.txt\n",
            "Saving S08E15 The Birthing Video.txt to S08E15 The Birthing Video.txt\n",
            "Saving S08E16 Joey Tells Rachel.txt to S08E16 Joey Tells Rachel.txt\n",
            "Saving S08E17 The Tea Leaves.txt to S08E17 The Tea Leaves.txt\n",
            "Saving S08E18 In Massapequa.txt to S08E18 In Massapequa.txt\n",
            "Saving S08E19 Joeys Interview.txt to S08E19 Joeys Interview.txt\n",
            "Saving S08E20 The Baby Shower.txt to S08E20 The Baby Shower.txt\n",
            "Saving S08E21 The Cooking Class.txt to S08E21 The Cooking Class.txt\n",
            "Saving S08E22 Rachel Is Late.txt to S08E22 Rachel Is Late.txt\n",
            "Saving S08E23 Rachel Has A Baby.txt to S08E23 Rachel Has A Baby.txt\n",
            "Saving S09E01 No One Proposes.txt to S09E01 No One Proposes.txt\n",
            "Saving S09E02 Emma Cries.txt to S09E02 Emma Cries.txt\n",
            "Saving S09E03 The Pediatrician.txt to S09E03 The Pediatrician.txt\n",
            "Saving S09E04 The Sharks.txt to S09E04 The Sharks.txt\n",
            "Saving S09E05 Phoebes Birthday Dinner.txt to S09E05 Phoebes Birthday Dinner.txt\n",
            "Saving S09E06 The Male Nanny.txt to S09E06 The Male Nanny.txt\n",
            "Saving S09E07 Rosss Inappropriate Song.txt to S09E07 Rosss Inappropriate Song.txt\n",
            "Saving S09E08 Rachels Other Sister.txt to S09E08 Rachels Other Sister.txt\n",
            "Saving S09E09 Rachels Phone Number.txt to S09E09 Rachels Phone Number.txt\n",
            "Saving S09E10 Christmas In Tulsa.txt to S09E10 Christmas In Tulsa.txt\n",
            "Saving S09E11 Rachel Goes Back To Work.txt to S09E11 Rachel Goes Back To Work.txt\n",
            "Saving S09E12 Phoebes Rats.txt to S09E12 Phoebes Rats.txt\n",
            "Saving S09E13 Monica Sings.txt to S09E13 Monica Sings.txt\n",
            "Saving S09E14 The Blind Dates.txt to S09E14 The Blind Dates.txt\n",
            "Saving S09E15 The Mugging.txt to S09E15 The Mugging.txt\n",
            "Saving S09E16 The Boob Job.txt to S09E16 The Boob Job.txt\n",
            "Saving S09E17 The Memorial Service.txt to S09E17 The Memorial Service.txt\n",
            "Saving S09E18 The Lottery.txt to S09E18 The Lottery.txt\n",
            "Saving S09E19 Rachels Dream.txt to S09E19 Rachels Dream.txt\n",
            "Saving S09E20 The Soap Opera Party.txt to S09E20 The Soap Opera Party.txt\n",
            "Saving S09E21 The Fertility Test.txt to S09E21 The Fertility Test.txt\n",
            "Saving S09E22 The Donor.txt to S09E22 The Donor.txt\n",
            "Saving S09E23-S09E24 In Barbados.txt to S09E23-S09E24 In Barbados.txt\n",
            "Saving S10E01 Joey and Rachel Kiss.txt to S10E01 Joey and Rachel Kiss.txt\n",
            "Saving S10E02 Ross Is Fine.txt to S10E02 Ross Is Fine.txt\n",
            "Saving S10E03 Rosss Tan.txt to S10E03 Rosss Tan.txt\n",
            "Saving S10E04 The Cake.txt to S10E04 The Cake.txt\n",
            "Saving S10E05 Rachels Sister Babysits.txt to S10E05 Rachels Sister Babysits.txt\n",
            "Saving S10E06 Rosss Grant.txt to S10E06 Rosss Grant.txt\n",
            "Saving S10E07 The Home Study.txt to S10E07 The Home Study.txt\n",
            "Saving S10E08 The Late Thanksgiving.txt to S10E08 The Late Thanksgiving.txt\n",
            "Saving S10E09 The Birth Mother.txt to S10E09 The Birth Mother.txt\n",
            "Saving S10E10 Chandler Gets Caught.txt to S10E10 Chandler Gets Caught.txt\n",
            "Saving S10E11 The Stripper Cries.txt to S10E11 The Stripper Cries.txt\n",
            "Saving S10E12 Phoebes Wedding.txt to S10E12 Phoebes Wedding.txt\n",
            "Saving S10E13 Joey Speaks French.txt to S10E13 Joey Speaks French.txt\n",
            "Saving S10E14 Princess Consuela.txt to S10E14 Princess Consuela.txt\n",
            "Saving S10E15 Estelle Dies.txt to S10E15 Estelle Dies.txt\n",
            "Saving S10E16 Rachels Going Away Party.txt to S10E16 Rachels Going Away Party.txt\n",
            "Saving S10E17-S10E18 The Last One Part I  II.txt to S10E17-S10E18 The Last One Part I  II.txt\n"
          ]
        }
      ],
      "source": [
        "#uploado manual das legendas\n",
        "uploaded = files.upload()"
      ]
    },
    {
      "cell_type": "markdown",
      "metadata": {
        "id": "e2Y-xT4s27gM"
      },
      "source": [
        "### Extração de Falas por Personagem"
      ]
    },
    {
      "cell_type": "code",
      "execution_count": null,
      "metadata": {
        "id": "NKXJ6UtM9tkX"
      },
      "outputs": [],
      "source": [
        "#Leitura e Extração das Falas dos Arquivos .txt\n",
        "\n",
        "import os\n",
        "import re\n",
        "\n",
        "#Resetar as variáveis\n",
        "personagens_principais = [\"phoebe\", \"chandler\", \"rachel\", \"monica\", \"ross\", \"joey\"]\n",
        "falas_por_personagem = {nome.upper(): [] for nome in personagens_principais}\n",
        "\n",
        "arquivos_legendas = sorted([f for f in os.listdir(\"/content\") if f.endswith(\".txt\")])\n",
        "\n",
        "for nome_arquivo in arquivos_legendas:\n",
        "    with open(nome_arquivo, \"r\", encoding=\"utf-8\") as f:\n",
        "        for linha in f:\n",
        "            linha = linha.strip()\n",
        "\n",
        "            for personagem in personagens_principais:\n",
        "                if linha.lower().startswith(personagem + \":\"):\n",
        "                    fala = linha.split(\":\", 1)[1].strip()\n",
        "                    fala = re.sub(r\"\\([^)]*\\)\", \"\", fala)  # remove parênteses\n",
        "                    fala = fala.lower()\n",
        "                    if fala:\n",
        "                        falas_por_personagem[personagem.upper()].append(fala)\n",
        "\n"
      ]
    },
    {
      "cell_type": "code",
      "execution_count": null,
      "metadata": {
        "colab": {
          "base_uri": "https://localhost:8080/"
        },
        "id": "QOpCvFT3CN6W",
        "outputId": "6118511c-3b00-452b-a133-f7a6ecac2241"
      },
      "outputs": [
        {
          "name": "stdout",
          "output_type": "stream",
          "text": [
            "Personagens disponíveis em falas_por_personagem:\n",
            "dict_keys(['PHOEBE', 'CHANDLER', 'RACHEL', 'MONICA', 'ROSS', 'JOEY'])\n"
          ]
        }
      ],
      "source": [
        "print(\"Personagens disponíveis em falas_por_personagem:\")\n",
        "print(falas_por_personagem.keys())"
      ]
    },
    {
      "cell_type": "code",
      "execution_count": null,
      "metadata": {
        "colab": {
          "base_uri": "https://localhost:8080/"
        },
        "id": "_NqdWWA_B3NT",
        "outputId": "bb9bac38-f895-48cb-b59e-fb815e2c071b"
      },
      "outputs": [
        {
          "name": "stdout",
          "output_type": "stream",
          "text": [
            "falas do RACHEL:\n",
            "- oh god monica hi! thank god! i just went to your building and you weren't there and then this guy with a big hammer said you might be here and you are, you are!\n",
            "- hi, sure!\n",
            "- oh god... well, it started about a half hour before the wedding. i was in the room where we were keeping all the presents, and i was looking at this gravy boat. this really gorgeous lamauge gravy boat. when all of a sudden- sweet 'n' lo?- i realized that i was more turned on by this gravy boat than by barry! and then i got really freaked out, and that's when it hit me: how much barry looks like mr. potato head. y'know, i mean, i always knew looked familiar, but... anyway, i just had to get out of there, and i started wondering 'why am i doing this, and who am i doing this for?'.  so anyway i just didn't know where to go, and i know that you and i have kinda drifted apart, but you're the only person i knew who lived here in the city.\n",
            "- ooh, i was kinda hoping that wouldn't be an issue... [scene: monica's apartment, everyone is there and watching a spanish soap on tv and are trying to figure out what is going on.]\n",
            "-  daddy, i just... i can't marry him! i'm sorry. i just don't love him. well, it matters to me!\n",
            "- c'mon daddy, listen to me! it's like, it's like, all of my life, everyone has always told me, 'you're a shoe! you're a shoe, you're a shoe, you're a shoe!'. and today i just stopped and i said, 'what if i don't wanna be a shoe? what if i wanna be a- a purse, y'know? or a- or a hat! no, i'm not saying i want you to buy me a hat, i'm saying i am a ha- it's a metaphor, daddy!\n",
            "- look daddy, it's my life. well maybe i'll just stay here with monica.\n",
            "- well, maybe that's my decision. well, maybe i don't need your money. wait!! wait, i said maybe!!\n",
            "- i'm all better now.\n",
            "- please, no, go, that'd be fine!\n"
          ]
        }
      ],
      "source": [
        "#Exibir algumas falas de Joey como exemplo\n",
        "print(\"falas do RACHEL:\")\n",
        "for fala in falas_por_personagem[\"RACHEL\"][:10]:\n",
        "    print(\"-\", fala)"
      ]
    },
    {
      "cell_type": "markdown",
      "metadata": {
        "id": "Q18DXmR527gO"
      },
      "source": [
        "### Análise Exploratória da Base de Dados"
      ]
    },
    {
      "cell_type": "code",
      "execution_count": null,
      "metadata": {
        "colab": {
          "base_uri": "https://localhost:8080/",
          "height": 610
        },
        "id": "2T3zrN2nB4XH",
        "outputId": "905c7fe7-fa65-4516-a7ef-06960d4d9291"
      },
      "outputs": [
        {
          "name": "stdout",
          "output_type": "stream",
          "text": [
            "Distribuição de falas por personagem:\n",
            "   PHOEBE: 7389 falas\n",
            " CHANDLER: 8381 falas\n",
            "   RACHEL: 9142 falas\n",
            "   MONICA: 8310 falas\n",
            "     ROSS: 9099 falas\n",
            "     JOEY: 8210 falas\n"
          ]
        },
        {
          "data": {
            "image/png": "[encoded data removed]",
            "text/plain": [
              "<Figure size 1000x500 with 1 Axes>"
            ]
          },
          "metadata": {},
          "output_type": "display_data"
        }
      ],
      "source": [
        "#Análise de Quantidade de Falas por Personagem\n",
        "\n",
        "import matplotlib.pyplot as plt\n",
        "\n",
        "#listas\n",
        "nomes = list(falas_por_personagem.keys())\n",
        "quantidades = [len(falas_por_personagem[nome]) for nome in nomes]\n",
        "\n",
        "#Exibe em texto\n",
        "print(\"Distribuição de falas por personagem:\")\n",
        "for nome, qtd in zip(nomes, quantidades):\n",
        "    print(f\"{nome:>9}: {qtd} falas\")\n",
        "\n",
        "#gráfico\n",
        "plt.figure(figsize=(10, 5))\n",
        "plt.bar(nomes, quantidades, color='skyblue')\n",
        "plt.title(\"Quantidade de falas por personagem\")\n",
        "plt.xlabel(\"Personagem\")\n",
        "plt.ylabel(\"Número de falas\")\n",
        "plt.grid(axis=\"y\", linestyle=\"--\", alpha=0.5)\n",
        "plt.show()"
      ]
    },
    {
      "cell_type": "code",
      "execution_count": null,
      "metadata": {
        "colab": {
          "base_uri": "https://localhost:8080/"
        },
        "id": "J1pJ2q6yD8WZ",
        "outputId": "f33e8290-35fc-47ea-a2db-7407bcc7bafa"
      },
      "outputs": [
        {
          "name": "stdout",
          "output_type": "stream",
          "text": [
            "Total de falas tagueadas: 50531\n",
            "Exemplo de falas com tags:\n",
            "- [PHOEBE] wait, does he eat chalk?\n",
            "- [PHOEBE] just, 'cause, i don't want her to go through what i went through with carl- oh!\n",
            "- [PHOEBE] no.\n",
            "- [PHOEBE] ooh! oh! \n",
            "- [PHOEBE] fine!  be murky!\n",
            "- [PHOEBE] if i let go of my hair, my head will fall off.\n"
          ]
        }
      ],
      "source": [
        "#Adicionar a tag [PERSONAGEM] no início de cada fala\n",
        "\n",
        "#lista única com a tag do personagem\n",
        "falas_tagged = []\n",
        "\n",
        "for personagem, falas in falas_por_personagem.items():\n",
        "    for fala in falas:\n",
        "        falas_tagged.append(f\"[{personagem}] {fala}\")\n",
        "\n",
        "print(f\"Total de falas tagueadas: {len(falas_tagged)}\")\n",
        "print(\"Exemplo de falas com tags:\")\n",
        "for fala in falas_tagged[:6]:\n",
        "    print(\"-\", fala)"
      ]
    },
    {
      "cell_type": "code",
      "execution_count": null,
      "metadata": {
        "colab": {
          "base_uri": "https://localhost:8080/"
        },
        "id": "0xX5MAAQEBVr",
        "outputId": "650ddbd9-341f-43f5-a9d7-9024fd8d89ce"
      },
      "outputs": [
        {
          "name": "stdout",
          "output_type": "stream",
          "text": [
            "Todas as classes serão aumentadas para 18284 falas.\n",
            "Total de falas no dataset final: 109704\n",
            "Exemplos de falas balanceadas:\n",
            "- [CHANDLER]  wow! listen, we had a good run. what was it? four? five months? i mean, that's more than most people have in a lifetime! so, good-bye, take care, bye-bye then! \n",
            "- [CHANDLER] hey man, what's up?\n",
            "- [PHOEBE] oh can i? vegetarians never get to do the wishbone. it's really not fair either! you know, just because we don't eat the meat doesn't mean we don't like to play with the carcasses!\n",
            "- [JOEY] check it out, giants-cowboys. \n",
            "- [CHANDLER]  i don't, and i'm offended by the insinuation!\n",
            "- [MONICA] okay!\n"
          ]
        }
      ],
      "source": [
        "#NÃO EXECUTAR\n",
        "#Aplicando oversampling para equilibrar o número de falas\n",
        "\n",
        "from random import choices, shuffle\n",
        "\n",
        "#Tamanho da maior classe\n",
        "tamanho_maximo = max(len(falas) for falas in falas_por_personagem.values())\n",
        "print(f\"Todas as classes serão aumentadas para {tamanho_maximo} falas.\")\n",
        "\n",
        "#Lista final com as falas balanceadas\n",
        "falas_balanceadas = []\n",
        "\n",
        "#oversampling\n",
        "for personagem, falas in falas_por_personagem.items():\n",
        "    falas_expandida = choices(falas, k=tamanho_maximo)\n",
        "    falas_tagged = [f\"[{personagem}] {fala}\" for fala in falas_expandida]\n",
        "    falas_balanceadas.extend(falas_tagged)\n",
        "\n",
        "\n",
        "shuffle(falas_balanceadas)\n",
        "\n",
        "print(f\"Total de falas no dataset final: {len(falas_balanceadas)}\")\n",
        "print(\"Exemplos de falas balanceadas:\")\n",
        "for fala in falas_balanceadas[:6]:\n",
        "    print(\"-\", fala)"
      ]
    },
    {
      "cell_type": "code",
      "execution_count": null,
      "metadata": {
        "colab": {
          "base_uri": "https://localhost:8080/",
          "height": 17
        },
        "id": "YW1bFYvlGkxp",
        "outputId": "66203d26-0a8e-44d5-9533-6abec1b9e82e"
      },
      "outputs": [
        {
          "data": {
            "application/javascript": "\n    async function download(id, filename, size) {\n      if (!google.colab.kernel.accessAllowed) {\n        return;\n      }\n      const div = document.createElement('div');\n      const label = document.createElement('label');\n      label.textContent = `Downloading \"${filename}\": `;\n      div.appendChild(label);\n      const progress = document.createElement('progress');\n      progress.max = size;\n      div.appendChild(progress);\n      document.body.appendChild(div);\n\n      const buffers = [];\n      let downloaded = 0;\n\n      const channel = await google.colab.kernel.comms.open(id);\n      // Send a message to notify the kernel that we're ready.\n      channel.send({})\n\n      for await (const message of channel.messages) {\n        // Send a message to notify the kernel that we're ready.\n        channel.send({})\n        if (message.buffers) {\n          for (const buffer of message.buffers) {\n            buffers.push(buffer);\n            downloaded += buffer.byteLength;\n            progress.value = downloaded;\n          }\n        }\n      }\n      const blob = new Blob(buffers, {type: 'application/binary'});\n      const a = document.createElement('a');\n      a.href = window.URL.createObjectURL(blob);\n      a.download = filename;\n      div.appendChild(a);\n      a.click();\n      div.remove();\n    }\n  ",
            "text/plain": [
              "<IPython.core.display.Javascript object>"
            ]
          },
          "metadata": {},
          "output_type": "display_data"
        },
        {
          "data": {
            "application/javascript": "download(\"download_3ec9af81-b79c-497a-9b69-e8d37393ce98\", \"falas_balanceadas.txt\", 7041894)",
            "text/plain": [
              "<IPython.core.display.Javascript object>"
            ]
          },
          "metadata": {},
          "output_type": "display_data"
        }
      ],
      "source": [
        "#NÃO EXECUTAR\n",
        "#Salvar o dataset balanceado (falas_balanceadas)\n",
        "with open(\"falas_balanceadas.txt\", \"w\", encoding=\"utf-8\") as f:\n",
        "    for linha in falas_balanceadas:\n",
        "        f.write(linha + \"\\n\")\n",
        "\n",
        "# Fazer o download do arquivo para o computador\n",
        "from google.colab import files\n",
        "files.download(\"falas_balanceadas.txt\")"
      ]
    },
    {
      "cell_type": "code",
      "execution_count": null,
      "metadata": {
        "colab": {
          "base_uri": "https://localhost:8080/",
          "height": 17
        },
        "id": "UZV9-IJVXQHS",
        "outputId": "3539ec0e-74ed-4277-ac94-767dfee66db3"
      },
      "outputs": [
        {
          "data": {
            "application/javascript": "\n    async function download(id, filename, size) {\n      if (!google.colab.kernel.accessAllowed) {\n        return;\n      }\n      const div = document.createElement('div');\n      const label = document.createElement('label');\n      label.textContent = `Downloading \"${filename}\": `;\n      div.appendChild(label);\n      const progress = document.createElement('progress');\n      progress.max = size;\n      div.appendChild(progress);\n      document.body.appendChild(div);\n\n      const buffers = [];\n      let downloaded = 0;\n\n      const channel = await google.colab.kernel.comms.open(id);\n      // Send a message to notify the kernel that we're ready.\n      channel.send({})\n\n      for await (const message of channel.messages) {\n        // Send a message to notify the kernel that we're ready.\n        channel.send({})\n        if (message.buffers) {\n          for (const buffer of message.buffers) {\n            buffers.push(buffer);\n            downloaded += buffer.byteLength;\n            progress.value = downloaded;\n          }\n        }\n      }\n      const blob = new Blob(buffers, {type: 'application/binary'});\n      const a = document.createElement('a');\n      a.href = window.URL.createObjectURL(blob);\n      a.download = filename;\n      div.appendChild(a);\n      a.click();\n      div.remove();\n    }\n  ",
            "text/plain": [
              "<IPython.core.display.Javascript object>"
            ]
          },
          "metadata": {},
          "output_type": "display_data"
        },
        {
          "data": {
            "application/javascript": "download(\"download_145c0a4d-753f-43c9-bb0f-800ae08f7154\", \"falas_tagged.txt\", 3234287)",
            "text/plain": [
              "<IPython.core.display.Javascript object>"
            ]
          },
          "metadata": {},
          "output_type": "display_data"
        }
      ],
      "source": [
        "#Salvar o dataset\n",
        "with open(\"falas_tagged.txt\", \"w\", encoding=\"utf-8\") as f:\n",
        "    for linha in falas_tagged:\n",
        "        f.write(linha + \"\\n\")\n",
        "\n",
        "#Fazer o download do arquivo para o computador\n",
        "from google.colab import files\n",
        "files.download(\"falas_tagged.txt\")"
      ]
    },
    {
      "cell_type": "markdown",
      "metadata": {
        "id": "wunoPlcB27gP"
      },
      "source": [
        "### TextVectorizer - Vetorização do texto em IDs de Tokens"
      ]
    },
    {
      "cell_type": "markdown",
      "metadata": {
        "id": "5XOEY6TtIa5D"
      },
      "source": [
        "Vamos usar TextVectorization layer para vetorizar o texto em tokens ids"
      ]
    },
    {
      "cell_type": "code",
      "execution_count": null,
      "metadata": {
        "id": "lSRQBoH4IYA1"
      },
      "outputs": [],
      "source": [
        "# criar a vectorize_layer incluindo o token especial [MASK]\n",
        "texts = falas_tagged\n",
        "\n",
        "# normalização\n",
        "def custom_standardization(input_string):\n",
        "    lowercase = tf.strings.lower(input_string)\n",
        "    clean_text = tf.strings.regex_replace(lowercase, r\"[^\\w\\s\\[\\]]\", \"\")  # mantém colchetes\n",
        "    return clean_text\n",
        "\n",
        "#criação da vectorize_layer\n",
        "def get_vectorize_layer(texts, vocab_size=30000, max_seq_length=128, special_tokens=[\"[MASK]\"]):\n",
        "    vectorize_layer = TextVectorization(\n",
        "        max_tokens=vocab_size,\n",
        "        output_mode=\"int\",\n",
        "        standardize=custom_standardization,\n",
        "        output_sequence_length=max_seq_length,\n",
        "    )\n",
        "    vectorize_layer.adapt(texts)\n",
        "\n",
        "    # Ajuste do vocabulário\n",
        "    vocab = vectorize_layer.get_vocabulary()\n",
        "    vocab = [tok for tok in vocab if tok not in [\"\", \"[UNK]\"] + special_tokens]\n",
        "    vocab = vocab[:vocab_size - len(special_tokens) - 2]\n",
        "    vocab_final = [\"\", \"[UNK]\"] + special_tokens + vocab\n",
        "    vectorize_layer.set_vocabulary(vocab_final)\n",
        "\n",
        "    # Envolve em um modelo Keras e salva\n",
        "    vectorize_model = keras.Sequential([vectorize_layer])\n",
        "    vectorize_model(tf.constant([\"exemplo de frase\"]))  # força a construção\n",
        "\n",
        "    path = \"vectorize_layer_model.keras\"\n",
        "    vectorize_model.save(path)\n",
        "    #files.download(path)\n",
        "\n",
        "    return vectorize_layer\n",
        "\n"
      ]
    },
    {
      "cell_type": "code",
      "execution_count": null,
      "metadata": {
        "colab": {
          "base_uri": "https://localhost:8080/"
        },
        "id": "iZvgMJAkZB0C",
        "outputId": "2299f636-be22-4b34-f771-937686ec793b"
      },
      "outputs": [
        {
          "name": "stdout",
          "output_type": "stream",
          "text": [
            "ID do token [MASK]: 2\n"
          ]
        }
      ],
      "source": [
        "#criar a camada com os textos:\n",
        "vectorize_layer = get_vectorize_layer(falas_tagged)\n",
        "vocab = vectorize_layer.get_vocabulary()\n",
        "\n",
        "#Cria os dicionários\n",
        "id2token = dict(enumerate(vocab))\n",
        "token2id = {token: idx for idx, token in enumerate(vocab)}\n",
        "\n",
        "#Pega o ID do token [MASK]\n",
        "if \"[MASK]\" not in token2id:\n",
        "    raise ValueError(\"[MASK] token não está no vocabulário!\")\n",
        "\n",
        "mask_token_id = token2id[\"[MASK]\"]\n",
        "print(\"ID do token [MASK]:\", mask_token_id)"
      ]
    },
    {
      "cell_type": "code",
      "execution_count": null,
      "metadata": {
        "colab": {
          "base_uri": "https://localhost:8080/",
          "height": 17
        },
        "id": "fwWrDoEGOANY",
        "outputId": "bed03133-c5ea-4b16-8d1c-be2022f98c1c"
      },
      "outputs": [
        {
          "data": {
            "application/javascript": "\n    async function download(id, filename, size) {\n      if (!google.colab.kernel.accessAllowed) {\n        return;\n      }\n      const div = document.createElement('div');\n      const label = document.createElement('label');\n      label.textContent = `Downloading \"${filename}\": `;\n      div.appendChild(label);\n      const progress = document.createElement('progress');\n      progress.max = size;\n      div.appendChild(progress);\n      document.body.appendChild(div);\n\n      const buffers = [];\n      let downloaded = 0;\n\n      const channel = await google.colab.kernel.comms.open(id);\n      // Send a message to notify the kernel that we're ready.\n      channel.send({})\n\n      for await (const message of channel.messages) {\n        // Send a message to notify the kernel that we're ready.\n        channel.send({})\n        if (message.buffers) {\n          for (const buffer of message.buffers) {\n            buffers.push(buffer);\n            downloaded += buffer.byteLength;\n            progress.value = downloaded;\n          }\n        }\n      }\n      const blob = new Blob(buffers, {type: 'application/binary'});\n      const a = document.createElement('a');\n      a.href = window.URL.createObjectURL(blob);\n      a.download = filename;\n      div.appendChild(a);\n      a.click();\n      div.remove();\n    }\n  ",
            "text/plain": [
              "<IPython.core.display.Javascript object>"
            ]
          },
          "metadata": {},
          "output_type": "display_data"
        },
        {
          "data": {
            "application/javascript": "download(\"download_6bcd1588-64a6-441f-9bdb-c6df8de74a0e\", \"vectorize_layer_model.keras\", 276669)",
            "text/plain": [
              "<IPython.core.display.Javascript object>"
            ]
          },
          "metadata": {},
          "output_type": "display_data"
        }
      ],
      "source": [
        "# Empacotar a camada em um modelo\n",
        "vectorize_model = keras.Sequential([vectorize_layer])\n",
        "\n",
        "# Executar uma previsão exemplo para construir o modelo\n",
        "vectorize_model(tf.constant([\"exemplo de texto\"]))\n",
        "\n",
        "# Salvar o modelo em disco\n",
        "vectorize_model.save(\"vectorize_layer_model.keras\")\n",
        "\n",
        "# Fazer o download para o computador\n",
        "files.download(\"vectorize_layer_model.keras\")"
      ]
    },
    {
      "cell_type": "code",
      "execution_count": null,
      "metadata": {
        "id": "SonLtIg5exmr"
      },
      "outputs": [],
      "source": [
        "#Aplica a vetorização nas falas\n",
        "def encode(texts, vectorize_layer):\n",
        "    encoded_texts = vectorize_layer(texts)\n",
        "    return encoded_texts.numpy()"
      ]
    },
    {
      "cell_type": "markdown",
      "metadata": {
        "id": "mTiJKYDW27gR"
      },
      "source": [
        "### BERT-Style Masking"
      ]
    },
    {
      "cell_type": "code",
      "execution_count": null,
      "metadata": {
        "id": "V-Efd6IBg79T"
      },
      "outputs": [],
      "source": [
        "#Função para aplicar o BERT-style masking\n",
        "def get_masked_input_and_labels(encoded_texts, mask_token_id):\n",
        "    # 15% de probabilidade para máscara\n",
        "    inp_mask = np.random.rand(*encoded_texts.shape) < 0.15\n",
        "\n",
        "    # Não mascara tokens especiais (ID 0 = padding, 1 = OOV, 2 = MASK)\n",
        "    inp_mask[encoded_texts <= 2] = False\n",
        "\n",
        "    # Labels: -1 nos tokens que não serão previstos\n",
        "    labels = -1 * np.ones(encoded_texts.shape, dtype=int)\n",
        "    labels[inp_mask] = encoded_texts[inp_mask]\n",
        "\n",
        "    # Cópia da entrada original para aplicar modificações\n",
        "    encoded_texts_masked = np.copy(encoded_texts)\n",
        "\n",
        "    # 90% dos tokens selecionados viram [MASK]\n",
        "    inp_mask_2mask = inp_mask & (np.random.rand(*encoded_texts.shape) < 0.90)\n",
        "    encoded_texts_masked[inp_mask_2mask] = mask_token_id\n",
        "\n",
        "    # 10% viram tokens aleatórios\n",
        "    inp_mask_2random = inp_mask & (np.random.rand(*encoded_texts.shape) < 0.10)\n",
        "    encoded_texts_masked[inp_mask_2random] = np.random.randint(\n",
        "        3, len(vectorize_layer.get_vocabulary()), inp_mask_2random.sum()\n",
        "    )\n",
        "\n",
        "    # Pesos: só computa loss onde o label não é -1\n",
        "    sample_weights = np.ones(labels.shape, dtype=np.float32)\n",
        "    sample_weights[labels == -1] = 0\n",
        "\n",
        "    # y_labels would be same as encoded_texts i.e input tokens\n",
        "    y_labels = np.copy(encoded_texts)\n",
        "\n",
        "    return encoded_texts_masked, y_labels, sample_weights"
      ]
    },
    {
      "cell_type": "code",
      "execution_count": null,
      "metadata": {
        "id": "Nq7tea3qeITm"
      },
      "outputs": [],
      "source": [
        "#Codifica os textos\n",
        "x_all_encoded = encode(falas_tagged, vectorize_layer)\n",
        "\n",
        "#aplica o masking\n",
        "x_masked, y_labels, sample_weights = get_masked_input_and_labels(\n",
        "    x_all_encoded, mask_token_id\n",
        ")\n",
        "\n",
        "#Cria o dataset final\n",
        "mlm_ds = tf.data.Dataset.from_tensor_slices(\n",
        "    (x_masked, y_labels, sample_weights)\n",
        ").shuffle(1000).batch(32)"
      ]
    },
    {
      "cell_type": "code",
      "execution_count": null,
      "metadata": {
        "colab": {
          "base_uri": "https://localhost:8080/"
        },
        "id": "oL38RUBWjY8B",
        "outputId": "93f40c7d-262b-461b-9060-a1f99f7c2d5f"
      },
      "outputs": [
        {
          "name": "stdout",
          "output_type": "stream",
          "text": [
            "Entrada (com [MASK]): [  14    4   35    7    2 2401    0    0    0    0    0    0    0    0\n",
            "    0    0    0    0    0    0    0    0    0    0    0    0    0    0\n",
            "    0    0    0    0    0    0    0    0    0    0    0    0    0    0\n",
            "    0    0    0    0    0    0    0    0    0    0    0    0    0    0\n",
            "    0    0    0    0    0    0    0    0    0    0    0    0    0    0\n",
            "    0    0    0    0    0    0    0    0    0    0    0    0    0    0\n",
            "    0    0    0    0    0    0    0    0    0    0    0    0    0    0\n",
            "    0    0    0    0    0    0    0    0    0    0    0    0    0    0\n",
            "    0    0    0    0    0    0    0    0    0    0    0    0    0    0\n",
            "    0    0]\n",
            "Rótulos corretos     : [  14    4   35    7  778 2401    0    0    0    0    0    0    0    0\n",
            "    0    0    0    0    0    0    0    0    0    0    0    0    0    0\n",
            "    0    0    0    0    0    0    0    0    0    0    0    0    0    0\n",
            "    0    0    0    0    0    0    0    0    0    0    0    0    0    0\n",
            "    0    0    0    0    0    0    0    0    0    0    0    0    0    0\n",
            "    0    0    0    0    0    0    0    0    0    0    0    0    0    0\n",
            "    0    0    0    0    0    0    0    0    0    0    0    0    0    0\n",
            "    0    0    0    0    0    0    0    0    0    0    0    0    0    0\n",
            "    0    0    0    0    0    0    0    0    0    0    0    0    0    0\n",
            "    0    0]\n",
            "Pesos (sample_weights): [0. 0. 0. 0. 1. 0. 0. 0. 0. 0. 0. 0. 0. 0. 0. 0. 0. 0. 0. 0. 0. 0. 0. 0.\n",
            " 0. 0. 0. 0. 0. 0. 0. 0. 0. 0. 0. 0. 0. 0. 0. 0. 0. 0. 0. 0. 0. 0. 0. 0.\n",
            " 0. 0. 0. 0. 0. 0. 0. 0. 0. 0. 0. 0. 0. 0. 0. 0. 0. 0. 0. 0. 0. 0. 0. 0.\n",
            " 0. 0. 0. 0. 0. 0. 0. 0. 0. 0. 0. 0. 0. 0. 0. 0. 0. 0. 0. 0. 0. 0. 0. 0.\n",
            " 0. 0. 0. 0. 0. 0. 0. 0. 0. 0. 0. 0. 0. 0. 0. 0. 0. 0. 0. 0. 0. 0. 0. 0.\n",
            " 0. 0. 0. 0. 0. 0. 0. 0.]\n"
          ]
        }
      ],
      "source": [
        "#Visualiza uma amostra do dataset\n",
        "for batch in mlm_ds.take(1):\n",
        "    input_ids, labels, weights = batch\n",
        "    print(\"Entrada (com [MASK]):\", input_ids[0].numpy())\n",
        "    print(\"Rótulos corretos     :\", labels[0].numpy())\n",
        "    print(\"Pesos (sample_weights):\", weights[0].numpy())"
      ]
    },
    {
      "cell_type": "markdown",
      "metadata": {
        "id": "y_qkb_0Kjvtz"
      },
      "source": [
        "### Modelagem BERT"
      ]
    },
    {
      "cell_type": "code",
      "execution_count": null,
      "metadata": {
        "id": "DWgOaZFFjc4W"
      },
      "outputs": [],
      "source": [
        "import tensorflow as tf\n",
        "from tensorflow import keras\n",
        "from tensorflow.keras import layers\n",
        "\n",
        "#Hiperparâmetros\n",
        "EMBED_DIM = 128\n",
        "NUM_HEAD = 4\n",
        "FF_DIM = 256\n",
        "NUM_LAYERS = 4\n",
        "VOCAB_SIZE = 30000\n",
        "MAX_LEN = 128\n",
        "LR = 1e-4\n",
        "\n",
        "#criar um bloco BERT\n",
        "def bert_module(query, key, value, i):\n",
        "    attention_output = layers.MultiHeadAttention(\n",
        "        num_heads=NUM_HEAD,\n",
        "        key_dim=EMBED_DIM // NUM_HEAD,\n",
        "        name=f\"encoder_{i}_multiheadattention\"\n",
        "    )(query, key, value)\n",
        "\n",
        "    attention_output = layers.Dropout(0.1, name=f\"encoder_{i}_att_dropout\")(attention_output)\n",
        "    attention_output = layers.LayerNormalization(epsilon=1e-4, name=f\"encoder_{i}_att_layernormalization\")(query + attention_output)\n",
        "\n",
        "    ffn = keras.Sequential([\n",
        "        layers.Dense(FF_DIM, activation=\"relu\"),\n",
        "        layers.Dense(EMBED_DIM)\n",
        "    ], name=f\"encoder_{i}_ffn\")\n",
        "\n",
        "    ffn_output = ffn(attention_output)\n",
        "    ffn_output = layers.Dropout(0.1, name=f\"encoder_{i}_ffn_dropout\")(ffn_output)\n",
        "    output = layers.LayerNormalization(epsilon=1e-4, name=f\"encoder_{i}_ffn_layernormalization\")(attention_output + ffn_output)\n",
        "\n",
        "    return output\n"
      ]
    },
    {
      "cell_type": "code",
      "execution_count": null,
      "metadata": {
        "id": "GDUiSEodkXMm"
      },
      "outputs": [],
      "source": [
        "#Função de perda e métrica\n",
        "loss_fn = keras.losses.SparseCategoricalCrossentropy(reduction=\"none\")\n",
        "loss_tracker = keras.metrics.Mean(name=\"loss\")\n",
        "\n",
        "#Modelo de linguagem mascarada\n",
        "class MaskedLanguageModel(keras.Model):\n",
        "    def compute_loss(self, x=None, y=None, y_pred=None, sample_weight=None):\n",
        "        loss = loss_fn(y, y_pred, sample_weight)\n",
        "        loss_tracker.update_state(loss, sample_weight=sample_weight)\n",
        "        return tf.reduce_sum(loss)\n",
        "\n",
        "    def compute_metrics(self, x, y, y_pred, sample_weight):\n",
        "        return {\"loss\": loss_tracker.result()}\n",
        "\n",
        "    @property\n",
        "    def metrics(self):\n",
        "        return [loss_tracker]"
      ]
    },
    {
      "cell_type": "code",
      "execution_count": null,
      "metadata": {
        "id": "wIgzfkGEkn9D"
      },
      "outputs": [],
      "source": [
        "#Monta o Modelo BERT para MLM\n",
        "import keras_nlp\n",
        "\n",
        "def create_masked_language_bert_model():\n",
        "    inputs = layers.Input(shape=(MAX_LEN,), dtype=\"int64\", name=\"input_ids\")\n",
        "\n",
        "    # Word embeddings\n",
        "    word_embeddings = layers.Embedding(\n",
        "        input_dim=VOCAB_SIZE,\n",
        "        output_dim=EMBED_DIM,\n",
        "        name=\"word_embedding\"\n",
        "    )(inputs)\n",
        "\n",
        "    # Positional embeddings\n",
        "    position_embeddings = keras_nlp.layers.PositionEmbedding(\n",
        "        sequence_length=MAX_LEN,\n",
        "        name=\"position_embedding\"\n",
        "    )(word_embeddings)\n",
        "\n",
        "    # Soma dos embeddings\n",
        "    embeddings = word_embeddings + position_embeddings\n",
        "\n",
        "    # Encoder BERT\n",
        "    x = embeddings\n",
        "    for i in range(NUM_LAYERS):\n",
        "        x = bert_module(x, x, x, i)\n",
        "\n",
        "    # MLM head\n",
        "    outputs = layers.Dense(VOCAB_SIZE, activation=\"softmax\", name=\"mlm_cls\")(x)\n",
        "\n",
        "    # Modelo final\n",
        "    model = MaskedLanguageModel(inputs, outputs, name=\"friends_masked_bert_model\")\n",
        "    model.compile(optimizer=keras.optimizers.Adam(learning_rate=LR))\n",
        "\n",
        "    return model"
      ]
    },
    {
      "cell_type": "code",
      "execution_count": null,
      "metadata": {
        "id": "6QaxgBFGk7OO"
      },
      "outputs": [],
      "source": [
        "#mlm_ds com os tensores\n",
        "mlm_ds = tf.data.Dataset.from_tensor_slices((x_masked, y_labels, sample_weights))\n",
        "mlm_ds = mlm_ds.shuffle(1000).batch(32)"
      ]
    },
    {
      "cell_type": "code",
      "execution_count": null,
      "metadata": {
        "colab": {
          "base_uri": "https://localhost:8080/",
          "height": 17
        },
        "id": "oo7BOOjglB0_",
        "outputId": "436d9455-d5da-4a55-feec-3edb465bc7a7"
      },
      "outputs": [
        {
          "data": {
            "application/javascript": "\n    async function download(id, filename, size) {\n      if (!google.colab.kernel.accessAllowed) {\n        return;\n      }\n      const div = document.createElement('div');\n      const label = document.createElement('label');\n      label.textContent = `Downloading \"${filename}\": `;\n      div.appendChild(label);\n      const progress = document.createElement('progress');\n      progress.max = size;\n      div.appendChild(progress);\n      document.body.appendChild(div);\n\n      const buffers = [];\n      let downloaded = 0;\n\n      const channel = await google.colab.kernel.comms.open(id);\n      // Send a message to notify the kernel that we're ready.\n      channel.send({})\n\n      for await (const message of channel.messages) {\n        // Send a message to notify the kernel that we're ready.\n        channel.send({})\n        if (message.buffers) {\n          for (const buffer of message.buffers) {\n            buffers.push(buffer);\n            downloaded += buffer.byteLength;\n            progress.value = downloaded;\n          }\n        }\n      }\n      const blob = new Blob(buffers, {type: 'application/binary'});\n      const a = document.createElement('a');\n      a.href = window.URL.createObjectURL(blob);\n      a.download = filename;\n      div.appendChild(a);\n      a.click();\n      div.remove();\n    }\n  ",
            "text/plain": [
              "<IPython.core.display.Javascript object>"
            ]
          },
          "metadata": {},
          "output_type": "display_data"
        },
        {
          "data": {
            "application/javascript": "download(\"download_7c2a5e2c-399e-47d5-82b9-7e9dd21c516e\", \"bert_mlm_friends.keras\", 33217814)",
            "text/plain": [
              "<IPython.core.display.Javascript object>"
            ]
          },
          "metadata": {},
          "output_type": "display_data"
        }
      ],
      "source": [
        "#Cria o modelo e salva\n",
        "from google.colab import files\n",
        "\n",
        "\n",
        "mlm_model = create_masked_language_bert_model()\n",
        "mlm_model.save(\"bert_mlm_friends.keras\")\n",
        "\n",
        "#Faz download do arquivo\n",
        "files.download(\"bert_mlm_friends.keras\")"
      ]
    },
    {
      "cell_type": "markdown",
      "metadata": {
        "id": "ceyrbPJS27gS"
      },
      "source": [
        "### Treinamento do Modelo BERT"
      ]
    },
    {
      "cell_type": "code",
      "execution_count": null,
      "metadata": {
        "colab": {
          "base_uri": "https://localhost:8080/",
          "height": 443
        },
        "id": "VVqm7yFLlFVO",
        "outputId": "750517a6-a576-407a-9adf-23fa3585ce84"
      },
      "outputs": [
        {
          "name": "stdout",
          "output_type": "stream",
          "text": [
            "Epoch 1/5\n"
          ]
        },
        {
          "name": "stderr",
          "output_type": "stream",
          "text": [
            "/usr/local/lib/python3.11/dist-packages/keras/src/saving/saving_lib.py:757: UserWarning: Skipping variable loading for optimizer 'adam', because it has 138 variables whereas the saved optimizer has 2 variables. \n",
            "  saveable.load_own_variables(weights_store.get(inner_path))\n"
          ]
        },
        {
          "name": "stdout",
          "output_type": "stream",
          "text": [
            "\u001b[1m1580/1580\u001b[0m \u001b[32m━━━━━━━━━━━━━━━━━━━━\u001b[0m\u001b[37m\u001b[0m \u001b[1m0s\u001b[0m 23ms/step - loss: 3.7310\n",
            "Epoch 1: loss improved from inf to 1.60996, saving model to checkpoints/bert_mlm_best.keras\n",
            "\u001b[1m1580/1580\u001b[0m \u001b[32m━━━━━━━━━━━━━━━━━━━━\u001b[0m\u001b[37m\u001b[0m \u001b[1m67s\u001b[0m 23ms/step - loss: 3.7297\n",
            "Epoch 2/5\n",
            "\u001b[1m1575/1580\u001b[0m \u001b[32m━━━━━━━━━━━━━━━━━━━\u001b[0m\u001b[37m━\u001b[0m \u001b[1m0s\u001b[0m 11ms/step - loss: 0.2968\n",
            "Epoch 2: loss improved from 1.60996 to 0.24415, saving model to checkpoints/bert_mlm_best.keras\n",
            "\u001b[1m1580/1580\u001b[0m \u001b[32m━━━━━━━━━━━━━━━━━━━━\u001b[0m\u001b[37m\u001b[0m \u001b[1m18s\u001b[0m 12ms/step - loss: 0.2966\n",
            "Epoch 3/5\n",
            "\u001b[1m1576/1580\u001b[0m \u001b[32m━━━━━━━━━━━━━━━━━━━\u001b[0m\u001b[37m━\u001b[0m \u001b[1m0s\u001b[0m 11ms/step - loss: 0.1813\n",
            "Epoch 3: loss improved from 0.24415 to 0.16393, saving model to checkpoints/bert_mlm_best.keras\n",
            "\u001b[1m1580/1580\u001b[0m \u001b[32m━━━━━━━━━━━━━━━━━━━━\u001b[0m\u001b[37m\u001b[0m \u001b[1m18s\u001b[0m 12ms/step - loss: 0.1813\n",
            "Epoch 4/5\n",
            "\u001b[1m1576/1580\u001b[0m \u001b[32m━━━━━━━━━━━━━━━━━━━\u001b[0m\u001b[37m━\u001b[0m \u001b[1m0s\u001b[0m 11ms/step - loss: 0.1427\n",
            "Epoch 4: loss improved from 0.16393 to 0.13262, saving model to checkpoints/bert_mlm_best.keras\n",
            "\u001b[1m1580/1580\u001b[0m \u001b[32m━━━━━━━━━━━━━━━━━━━━\u001b[0m\u001b[37m\u001b[0m \u001b[1m18s\u001b[0m 12ms/step - loss: 0.1427\n",
            "Epoch 5/5\n",
            "\u001b[1m1576/1580\u001b[0m \u001b[32m━━━━━━━━━━━━━━━━━━━\u001b[0m\u001b[37m━\u001b[0m \u001b[1m0s\u001b[0m 11ms/step - loss: 0.1218\n",
            "Epoch 5: loss improved from 0.13262 to 0.11404, saving model to checkpoints/bert_mlm_best.keras\n",
            "\u001b[1m1580/1580\u001b[0m \u001b[32m━━━━━━━━━━━━━━━━━━━━\u001b[0m\u001b[37m\u001b[0m \u001b[1m18s\u001b[0m 12ms/step - loss: 0.1218\n"
          ]
        },
        {
          "data": {
            "application/javascript": "\n    async function download(id, filename, size) {\n      if (!google.colab.kernel.accessAllowed) {\n        return;\n      }\n      const div = document.createElement('div');\n      const label = document.createElement('label');\n      label.textContent = `Downloading \"${filename}\": `;\n      div.appendChild(label);\n      const progress = document.createElement('progress');\n      progress.max = size;\n      div.appendChild(progress);\n      document.body.appendChild(div);\n\n      const buffers = [];\n      let downloaded = 0;\n\n      const channel = await google.colab.kernel.comms.open(id);\n      // Send a message to notify the kernel that we're ready.\n      channel.send({})\n\n      for await (const message of channel.messages) {\n        // Send a message to notify the kernel that we're ready.\n        channel.send({})\n        if (message.buffers) {\n          for (const buffer of message.buffers) {\n            buffers.push(buffer);\n            downloaded += buffer.byteLength;\n            progress.value = downloaded;\n          }\n        }\n      }\n      const blob = new Blob(buffers, {type: 'application/binary'});\n      const a = document.createElement('a');\n      a.href = window.URL.createObjectURL(blob);\n      a.download = filename;\n      div.appendChild(a);\n      a.click();\n      div.remove();\n    }\n  ",
            "text/plain": [
              "<IPython.core.display.Javascript object>"
            ]
          },
          "metadata": {},
          "output_type": "display_data"
        },
        {
          "data": {
            "application/javascript": "download(\"download_5889c8c4-07a7-4d4d-80d2-58c664aab582\", \"bert_mlm_friends_trained.keras\", 99315427)",
            "text/plain": [
              "<IPython.core.display.Javascript object>"
            ]
          },
          "metadata": {},
          "output_type": "display_data"
        },
        {
          "data": {
            "application/javascript": "\n    async function download(id, filename, size) {\n      if (!google.colab.kernel.accessAllowed) {\n        return;\n      }\n      const div = document.createElement('div');\n      const label = document.createElement('label');\n      label.textContent = `Downloading \"${filename}\": `;\n      div.appendChild(label);\n      const progress = document.createElement('progress');\n      progress.max = size;\n      div.appendChild(progress);\n      document.body.appendChild(div);\n\n      const buffers = [];\n      let downloaded = 0;\n\n      const channel = await google.colab.kernel.comms.open(id);\n      // Send a message to notify the kernel that we're ready.\n      channel.send({})\n\n      for await (const message of channel.messages) {\n        // Send a message to notify the kernel that we're ready.\n        channel.send({})\n        if (message.buffers) {\n          for (const buffer of message.buffers) {\n            buffers.push(buffer);\n            downloaded += buffer.byteLength;\n            progress.value = downloaded;\n          }\n        }\n      }\n      const blob = new Blob(buffers, {type: 'application/binary'});\n      const a = document.createElement('a');\n      a.href = window.URL.createObjectURL(blob);\n      a.download = filename;\n      div.appendChild(a);\n      a.click();\n      div.remove();\n    }\n  ",
            "text/plain": [
              "<IPython.core.display.Javascript object>"
            ]
          },
          "metadata": {},
          "output_type": "display_data"
        },
        {
          "data": {
            "application/javascript": "download(\"download_c10cc3a8-2f8c-490a-a028-4c90b8bdb383\", \"bert_mlm_best.keras\", 99315427)",
            "text/plain": [
              "<IPython.core.display.Javascript object>"
            ]
          },
          "metadata": {},
          "output_type": "display_data"
        }
      ],
      "source": [
        "#Treinamento do modelo com checkpoint baseado em loss\n",
        "from tensorflow import keras\n",
        "\n",
        "import tensorflow as tf\n",
        "from tensorflow.keras.callbacks import ModelCheckpoint\n",
        "from google.colab import files\n",
        "\n",
        "# Recarrega o modelo salvo\n",
        "mlm_model = keras.models.load_model(\n",
        "    \"bert_mlm_friends.keras\",\n",
        "    custom_objects={\"MaskedLanguageModel\": MaskedLanguageModel}\n",
        ")\n",
        "\n",
        "# Converte os dados para os tipos corretos\n",
        "x_masked = x_masked.astype(\"int32\")\n",
        "y_labels = y_labels.astype(\"int32\")\n",
        "sample_weights = np.ones(y_labels.shape, dtype=np.float32)\n",
        "sample_weights[y_labels == -1] = 0\n",
        "\n",
        "# Cria o dataset final para treinamento\n",
        "dataset = tf.data.Dataset.from_tensor_slices(\n",
        "    (x_masked, y_labels, sample_weights)\n",
        ").shuffle(1000).batch(32)\n",
        "\n",
        "# Callback para salvar o melhor modelo baseado no menor loss\n",
        "checkpoint_cb = ModelCheckpoint(\n",
        "    filepath=\"checkpoints/bert_mlm_best.keras\",\n",
        "    monitor=\"loss\",\n",
        "    save_best_only=True,\n",
        "    save_weights_only=False,\n",
        "    verbose=1\n",
        ")\n",
        "\n",
        "# Treinamento do modelo\n",
        "history = mlm_model.fit(\n",
        "    dataset,\n",
        "    epochs=5,\n",
        "    callbacks=[checkpoint_cb]\n",
        ")\n",
        "\n",
        "# Salva o modelo final (última época)\n",
        "mlm_model.save(\"bert_mlm_friends_trained.keras\")\n",
        "\n",
        "# Baixa os arquivos para o seu computador\n",
        "files.download(\"bert_mlm_friends_trained.keras\")\n",
        "files.download(\"checkpoints/bert_mlm_best.keras\")\n"
      ]
    },
    {
      "cell_type": "markdown",
      "metadata": {
        "id": "b7RBgT88vVgm"
      },
      "source": [
        "### Fine-tuning para Classificação de Personagem"
      ]
    },
    {
      "cell_type": "code",
      "execution_count": null,
      "metadata": {
        "id": "SR7L9Sz7wXsA"
      },
      "outputs": [],
      "source": [
        "!pip install -q tensorflow keras-nlp"
      ]
    },
    {
      "cell_type": "code",
      "execution_count": null,
      "metadata": {
        "colab": {
          "base_uri": "https://localhost:8080/",
          "height": 374
        },
        "id": "appGS0Sgq84Y",
        "outputId": "d3a3f23c-cfe2-49b8-a26f-4aa2afd9b424"
      },
      "outputs": [
        {
          "name": "stderr",
          "output_type": "stream",
          "text": [
            "/usr/local/lib/python3.11/dist-packages/keras/src/saving/saving_lib.py:757: UserWarning: Skipping variable loading for optimizer 'adam', because it has 138 variables whereas the saved optimizer has 2 variables. \n",
            "  saveable.load_own_variables(weights_store.get(inner_path))\n"
          ]
        },
        {
          "data": {
            "text/html": [
              "<pre style=\"white-space:pre;overflow-x:auto;line-height:normal;font-family:Menlo,'DejaVu Sans Mono',consolas,'Courier New',monospace\"><span style=\"font-weight: bold\">Model: \"friends_classifier\"</span>\n",
              "</pre>\n"
            ],
            "text/plain": [
              "\u001b[1mModel: \"friends_classifier\"\u001b[0m\n"
            ]
          },
          "metadata": {},
          "output_type": "display_data"
        },
        {
          "data": {
            "text/html": [
              "<pre style=\"white-space:pre;overflow-x:auto;line-height:normal;font-family:Menlo,'DejaVu Sans Mono',consolas,'Courier New',monospace\">┏━━━━━━━━━━━━━━━━━━━━━━━━━━━━━━━━━┳━━━━━━━━━━━━━━━━━━━━━━━━┳━━━━━━━━━━━━━━━┓\n",
              "┃<span style=\"font-weight: bold\"> Layer (type)                    </span>┃<span style=\"font-weight: bold\"> Output Shape           </span>┃<span style=\"font-weight: bold\">       Param # </span>┃\n",
              "┡━━━━━━━━━━━━━━━━━━━━━━━━━━━━━━━━━╇━━━━━━━━━━━━━━━━━━━━━━━━╇━━━━━━━━━━━━━━━┩\n",
              "│ input_layer_6 (<span style=\"color: #0087ff; text-decoration-color: #0087ff\">InputLayer</span>)      │ (<span style=\"color: #00d7ff; text-decoration-color: #00d7ff\">None</span>, <span style=\"color: #00af00; text-decoration-color: #00af00\">128</span>)            │             <span style=\"color: #00af00; text-decoration-color: #00af00\">0</span> │\n",
              "├─────────────────────────────────┼────────────────────────┼───────────────┤\n",
              "│ functional_38 (<span style=\"color: #0087ff; text-decoration-color: #0087ff\">Functional</span>)      │ (<span style=\"color: #00d7ff; text-decoration-color: #00d7ff\">None</span>, <span style=\"color: #00af00; text-decoration-color: #00af00\">128</span>, <span style=\"color: #00af00; text-decoration-color: #00af00\">128</span>)       │     <span style=\"color: #00af00; text-decoration-color: #00af00\">4,386,304</span> │\n",
              "├─────────────────────────────────┼────────────────────────┼───────────────┤\n",
              "│ global_max_pooling1d            │ (<span style=\"color: #00d7ff; text-decoration-color: #00d7ff\">None</span>, <span style=\"color: #00af00; text-decoration-color: #00af00\">128</span>)            │             <span style=\"color: #00af00; text-decoration-color: #00af00\">0</span> │\n",
              "│ (<span style=\"color: #0087ff; text-decoration-color: #0087ff\">GlobalMaxPooling1D</span>)            │                        │               │\n",
              "├─────────────────────────────────┼────────────────────────┼───────────────┤\n",
              "│ dense_8 (<span style=\"color: #0087ff; text-decoration-color: #0087ff\">Dense</span>)                 │ (<span style=\"color: #00d7ff; text-decoration-color: #00d7ff\">None</span>, <span style=\"color: #00af00; text-decoration-color: #00af00\">64</span>)             │         <span style=\"color: #00af00; text-decoration-color: #00af00\">8,256</span> │\n",
              "├─────────────────────────────────┼────────────────────────┼───────────────┤\n",
              "│ dense_9 (<span style=\"color: #0087ff; text-decoration-color: #0087ff\">Dense</span>)                 │ (<span style=\"color: #00d7ff; text-decoration-color: #00d7ff\">None</span>, <span style=\"color: #00af00; text-decoration-color: #00af00\">6</span>)              │           <span style=\"color: #00af00; text-decoration-color: #00af00\">390</span> │\n",
              "└─────────────────────────────────┴────────────────────────┴───────────────┘\n",
              "</pre>\n"
            ],
            "text/plain": [
              "┏━━━━━━━━━━━━━━━━━━━━━━━━━━━━━━━━━┳━━━━━━━━━━━━━━━━━━━━━━━━┳━━━━━━━━━━━━━━━┓\n",
              "┃\u001b[1m \u001b[0m\u001b[1mLayer (type)                   \u001b[0m\u001b[1m \u001b[0m┃\u001b[1m \u001b[0m\u001b[1mOutput Shape          \u001b[0m\u001b[1m \u001b[0m┃\u001b[1m \u001b[0m\u001b[1m      Param #\u001b[0m\u001b[1m \u001b[0m┃\n",
              "┡━━━━━━━━━━━━━━━━━━━━━━━━━━━━━━━━━╇━━━━━━━━━━━━━━━━━━━━━━━━╇━━━━━━━━━━━━━━━┩\n",
              "│ input_layer_6 (\u001b[38;5;33mInputLayer\u001b[0m)      │ (\u001b[38;5;45mNone\u001b[0m, \u001b[38;5;34m128\u001b[0m)            │             \u001b[38;5;34m0\u001b[0m │\n",
              "├─────────────────────────────────┼────────────────────────┼───────────────┤\n",
              "│ functional_38 (\u001b[38;5;33mFunctional\u001b[0m)      │ (\u001b[38;5;45mNone\u001b[0m, \u001b[38;5;34m128\u001b[0m, \u001b[38;5;34m128\u001b[0m)       │     \u001b[38;5;34m4,386,304\u001b[0m │\n",
              "├─────────────────────────────────┼────────────────────────┼───────────────┤\n",
              "│ global_max_pooling1d            │ (\u001b[38;5;45mNone\u001b[0m, \u001b[38;5;34m128\u001b[0m)            │             \u001b[38;5;34m0\u001b[0m │\n",
              "│ (\u001b[38;5;33mGlobalMaxPooling1D\u001b[0m)            │                        │               │\n",
              "├─────────────────────────────────┼────────────────────────┼───────────────┤\n",
              "│ dense_8 (\u001b[38;5;33mDense\u001b[0m)                 │ (\u001b[38;5;45mNone\u001b[0m, \u001b[38;5;34m64\u001b[0m)             │         \u001b[38;5;34m8,256\u001b[0m │\n",
              "├─────────────────────────────────┼────────────────────────┼───────────────┤\n",
              "│ dense_9 (\u001b[38;5;33mDense\u001b[0m)                 │ (\u001b[38;5;45mNone\u001b[0m, \u001b[38;5;34m6\u001b[0m)              │           \u001b[38;5;34m390\u001b[0m │\n",
              "└─────────────────────────────────┴────────────────────────┴───────────────┘\n"
            ]
          },
          "metadata": {},
          "output_type": "display_data"
        },
        {
          "data": {
            "text/html": [
              "<pre style=\"white-space:pre;overflow-x:auto;line-height:normal;font-family:Menlo,'DejaVu Sans Mono',consolas,'Courier New',monospace\"><span style=\"font-weight: bold\"> Total params: </span><span style=\"color: #00af00; text-decoration-color: #00af00\">4,394,950</span> (16.77 MB)\n",
              "</pre>\n"
            ],
            "text/plain": [
              "\u001b[1m Total params: \u001b[0m\u001b[38;5;34m4,394,950\u001b[0m (16.77 MB)\n"
            ]
          },
          "metadata": {},
          "output_type": "display_data"
        },
        {
          "data": {
            "text/html": [
              "<pre style=\"white-space:pre;overflow-x:auto;line-height:normal;font-family:Menlo,'DejaVu Sans Mono',consolas,'Courier New',monospace\"><span style=\"font-weight: bold\"> Trainable params: </span><span style=\"color: #00af00; text-decoration-color: #00af00\">8,646</span> (33.77 KB)\n",
              "</pre>\n"
            ],
            "text/plain": [
              "\u001b[1m Trainable params: \u001b[0m\u001b[38;5;34m8,646\u001b[0m (33.77 KB)\n"
            ]
          },
          "metadata": {},
          "output_type": "display_data"
        },
        {
          "data": {
            "text/html": [
              "<pre style=\"white-space:pre;overflow-x:auto;line-height:normal;font-family:Menlo,'DejaVu Sans Mono',consolas,'Courier New',monospace\"><span style=\"font-weight: bold\"> Non-trainable params: </span><span style=\"color: #00af00; text-decoration-color: #00af00\">4,386,304</span> (16.73 MB)\n",
              "</pre>\n"
            ],
            "text/plain": [
              "\u001b[1m Non-trainable params: \u001b[0m\u001b[38;5;34m4,386,304\u001b[0m (16.73 MB)\n"
            ]
          },
          "metadata": {},
          "output_type": "display_data"
        }
      ],
      "source": [
        "#Carregar modelo pré-treinado\n",
        "mlm_model = keras.models.load_model(\n",
        "    \"bert_mlm_friends.keras\",\n",
        "    custom_objects={\"MaskedLanguageModel\": MaskedLanguageModel}\n",
        ")\n",
        "\n",
        "#Extrai a base BERT até a última camada de encoder\n",
        "pretrained_bert_model = keras.Model(\n",
        "    mlm_model.input,\n",
        "    mlm_model.get_layer(\"encoder_3_ffn_layernormalization\").output\n",
        ")\n",
        "\n",
        "#Congela os pesos da BERT\n",
        "pretrained_bert_model.trainable = False\n",
        "\n",
        "#Cria o classificador\n",
        "def create_classifier_bert_model():\n",
        "    inputs = keras.Input(shape=(MAX_LEN,), dtype=\"int64\")\n",
        "    x = pretrained_bert_model(inputs)\n",
        "    x = layers.GlobalMaxPooling1D()(x)\n",
        "    x = layers.Dense(64, activation=\"relu\")(x)\n",
        "    outputs = layers.Dense(6, activation=\"softmax\")(x)  #6 classes (6 personagens)\n",
        "\n",
        "    model = keras.Model(inputs, outputs, name=\"friends_classifier\")\n",
        "    model.compile(\n",
        "        optimizer=keras.optimizers.Adam(),\n",
        "        loss=\"sparse_categorical_crossentropy\",\n",
        "        metrics=[\"accuracy\"]\n",
        "    )\n",
        "    return model\n",
        "\n",
        "#Instancia o classificador\n",
        "classifier_model = create_classifier_bert_model()\n",
        "classifier_model.summary()"
      ]
    },
    {
      "cell_type": "markdown",
      "metadata": {
        "id": "ZyYcmQ3027gT"
      },
      "source": [
        "### Preparar os datasets e pesos"
      ]
    },
    {
      "cell_type": "code",
      "execution_count": null,
      "metadata": {
        "colab": {
          "base_uri": "https://localhost:8080/"
        },
        "id": "IGvCvhL6002D",
        "outputId": "a238e8aa-816d-46ce-e228-fddc9242d09d"
      },
      "outputs": [
        {
          "name": "stdout",
          "output_type": "stream",
          "text": [
            "Class weights: {0: np.float64(1.1397958608244516), 1: np.float64(1.004822271936366), 2: np.float64(0.921281735721774), 3: np.float64(1.0134376253509827), 4: np.float64(0.9255850162568119), 5: np.float64(1.0257815671944783)}\n"
          ]
        }
      ],
      "source": [
        "#Preparar os datasets e pesos\n",
        "\n",
        "from sklearn.model_selection import train_test_split\n",
        "from sklearn.utils import class_weight\n",
        "import numpy as np\n",
        "import tensorflow as tf\n",
        "import re\n",
        "\n",
        "# Mapeamento\n",
        "personagem2id = {\n",
        "    \"[PHOEBE]\": 0,\n",
        "    \"[CHANDLER]\": 1,\n",
        "    \"[RACHEL]\": 2,\n",
        "    \"[MONICA]\": 3,\n",
        "    \"[ROSS]\": 4,\n",
        "    \"[JOEY]\": 5,\n",
        "}\n",
        "\n",
        "#Extrai textos e rótulos\n",
        "textos = falas_tagged\n",
        "rotulos = [personagem2id[re.search(r\"\\[(.*?)\\]\", linha).group()] for linha in textos]\n",
        "\n",
        "# Divide em treino e teste\n",
        "x_train, x_test, y_train, y_test = train_test_split(\n",
        "    textos, rotulos, test_size=0.2, random_state=42, stratify=rotulos\n",
        ")\n",
        "\n",
        "# Vetoriza os textos\n",
        "x_train_vect = vectorize_layer(tf.constant(x_train))\n",
        "x_test_vect = vectorize_layer(tf.constant(x_test))\n",
        "\n",
        "# Converte rótulos\n",
        "y_train = tf.convert_to_tensor(y_train)\n",
        "y_test = tf.convert_to_tensor(y_test)\n",
        "\n",
        "# Cria datasets\n",
        "train_classifier_ds = tf.data.Dataset.from_tensor_slices((x_train_vect, y_train)).shuffle(1000).batch(32)\n",
        "test_classifier_ds = tf.data.Dataset.from_tensor_slices((x_test_vect, y_test)).batch(32)\n",
        "\n",
        "# Calcula pesos\n",
        "class_weights_array = class_weight.compute_class_weight(\n",
        "    class_weight=\"balanced\",\n",
        "    classes=np.unique(y_train.numpy()),\n",
        "    y=y_train.numpy()\n",
        ")\n",
        "class_weight_dict = {i: w for i, w in enumerate(class_weights_array)}\n",
        "print(\"Class weights:\", class_weight_dict)"
      ]
    },
    {
      "cell_type": "markdown",
      "metadata": {
        "id": "zsxJv0bc27gV"
      },
      "source": [
        "### Treinamento do classificador com BERT congelado, class weights + checkpoint"
      ]
    },
    {
      "cell_type": "code",
      "execution_count": null,
      "metadata": {
        "colab": {
          "base_uri": "https://localhost:8080/"
        },
        "id": "QjiEtIs8xRH4",
        "outputId": "352c07fb-b267-46e8-aa58-26df28277ecc"
      },
      "outputs": [
        {
          "name": "stdout",
          "output_type": "stream",
          "text": [
            "Epoch 1/5\n",
            "\u001b[1m1264/1264\u001b[0m \u001b[32m━━━━━━━━━━━━━━━━━━━━\u001b[0m\u001b[37m\u001b[0m \u001b[1m0s\u001b[0m 9ms/step - accuracy: 0.1818 - loss: 1.8720\n",
            "Epoch 1: val_accuracy improved from -inf to 0.36984, saving model to checkpoints/friends_classifier_epoch_01_valacc_0.37.keras\n",
            "\u001b[1m1264/1264\u001b[0m \u001b[32m━━━━━━━━━━━━━━━━━━━━\u001b[0m\u001b[37m\u001b[0m \u001b[1m28s\u001b[0m 15ms/step - accuracy: 0.1818 - loss: 1.8720 - val_accuracy: 0.3698 - val_loss: 1.7352\n",
            "Epoch 2/5\n",
            "\u001b[1m1261/1264\u001b[0m \u001b[32m━━━━━━━━━━━━━━━━━━━\u001b[0m\u001b[37m━\u001b[0m \u001b[1m0s\u001b[0m 3ms/step - accuracy: 0.2130 - loss: 1.7802\n",
            "Epoch 2: val_accuracy improved from 0.36984 to 0.48996, saving model to checkpoints/friends_classifier_epoch_02_valacc_0.49.keras\n",
            "\u001b[1m1264/1264\u001b[0m \u001b[32m━━━━━━━━━━━━━━━━━━━━\u001b[0m\u001b[37m\u001b[0m \u001b[1m5s\u001b[0m 4ms/step - accuracy: 0.2130 - loss: 1.7802 - val_accuracy: 0.4900 - val_loss: 1.6740\n",
            "Epoch 3/5\n",
            "\u001b[1m1264/1264\u001b[0m \u001b[32m━━━━━━━━━━━━━━━━━━━━\u001b[0m\u001b[37m\u001b[0m \u001b[1m0s\u001b[0m 3ms/step - accuracy: 0.2514 - loss: 1.7378\n",
            "Epoch 3: val_accuracy did not improve from 0.48996\n",
            "\u001b[1m1264/1264\u001b[0m \u001b[32m━━━━━━━━━━━━━━━━━━━━\u001b[0m\u001b[37m\u001b[0m \u001b[1m4s\u001b[0m 3ms/step - accuracy: 0.2514 - loss: 1.7378 - val_accuracy: 0.3562 - val_loss: 1.5822\n",
            "Epoch 4/5\n",
            "\u001b[1m1252/1264\u001b[0m \u001b[32m━━━━━━━━━━━━━━━━━━━\u001b[0m\u001b[37m━\u001b[0m \u001b[1m0s\u001b[0m 3ms/step - accuracy: 0.2728 - loss: 1.7039\n",
            "Epoch 4: val_accuracy did not improve from 0.48996\n",
            "\u001b[1m1264/1264\u001b[0m \u001b[32m━━━━━━━━━━━━━━━━━━━━\u001b[0m\u001b[37m\u001b[0m \u001b[1m4s\u001b[0m 3ms/step - accuracy: 0.2728 - loss: 1.7038 - val_accuracy: 0.3454 - val_loss: 1.4868\n",
            "Epoch 5/5\n",
            "\u001b[1m1247/1264\u001b[0m \u001b[32m━━━━━━━━━━━━━━━━━━━\u001b[0m\u001b[37m━\u001b[0m \u001b[1m0s\u001b[0m 3ms/step - accuracy: 0.2903 - loss: 1.6642\n",
            "Epoch 5: val_accuracy did not improve from 0.48996\n",
            "\u001b[1m1264/1264\u001b[0m \u001b[32m━━━━━━━━━━━━━━━━━━━━\u001b[0m\u001b[37m\u001b[0m \u001b[1m4s\u001b[0m 3ms/step - accuracy: 0.2904 - loss: 1.6641 - val_accuracy: 0.3158 - val_loss: 1.4717\n"
          ]
        },
        {
          "data": {
            "text/plain": [
              "<keras.src.callbacks.history.History at 0x7c6f54558290>"
            ]
          },
          "execution_count": 32,
          "metadata": {},
          "output_type": "execute_result"
        }
      ],
      "source": [
        "#Treinamento do classificador com BERT congelado, class weights + checkpoint\n",
        "\n",
        "from tensorflow.keras.callbacks import ModelCheckpoint\n",
        "\n",
        "#Callback para salvar os melhores checkpoints com base na acurácia de validação\n",
        "checkpoint_cb = ModelCheckpoint(\n",
        "    filepath=\"checkpoints/friends_classifier_epoch_{epoch:02d}_valacc_{val_accuracy:.2f}.keras\",\n",
        "    monitor=\"val_accuracy\",\n",
        "    save_best_only=True,\n",
        "    save_weights_only=False,\n",
        "    verbose=1\n",
        ")\n",
        "\n",
        "# Treinamento\n",
        "classifier_model.fit(\n",
        "    train_classifier_ds,\n",
        "    validation_data=test_classifier_ds,\n",
        "    epochs=5,\n",
        "    class_weight=class_weight_dict,\n",
        "    callbacks=[checkpoint_cb]\n",
        ")"
      ]
    },
    {
      "cell_type": "code",
      "execution_count": null,
      "metadata": {
        "colab": {
          "base_uri": "https://localhost:8080/"
        },
        "id": "BAz_5zRa1wT4",
        "outputId": "9445a66b-e248-4d4d-8dac-7396a255c1a9"
      },
      "outputs": [
        {
          "name": "stdout",
          "output_type": "stream",
          "text": [
            "Epoch 1/5\n",
            "\u001b[1m1264/1264\u001b[0m \u001b[32m━━━━━━━━━━━━━━━━━━━━\u001b[0m\u001b[37m\u001b[0m \u001b[1m0s\u001b[0m 6ms/step - accuracy: 0.3131 - loss: 1.6373\n",
            "Epoch 1: val_accuracy improved from -inf to 0.45444, saving model to checkpoints/friends_classifier_epoch_01_valacc_0.45.keras\n",
            "\u001b[1m1264/1264\u001b[0m \u001b[32m━━━━━━━━━━━━━━━━━━━━\u001b[0m\u001b[37m\u001b[0m \u001b[1m17s\u001b[0m 7ms/step - accuracy: 0.3131 - loss: 1.6373 - val_accuracy: 0.4544 - val_loss: 1.3642\n",
            "Epoch 2/5\n",
            "\u001b[1m1249/1264\u001b[0m \u001b[32m━━━━━━━━━━━━━━━━━━━\u001b[0m\u001b[37m━\u001b[0m \u001b[1m0s\u001b[0m 3ms/step - accuracy: 0.3233 - loss: 1.6184\n",
            "Epoch 2: val_accuracy improved from 0.45444 to 0.50698, saving model to checkpoints/friends_classifier_epoch_02_valacc_0.51.keras\n",
            "\u001b[1m1264/1264\u001b[0m \u001b[32m━━━━━━━━━━━━━━━━━━━━\u001b[0m\u001b[37m\u001b[0m \u001b[1m5s\u001b[0m 4ms/step - accuracy: 0.3233 - loss: 1.6184 - val_accuracy: 0.5070 - val_loss: 1.3225\n",
            "Epoch 3/5\n",
            "\u001b[1m1251/1264\u001b[0m \u001b[32m━━━━━━━━━━━━━━━━━━━\u001b[0m\u001b[37m━\u001b[0m \u001b[1m0s\u001b[0m 3ms/step - accuracy: 0.3243 - loss: 1.6107\n",
            "Epoch 3: val_accuracy did not improve from 0.50698\n",
            "\u001b[1m1264/1264\u001b[0m \u001b[32m━━━━━━━━━━━━━━━━━━━━\u001b[0m\u001b[37m\u001b[0m \u001b[1m4s\u001b[0m 4ms/step - accuracy: 0.3243 - loss: 1.6106 - val_accuracy: 0.4187 - val_loss: 1.3004\n",
            "Epoch 4/5\n",
            "\u001b[1m1258/1264\u001b[0m \u001b[32m━━━━━━━━━━━━━━━━━━━\u001b[0m\u001b[37m━\u001b[0m \u001b[1m0s\u001b[0m 3ms/step - accuracy: 0.3305 - loss: 1.5989\n",
            "Epoch 4: val_accuracy improved from 0.50698 to 0.67864, saving model to checkpoints/friends_classifier_epoch_04_valacc_0.68.keras\n",
            "\u001b[1m1264/1264\u001b[0m \u001b[32m━━━━━━━━━━━━━━━━━━━━\u001b[0m\u001b[37m\u001b[0m \u001b[1m5s\u001b[0m 4ms/step - accuracy: 0.3305 - loss: 1.5989 - val_accuracy: 0.6786 - val_loss: 1.2256\n",
            "Epoch 5/5\n",
            "\u001b[1m1246/1264\u001b[0m \u001b[32m━━━━━━━━━━━━━━━━━━━\u001b[0m\u001b[37m━\u001b[0m \u001b[1m0s\u001b[0m 3ms/step - accuracy: 0.3293 - loss: 1.5944\n",
            "Epoch 5: val_accuracy did not improve from 0.67864\n",
            "\u001b[1m1264/1264\u001b[0m \u001b[32m━━━━━━━━━━━━━━━━━━━━\u001b[0m\u001b[37m\u001b[0m \u001b[1m5s\u001b[0m 4ms/step - accuracy: 0.3293 - loss: 1.5944 - val_accuracy: 0.6743 - val_loss: 1.2297\n"
          ]
        }
      ],
      "source": [
        "#continuar treinamento\n",
        "\n",
        "#Callback para salvar os melhores checkpoints por acurácia de validação\n",
        "checkpoint_cb = ModelCheckpoint(\n",
        "    filepath=\"checkpoints/friends_classifier_epoch_{epoch:02d}_valacc_{val_accuracy:.2f}.keras\",\n",
        "    monitor=\"val_accuracy\",\n",
        "    save_best_only=True,\n",
        "    save_weights_only=False,\n",
        "    verbose=1\n",
        ")\n",
        "\n",
        "#Reexecutar o treinamento por mais 5 épocas\n",
        "history_more = classifier_model.fit(\n",
        "    x=x_train_vect,\n",
        "    y=y_train,\n",
        "    validation_data=(x_test_vect, y_test),\n",
        "    epochs=5,\n",
        "    batch_size=32,\n",
        "    class_weight=class_weight_dict,\n",
        "    callbacks=[checkpoint_cb]\n",
        ")"
      ]
    },
    {
      "cell_type": "markdown",
      "metadata": {
        "id": "Zs_zJihr27gW"
      },
      "source": [
        "### Matriz Confusão"
      ]
    },
    {
      "cell_type": "code",
      "execution_count": null,
      "metadata": {
        "colab": {
          "base_uri": "https://localhost:8080/",
          "height": 879
        },
        "id": "IK3cHj1D3l-9",
        "outputId": "bbedad3f-1dc5-4b04-e78f-9d2dcddbbf79"
      },
      "outputs": [
        {
          "name": "stderr",
          "output_type": "stream",
          "text": [
            "/usr/local/lib/python3.11/dist-packages/keras/src/saving/saving_lib.py:757: UserWarning: Skipping variable loading for optimizer 'adam', because it has 74 variables whereas the saved optimizer has 10 variables. \n",
            "  saveable.load_own_variables(weights_store.get(inner_path))\n"
          ]
        },
        {
          "data": {
            "image/png": "[encoded data removed]",
            "text/plain": [
              "<Figure size 800x600 with 2 Axes>"
            ]
          },
          "metadata": {},
          "output_type": "display_data"
        },
        {
          "name": "stdout",
          "output_type": "stream",
          "text": [
            "Relatório de Classificação por personagem:\n",
            "              precision    recall  f1-score   support\n",
            "\n",
            "      PHOEBE       0.78      1.00      0.88      1478\n",
            "    CHANDLER       1.00      0.22      0.36      1676\n",
            "      RACHEL       0.49      0.80      0.61      1829\n",
            "      MONICA       0.93      0.05      0.10      1662\n",
            "        ROSS       1.00      1.00      1.00      1820\n",
            "        JOEY       0.56      1.00      0.71      1642\n",
            "\n",
            "    accuracy                           0.68     10107\n",
            "   macro avg       0.79      0.68      0.61     10107\n",
            "weighted avg       0.79      0.68      0.61     10107\n",
            "\n"
          ]
        }
      ],
      "source": [
        "#gerar a matriz de confusão para entender quais personagens o modelo está confundindo mais\n",
        "\n",
        "from sklearn.metrics import confusion_matrix, classification_report\n",
        "import seaborn as sns\n",
        "import matplotlib.pyplot as plt\n",
        "import numpy as np\n",
        "from tensorflow import keras\n",
        "\n",
        "best_model = keras.models.load_model(\"checkpoints/friends_classifier_epoch_04_valacc_0.68.keras\")\n",
        "\n",
        "# Previsões no conjunto de teste\n",
        "y_pred_probs = best_model.predict(x_test_vect, verbose=0)\n",
        "y_pred_classes = np.argmax(y_pred_probs, axis=1)\n",
        "\n",
        "# Rótulos reais\n",
        "y_true = y_test.numpy()\n",
        "\n",
        "# Rótulos dos personagens\n",
        "id2personagem = {\n",
        "    0: \"PHOEBE\",\n",
        "    1: \"CHANDLER\",\n",
        "    2: \"RACHEL\",\n",
        "    3: \"MONICA\",\n",
        "    4: \"ROSS\",\n",
        "    5: \"JOEY\"\n",
        "}\n",
        "labels = list(id2personagem.values())\n",
        "\n",
        "# Matriz de confusão\n",
        "cm = confusion_matrix(y_true, y_pred_classes)\n",
        "plt.figure(figsize=(8,6))\n",
        "sns.heatmap(cm, annot=True, fmt='d', cmap=\"Blues\", xticklabels=labels, yticklabels=labels)\n",
        "plt.xlabel(\"Predito\")\n",
        "plt.ylabel(\"Verdadeiro\")\n",
        "plt.title(\"Matriz de Confusão - Classificador Friends\")\n",
        "plt.show()\n",
        "\n",
        "# Relatório detalhado\n",
        "print(\"Relatório de Classificação por personagem:\")\n",
        "print(classification_report(y_true, y_pred_classes, target_names=labels))"
      ]
    },
    {
      "cell_type": "markdown",
      "metadata": {
        "id": "_HtyOz_D27gW"
      },
      "source": [
        "### Ajustes e Treinamentos Adicionais para Melhorar o Desempenho do Classificador"
      ]
    },
    {
      "cell_type": "code",
      "execution_count": null,
      "metadata": {
        "colab": {
          "base_uri": "https://localhost:8080/"
        },
        "id": "D82Lrpkw6Ehc",
        "outputId": "5971782c-6b4c-41f0-e7ca-0ce94bfbca98"
      },
      "outputs": [
        {
          "name": "stdout",
          "output_type": "stream",
          "text": [
            "Pesos ajustados: {0: np.float64(1.1397958608244516), 1: np.float64(1.004822271936366), 2: np.float64(0.921281735721774), 3: np.float64(1.0134376253509827), 4: np.float64(0.9255850162568119), 5: np.float64(1.0257815671944783)}\n"
          ]
        }
      ],
      "source": [
        "# ajustar a class_weight para melhorar o desempenho com o classificador\n",
        "\n",
        "from sklearn.utils import class_weight\n",
        "import numpy as np\n",
        "\n",
        "y_train_np = y_train.numpy() if hasattr(y_train, 'numpy') else np.array(y_train)\n",
        "\n",
        "#Gera pesos balanceados com base nas classes reais de y_train\n",
        "class_weights = class_weight.compute_class_weight(\n",
        "    class_weight=\"balanced\",\n",
        "    classes=np.unique(y_train),\n",
        "    y=y_train\n",
        ")\n",
        "\n",
        "#Transforma em dicionário para passar ao modelo\n",
        "class_weight_dict = {i: weight for i, weight in enumerate(class_weights)}\n",
        "print(\"Pesos calculados para cada personagem:\", class_weight_dict)"
      ]
    },
    {
      "cell_type": "code",
      "execution_count": null,
      "metadata": {
        "colab": {
          "base_uri": "https://localhost:8080/"
        },
        "id": "T2ZECFjB6Mvg",
        "outputId": "187c3b91-99eb-4bcf-8eaa-92efd3382186"
      },
      "outputs": [
        {
          "name": "stdout",
          "output_type": "stream",
          "text": [
            "Epoch 1/5\n",
            "\u001b[1m1264/1264\u001b[0m \u001b[32m━━━━━━━━━━━━━━━━━━━━\u001b[0m\u001b[37m\u001b[0m \u001b[1m0s\u001b[0m 3ms/step - accuracy: 0.3350 - loss: 1.5905\n",
            "Epoch 1: val_accuracy improved from -inf to 0.48887, saving model to checkpoints/friends_classifier_epoch_01_valacc_0.49.keras\n",
            "\u001b[1m1264/1264\u001b[0m \u001b[32m━━━━━━━━━━━━━━━━━━━━\u001b[0m\u001b[37m\u001b[0m \u001b[1m5s\u001b[0m 4ms/step - accuracy: 0.3350 - loss: 1.5905 - val_accuracy: 0.4889 - val_loss: 1.2774\n",
            "Epoch 2/5\n",
            "\u001b[1m1258/1264\u001b[0m \u001b[32m━━━━━━━━━━━━━━━━━━━\u001b[0m\u001b[37m━\u001b[0m \u001b[1m0s\u001b[0m 3ms/step - accuracy: 0.3303 - loss: 1.5916\n",
            "Epoch 2: val_accuracy improved from 0.48887 to 0.52617, saving model to checkpoints/friends_classifier_epoch_02_valacc_0.53.keras\n",
            "\u001b[1m1264/1264\u001b[0m \u001b[32m━━━━━━━━━━━━━━━━━━━━\u001b[0m\u001b[37m\u001b[0m \u001b[1m5s\u001b[0m 4ms/step - accuracy: 0.3303 - loss: 1.5915 - val_accuracy: 0.5262 - val_loss: 1.1863\n",
            "Epoch 3/5\n",
            "\u001b[1m1255/1264\u001b[0m \u001b[32m━━━━━━━━━━━━━━━━━━━\u001b[0m\u001b[37m━\u001b[0m \u001b[1m0s\u001b[0m 3ms/step - accuracy: 0.3439 - loss: 1.5788\n",
            "Epoch 3: val_accuracy improved from 0.52617 to 0.65331, saving model to checkpoints/friends_classifier_epoch_03_valacc_0.65.keras\n",
            "\u001b[1m1264/1264\u001b[0m \u001b[32m━━━━━━━━━━━━━━━━━━━━\u001b[0m\u001b[37m\u001b[0m \u001b[1m5s\u001b[0m 4ms/step - accuracy: 0.3439 - loss: 1.5789 - val_accuracy: 0.6533 - val_loss: 1.1967\n",
            "Epoch 4/5\n",
            "\u001b[1m1254/1264\u001b[0m \u001b[32m━━━━━━━━━━━━━━━━━━━\u001b[0m\u001b[37m━\u001b[0m \u001b[1m0s\u001b[0m 3ms/step - accuracy: 0.3430 - loss: 1.5779\n",
            "Epoch 4: val_accuracy did not improve from 0.65331\n",
            "\u001b[1m1264/1264\u001b[0m \u001b[32m━━━━━━━━━━━━━━━━━━━━\u001b[0m\u001b[37m\u001b[0m \u001b[1m5s\u001b[0m 4ms/step - accuracy: 0.3430 - loss: 1.5779 - val_accuracy: 0.4641 - val_loss: 1.3347\n",
            "Epoch 5/5\n",
            "\u001b[1m1263/1264\u001b[0m \u001b[32m━━━━━━━━━━━━━━━━━━━\u001b[0m\u001b[37m━\u001b[0m \u001b[1m0s\u001b[0m 3ms/step - accuracy: 0.3346 - loss: 1.5823\n",
            "Epoch 5: val_accuracy did not improve from 0.65331\n",
            "\u001b[1m1264/1264\u001b[0m \u001b[32m━━━━━━━━━━━━━━━━━━━━\u001b[0m\u001b[37m\u001b[0m \u001b[1m5s\u001b[0m 4ms/step - accuracy: 0.3346 - loss: 1.5823 - val_accuracy: 0.5464 - val_loss: 1.2037\n"
          ]
        }
      ],
      "source": [
        "#Treinamento com class_weight\n",
        "\n",
        "checkpoint_cb = ModelCheckpoint(\n",
        "    filepath=\"checkpoints/friends_classifier_epoch_{epoch:02d}_valacc_{val_accuracy:.2f}.keras\",\n",
        "    monitor=\"val_accuracy\",\n",
        "    save_best_only=True,\n",
        "    save_weights_only=False,\n",
        "    verbose=1\n",
        ")\n",
        "\n",
        "#Treinamento com os novos pesos\n",
        "history = classifier_model.fit(\n",
        "    x_train_vect,\n",
        "    y_train,\n",
        "    validation_data=(x_test_vect, y_test),\n",
        "    batch_size=32,\n",
        "    epochs=5,\n",
        "    class_weight=class_weight_dict,\n",
        "    callbacks=[checkpoint_cb]\n",
        ")"
      ]
    },
    {
      "cell_type": "code",
      "execution_count": null,
      "metadata": {
        "colab": {
          "base_uri": "https://localhost:8080/"
        },
        "id": "-Oh9UYzW7ltq",
        "outputId": "73bf0b2e-9451-46ce-bcb0-6d41a342a0b7"
      },
      "outputs": [
        {
          "name": "stdout",
          "output_type": "stream",
          "text": [
            "Epoch 1/5\n",
            "\u001b[1m1249/1264\u001b[0m \u001b[32m━━━━━━━━━━━━━━━━━━━\u001b[0m\u001b[37m━\u001b[0m \u001b[1m0s\u001b[0m 3ms/step - accuracy: 0.3451 - loss: 1.5652\n",
            "Epoch 1: val_accuracy did not improve from 0.65331\n",
            "\u001b[1m1264/1264\u001b[0m \u001b[32m━━━━━━━━━━━━━━━━━━━━\u001b[0m\u001b[37m\u001b[0m \u001b[1m5s\u001b[0m 4ms/step - accuracy: 0.3451 - loss: 1.5653 - val_accuracy: 0.4897 - val_loss: 1.1870\n",
            "Epoch 2/5\n",
            "\u001b[1m1251/1264\u001b[0m \u001b[32m━━━━━━━━━━━━━━━━━━━\u001b[0m\u001b[37m━\u001b[0m \u001b[1m0s\u001b[0m 3ms/step - accuracy: 0.3370 - loss: 1.5833\n",
            "Epoch 2: val_accuracy improved from 0.65331 to 0.80053, saving model to checkpoints/friends_classifier_epoch_02_valacc_0.80.keras\n",
            "\u001b[1m1264/1264\u001b[0m \u001b[32m━━━━━━━━━━━━━━━━━━━━\u001b[0m\u001b[37m\u001b[0m \u001b[1m5s\u001b[0m 4ms/step - accuracy: 0.3370 - loss: 1.5833 - val_accuracy: 0.8005 - val_loss: 1.1762\n",
            "Epoch 3/5\n",
            "\u001b[1m1263/1264\u001b[0m \u001b[32m━━━━━━━━━━━━━━━━━━━\u001b[0m\u001b[37m━\u001b[0m \u001b[1m0s\u001b[0m 3ms/step - accuracy: 0.3417 - loss: 1.5696\n",
            "Epoch 3: val_accuracy improved from 0.80053 to 0.85228, saving model to checkpoints/friends_classifier_epoch_03_valacc_0.85.keras\n",
            "\u001b[1m1264/1264\u001b[0m \u001b[32m━━━━━━━━━━━━━━━━━━━━\u001b[0m\u001b[37m\u001b[0m \u001b[1m5s\u001b[0m 4ms/step - accuracy: 0.3417 - loss: 1.5696 - val_accuracy: 0.8523 - val_loss: 1.1632\n",
            "Epoch 4/5\n",
            "\u001b[1m1247/1264\u001b[0m \u001b[32m━━━━━━━━━━━━━━━━━━━\u001b[0m\u001b[37m━\u001b[0m \u001b[1m0s\u001b[0m 3ms/step - accuracy: 0.3392 - loss: 1.5798\n",
            "Epoch 4: val_accuracy did not improve from 0.85228\n",
            "\u001b[1m1264/1264\u001b[0m \u001b[32m━━━━━━━━━━━━━━━━━━━━\u001b[0m\u001b[37m\u001b[0m \u001b[1m5s\u001b[0m 4ms/step - accuracy: 0.3392 - loss: 1.5797 - val_accuracy: 0.7043 - val_loss: 1.1487\n",
            "Epoch 5/5\n",
            "\u001b[1m1260/1264\u001b[0m \u001b[32m━━━━━━━━━━━━━━━━━━━\u001b[0m\u001b[37m━\u001b[0m \u001b[1m0s\u001b[0m 3ms/step - accuracy: 0.3398 - loss: 1.5785\n",
            "Epoch 5: val_accuracy did not improve from 0.85228\n",
            "\u001b[1m1264/1264\u001b[0m \u001b[32m━━━━━━━━━━━━━━━━━━━━\u001b[0m\u001b[37m\u001b[0m \u001b[1m5s\u001b[0m 4ms/step - accuracy: 0.3398 - loss: 1.5785 - val_accuracy: 0.6130 - val_loss: 1.2129\n"
          ]
        }
      ],
      "source": [
        "#Treinar por mais 5 épocas usando os mesmos pesos e callbacks\n",
        "history_more = classifier_model.fit(\n",
        "    x_train_vect,\n",
        "    y_train,\n",
        "    validation_data=(x_test_vect, y_test),\n",
        "    batch_size=32,\n",
        "    epochs=5,\n",
        "    class_weight=class_weight_dict,\n",
        "    callbacks=[checkpoint_cb]\n",
        ")"
      ]
    },
    {
      "cell_type": "code",
      "execution_count": null,
      "metadata": {
        "colab": {
          "base_uri": "https://localhost:8080/"
        },
        "id": "vdBCrGze7nqU",
        "outputId": "622c5893-911a-4ef5-d1b5-79a03a742945"
      },
      "outputs": [
        {
          "name": "stdout",
          "output_type": "stream",
          "text": [
            "Epoch 1/5\n",
            "\u001b[1m1264/1264\u001b[0m \u001b[32m━━━━━━━━━━━━━━━━━━━━\u001b[0m\u001b[37m\u001b[0m \u001b[1m0s\u001b[0m 23ms/step - accuracy: 0.7740 - loss: 0.5909\n",
            "Epoch 1: val_accuracy improved from -inf to 1.00000, saving model to checkpoints/friends_finetuned_epoch_01_valacc_1.00.keras\n",
            "\u001b[1m1264/1264\u001b[0m \u001b[32m━━━━━━━━━━━━━━━━━━━━\u001b[0m\u001b[37m\u001b[0m \u001b[1m58s\u001b[0m 26ms/step - accuracy: 0.7741 - loss: 0.5907 - val_accuracy: 1.0000 - val_loss: 0.0164\n",
            "Epoch 2/5\n",
            "\u001b[1m1261/1264\u001b[0m \u001b[32m━━━━━━━━━━━━━━━━━━━\u001b[0m\u001b[37m━\u001b[0m \u001b[1m0s\u001b[0m 7ms/step - accuracy: 0.9991 - loss: 0.0267\n",
            "Epoch 2: val_accuracy did not improve from 1.00000\n",
            "\u001b[1m1264/1264\u001b[0m \u001b[32m━━━━━━━━━━━━━━━━━━━━\u001b[0m\u001b[37m\u001b[0m \u001b[1m10s\u001b[0m 8ms/step - accuracy: 0.9991 - loss: 0.0267 - val_accuracy: 1.0000 - val_loss: 0.0029\n",
            "Epoch 3/5\n",
            "\u001b[1m1259/1264\u001b[0m \u001b[32m━━━━━━━━━━━━━━━━━━━\u001b[0m\u001b[37m━\u001b[0m \u001b[1m0s\u001b[0m 7ms/step - accuracy: 0.9995 - loss: 0.0077\n",
            "Epoch 3: val_accuracy did not improve from 1.00000\n",
            "\u001b[1m1264/1264\u001b[0m \u001b[32m━━━━━━━━━━━━━━━━━━━━\u001b[0m\u001b[37m\u001b[0m \u001b[1m10s\u001b[0m 8ms/step - accuracy: 0.9995 - loss: 0.0077 - val_accuracy: 1.0000 - val_loss: 8.5550e-04\n",
            "Epoch 4/5\n",
            "\u001b[1m1259/1264\u001b[0m \u001b[32m━━━━━━━━━━━━━━━━━━━\u001b[0m\u001b[37m━\u001b[0m \u001b[1m0s\u001b[0m 7ms/step - accuracy: 0.9999 - loss: 0.0031\n",
            "Epoch 4: val_accuracy did not improve from 1.00000\n",
            "\u001b[1m1264/1264\u001b[0m \u001b[32m━━━━━━━━━━━━━━━━━━━━\u001b[0m\u001b[37m\u001b[0m \u001b[1m10s\u001b[0m 8ms/step - accuracy: 0.9999 - loss: 0.0031 - val_accuracy: 1.0000 - val_loss: 3.6847e-04\n",
            "Epoch 5/5\n",
            "\u001b[1m1257/1264\u001b[0m \u001b[32m━━━━━━━━━━━━━━━━━━━\u001b[0m\u001b[37m━\u001b[0m \u001b[1m0s\u001b[0m 7ms/step - accuracy: 1.0000 - loss: 0.0015\n",
            "Epoch 5: val_accuracy did not improve from 1.00000\n",
            "\u001b[1m1264/1264\u001b[0m \u001b[32m━━━━━━━━━━━━━━━━━━━━\u001b[0m\u001b[37m\u001b[0m \u001b[1m10s\u001b[0m 8ms/step - accuracy: 1.0000 - loss: 0.0015 - val_accuracy: 1.0000 - val_loss: 1.6895e-04\n"
          ]
        }
      ],
      "source": [
        "#Congelar menos camadas do BERT para tentar melhorar o desempenho do classificador\n",
        "\n",
        "#descongela o BERT\n",
        "pretrained_bert_model.trainable = True\n",
        "\n",
        "#Recompila o classificador com uma learning rate menor\n",
        "classifier_model.compile(\n",
        "    optimizer=keras.optimizers.Adam(learning_rate=1e-5),\n",
        "    loss=\"sparse_categorical_crossentropy\",\n",
        "    metrics=[\"accuracy\"]\n",
        ")\n",
        "\n",
        "#checkpoint\n",
        "checkpoint_cb = ModelCheckpoint(\n",
        "    filepath=\"checkpoints/friends_finetuned_epoch_{epoch:02d}_valacc_{val_accuracy:.2f}.keras\",\n",
        "    monitor=\"val_accuracy\",\n",
        "    save_best_only=True,\n",
        "    save_weights_only=False,\n",
        "    verbose=1\n",
        ")\n",
        "\n",
        "#treinamento\n",
        "history = classifier_model.fit(\n",
        "    train_classifier_ds,\n",
        "    validation_data=test_classifier_ds,\n",
        "    epochs=5,\n",
        "    class_weight=class_weight_dict,  # pesos ajustados\n",
        "    callbacks=[checkpoint_cb]\n",
        ")"
      ]
    },
    {
      "cell_type": "markdown",
      "metadata": {
        "id": "posY0IfF27gX"
      },
      "source": [
        "#### Nova matriz confusão"
      ]
    },
    {
      "cell_type": "code",
      "execution_count": null,
      "metadata": {
        "colab": {
          "base_uri": "https://localhost:8080/",
          "height": 841
        },
        "id": "XSNuVbjb9mKx",
        "outputId": "fef48522-f744-4f17-e3ff-a6675c9fc18c"
      },
      "outputs": [
        {
          "data": {
            "image/png": "[encoded data removed]",
            "text/plain": [
              "<Figure size 800x600 with 2 Axes>"
            ]
          },
          "metadata": {},
          "output_type": "display_data"
        },
        {
          "name": "stdout",
          "output_type": "stream",
          "text": [
            "Relatório de Classificação por personagem:\n",
            "\n",
            "              precision    recall  f1-score   support\n",
            "\n",
            "      PHOEBE       1.00      1.00      1.00      1478\n",
            "    CHANDLER       1.00      1.00      1.00      1676\n",
            "      RACHEL       1.00      1.00      1.00      1829\n",
            "      MONICA       1.00      1.00      1.00      1662\n",
            "        ROSS       1.00      1.00      1.00      1820\n",
            "        JOEY       1.00      1.00      1.00      1642\n",
            "\n",
            "    accuracy                           1.00     10107\n",
            "   macro avg       1.00      1.00      1.00     10107\n",
            "weighted avg       1.00      1.00      1.00     10107\n",
            "\n"
          ]
        }
      ],
      "source": [
        "#Matriz de confusão\n",
        "\n",
        "best_model = keras.models.load_model(\"checkpoints/friends_finetuned_epoch_01_valacc_1.00.keras\")\n",
        "\n",
        "y_pred = best_model.predict(x_test_vect, verbose=0)\n",
        "y_pred_classes = np.argmax(y_pred, axis=1)\n",
        "\n",
        "\n",
        "labels = [\"PHOEBE\", \"CHANDLER\", \"RACHEL\", \"MONICA\", \"ROSS\", \"JOEY\"]\n",
        "\n",
        "# Matriz de confusão\n",
        "cm = confusion_matrix(y_test, y_pred_classes)\n",
        "\n",
        "plt.figure(figsize=(8, 6))\n",
        "sns.heatmap(cm, annot=True, fmt='d', cmap=\"Blues\", xticklabels=labels, yticklabels=labels)\n",
        "plt.xlabel(\"Predito\")\n",
        "plt.ylabel(\"Verdadeiro\")\n",
        "plt.title(\"Matriz de Confusão - Classificador Friends\")\n",
        "plt.show()\n",
        "\n",
        "# Relatório de classificação\n",
        "report = classification_report(y_test, y_pred_classes, target_names=labels)\n",
        "print(\"Relatório de Classificação por personagem:\\n\")\n",
        "print(report)"
      ]
    },
    {
      "cell_type": "markdown",
      "metadata": {
        "id": "T68PvrzzEvhb"
      },
      "source": [
        "### **Refazer o pipeline com oversampling**"
      ]
    },
    {
      "cell_type": "code",
      "execution_count": null,
      "metadata": {
        "colab": {
          "base_uri": "https://localhost:8080/",
          "height": 109
        },
        "id": "Mh6GFLuS_PSh",
        "outputId": "7ec3fd61-f8e7-42c3-c905-39200c26a782"
      },
      "outputs": [
        {
          "data": {
            "text/html": [
              "\n",
              "     <input type=\"file\" id=\"files-acf30cde-512f-4cdb-a8ff-d32e1f1acc81\" name=\"files[]\" multiple disabled\n",
              "        style=\"border:none\" />\n",
              "     <output id=\"result-acf30cde-512f-4cdb-a8ff-d32e1f1acc81\">\n",
              "      Upload widget is only available when the cell has been executed in the\n",
              "      current browser session. Please rerun this cell to enable.\n",
              "      </output>\n",
              "      <script>// Copyright 2017 Google LLC\n",
              "//\n",
              "// Licensed under the Apache License, Version 2.0 (the \"License\");\n",
              "// you may not use this file except in compliance with the License.\n",
              "// You may obtain a copy of the License at\n",
              "//\n",
              "//      http://www.apache.org/licenses/LICENSE-2.0\n",
              "//\n",
              "// Unless required by applicable law or agreed to in writing, software\n",
              "// distributed under the License is distributed on an \"AS IS\" BASIS,\n",
              "// WITHOUT WARRANTIES OR CONDITIONS OF ANY KIND, either express or implied.\n",
              "// See the License for the specific language governing permissions and\n",
              "// limitations under the License.\n",
              "\n",
              "/**\n",
              " * @fileoverview Helpers for google.colab Python module.\n",
              " */\n",
              "(function(scope) {\n",
              "function span(text, styleAttributes = {}) {\n",
              "  const element = document.createElement('span');\n",
              "  element.textContent = text;\n",
              "  for (const key of Object.keys(styleAttributes)) {\n",
              "    element.style[key] = styleAttributes[key];\n",
              "  }\n",
              "  return element;\n",
              "}\n",
              "\n",
              "// Max number of bytes which will be uploaded at a time.\n",
              "const MAX_PAYLOAD_SIZE = 100 * 1024;\n",
              "\n",
              "function _uploadFiles(inputId, outputId) {\n",
              "  const steps = uploadFilesStep(inputId, outputId);\n",
              "  const outputElement = document.getElementById(outputId);\n",
              "  // Cache steps on the outputElement to make it available for the next call\n",
              "  // to uploadFilesContinue from Python.\n",
              "  outputElement.steps = steps;\n",
              "\n",
              "  return _uploadFilesContinue(outputId);\n",
              "}\n",
              "\n",
              "// This is roughly an async generator (not supported in the browser yet),\n",
              "// where there are multiple asynchronous steps and the Python side is going\n",
              "// to poll for completion of each step.\n",
              "// This uses a Promise to block the python side on completion of each step,\n",
              "// then passes the result of the previous step as the input to the next step.\n",
              "function _uploadFilesContinue(outputId) {\n",
              "  const outputElement = document.getElementById(outputId);\n",
              "  const steps = outputElement.steps;\n",
              "\n",
              "  const next = steps.next(outputElement.lastPromiseValue);\n",
              "  return Promise.resolve(next.value.promise).then((value) => {\n",
              "    // Cache the last promise value to make it available to the next\n",
              "    // step of the generator.\n",
              "    outputElement.lastPromiseValue = value;\n",
              "    return next.value.response;\n",
              "  });\n",
              "}\n",
              "\n",
              "/**\n",
              " * Generator function which is called between each async step of the upload\n",
              " * process.\n",
              " * @param {string} inputId Element ID of the input file picker element.\n",
              " * @param {string} outputId Element ID of the output display.\n",
              " * @return {!Iterable<!Object>} Iterable of next steps.\n",
              " */\n",
              "function* uploadFilesStep(inputId, outputId) {\n",
              "  const inputElement = document.getElementById(inputId);\n",
              "  inputElement.disabled = false;\n",
              "\n",
              "  const outputElement = document.getElementById(outputId);\n",
              "  outputElement.innerHTML = '';\n",
              "\n",
              "  const pickedPromise = new Promise((resolve) => {\n",
              "    inputElement.addEventListener('change', (e) => {\n",
              "      resolve(e.target.files);\n",
              "    });\n",
              "  });\n",
              "\n",
              "  const cancel = document.createElement('button');\n",
              "  inputElement.parentElement.appendChild(cancel);\n",
              "  cancel.textContent = 'Cancel upload';\n",
              "  const cancelPromise = new Promise((resolve) => {\n",
              "    cancel.onclick = () => {\n",
              "      resolve(null);\n",
              "    };\n",
              "  });\n",
              "\n",
              "  // Wait for the user to pick the files.\n",
              "  const files = yield {\n",
              "    promise: Promise.race([pickedPromise, cancelPromise]),\n",
              "    response: {\n",
              "      action: 'starting',\n",
              "    }\n",
              "  };\n",
              "\n",
              "  cancel.remove();\n",
              "\n",
              "  // Disable the input element since further picks are not allowed.\n",
              "  inputElement.disabled = true;\n",
              "\n",
              "  if (!files) {\n",
              "    return {\n",
              "      response: {\n",
              "        action: 'complete',\n",
              "      }\n",
              "    };\n",
              "  }\n",
              "\n",
              "  for (const file of files) {\n",
              "    const li = document.createElement('li');\n",
              "    li.append(span(file.name, {fontWeight: 'bold'}));\n",
              "    li.append(span(\n",
              "        `(${file.type || 'n/a'}) - ${file.size} bytes, ` +\n",
              "        `last modified: ${\n",
              "            file.lastModifiedDate ? file.lastModifiedDate.toLocaleDateString() :\n",
              "                                    'n/a'} - `));\n",
              "    const percent = span('0% done');\n",
              "    li.appendChild(percent);\n",
              "\n",
              "    outputElement.appendChild(li);\n",
              "\n",
              "    const fileDataPromise = new Promise((resolve) => {\n",
              "      const reader = new FileReader();\n",
              "      reader.onload = (e) => {\n",
              "        resolve(e.target.result);\n",
              "      };\n",
              "      reader.readAsArrayBuffer(file);\n",
              "    });\n",
              "    // Wait for the data to be ready.\n",
              "    let fileData = yield {\n",
              "      promise: fileDataPromise,\n",
              "      response: {\n",
              "        action: 'continue',\n",
              "      }\n",
              "    };\n",
              "\n",
              "    // Use a chunked sending to avoid message size limits. See b/62115660.\n",
              "    let position = 0;\n",
              "    do {\n",
              "      const length = Math.min(fileData.byteLength - position, MAX_PAYLOAD_SIZE);\n",
              "      const chunk = new Uint8Array(fileData, position, length);\n",
              "      position += length;\n",
              "\n",
              "      const base64 = btoa(String.fromCharCode.apply(null, chunk));\n",
              "      yield {\n",
              "        response: {\n",
              "          action: 'append',\n",
              "          file: file.name,\n",
              "          data: base64,\n",
              "        },\n",
              "      };\n",
              "\n",
              "      let percentDone = fileData.byteLength === 0 ?\n",
              "          100 :\n",
              "          Math.round((position / fileData.byteLength) * 100);\n",
              "      percent.textContent = `${percentDone}% done`;\n",
              "\n",
              "    } while (position < fileData.byteLength);\n",
              "  }\n",
              "\n",
              "  // All done.\n",
              "  yield {\n",
              "    response: {\n",
              "      action: 'complete',\n",
              "    }\n",
              "  };\n",
              "}\n",
              "\n",
              "scope.google = scope.google || {};\n",
              "scope.google.colab = scope.google.colab || {};\n",
              "scope.google.colab._files = {\n",
              "  _uploadFiles,\n",
              "  _uploadFilesContinue,\n",
              "};\n",
              "})(self);\n",
              "</script> "
            ],
            "text/plain": [
              "<IPython.core.display.HTML object>"
            ]
          },
          "metadata": {},
          "output_type": "display_data"
        },
        {
          "name": "stdout",
          "output_type": "stream",
          "text": [
            "Saving falas_tagged.txt to falas_tagged.txt\n",
            "Total de falas: 50531\n",
            "Exemplo de fala: [PHOEBE] wait, does he eat chalk?\n"
          ]
        }
      ],
      "source": [
        "#Recarregar a base de dados falas_tagged\n",
        "\n",
        "uploaded = files.upload()\n",
        "\n",
        "with open(\"falas_tagged.txt\", \"r\", encoding=\"utf-8\") as f:\n",
        "    falas_tagged = f.read().splitlines()\n",
        "\n",
        "# Verifica algumas amostras\n",
        "print(f\"Total de falas: {len(falas_tagged)}\")\n",
        "print(\"Exemplo de fala:\", falas_tagged[0])"
      ]
    },
    {
      "cell_type": "code",
      "execution_count": null,
      "metadata": {
        "colab": {
          "base_uri": "https://localhost:8080/"
        },
        "id": "hcwwpparE5P_",
        "outputId": "c99578da-7f2e-45ef-c333-84690d894947"
      },
      "outputs": [
        {
          "name": "stdout",
          "output_type": "stream",
          "text": [
            "[PHOEBE]: 7389 falas\n",
            "[CHANDLER]: 8381 falas\n",
            "[RACHEL]: 9142 falas\n",
            "[MONICA]: 8310 falas\n",
            "[ROSS]: 9099 falas\n",
            "[JOEY]: 8210 falas\n"
          ]
        }
      ],
      "source": [
        "#Prepara para aplicar o Oversampling\n",
        "\n",
        "from collections import defaultdict\n",
        "\n",
        "#Contar falas por personagem\n",
        "falas_por_personagem = defaultdict(list)\n",
        "\n",
        "for fala in falas_tagged:\n",
        "    if fala.startswith(\"[\") and \"]\" in fala:\n",
        "        personagem = fala.split(\"]\")[0] + \"]\"\n",
        "        falas_por_personagem[personagem].append(fala)\n",
        "\n",
        "#Exibe contagem atual por personagem\n",
        "for personagem, falas in falas_por_personagem.items():\n",
        "    print(f\"{personagem}: {len(falas)} falas\")"
      ]
    },
    {
      "cell_type": "code",
      "execution_count": null,
      "metadata": {
        "colab": {
          "base_uri": "https://localhost:8080/"
        },
        "id": "8-mT8OLpGfsS",
        "outputId": "dc656858-2cf6-4ccb-ce09-5c46d7e6414f"
      },
      "outputs": [
        {
          "name": "stdout",
          "output_type": "stream",
          "text": [
            "\n",
            "Total de falas balanceadas: 54852\n"
          ]
        }
      ],
      "source": [
        "#aplicar o Oversampling\n",
        "import random\n",
        "\n",
        "# Encontra o personagem com mais falas\n",
        "max_falas = max(len(falas) for falas in falas_por_personagem.values())\n",
        "\n",
        "# Aplica o oversampling\n",
        "falas_balanceadas = []\n",
        "\n",
        "for personagem, falas in falas_por_personagem.items():\n",
        "    if len(falas) < max_falas:\n",
        "        multiplicado = falas * (max_falas // len(falas))\n",
        "        resto = random.choices(falas, k=max_falas - len(multiplicado))\n",
        "        falas_balanceadas.extend(multiplicado + resto)\n",
        "    else:\n",
        "        falas_balanceadas.extend(falas)\n",
        "\n",
        "# Embaralha as falas para evitar agrupamento por personagem\n",
        "random.shuffle(falas_balanceadas)\n",
        "\n",
        "print(f\"\\nTotal de falas balanceadas: {len(falas_balanceadas)}\")"
      ]
    },
    {
      "cell_type": "code",
      "execution_count": null,
      "metadata": {
        "colab": {
          "base_uri": "https://localhost:8080/",
          "height": 17
        },
        "id": "88rKgfaRGu5y",
        "outputId": "b246ec55-031b-4c24-fde2-b0f74a5f116f"
      },
      "outputs": [
        {
          "data": {
            "application/javascript": "\n    async function download(id, filename, size) {\n      if (!google.colab.kernel.accessAllowed) {\n        return;\n      }\n      const div = document.createElement('div');\n      const label = document.createElement('label');\n      label.textContent = `Downloading \"${filename}\": `;\n      div.appendChild(label);\n      const progress = document.createElement('progress');\n      progress.max = size;\n      div.appendChild(progress);\n      document.body.appendChild(div);\n\n      const buffers = [];\n      let downloaded = 0;\n\n      const channel = await google.colab.kernel.comms.open(id);\n      // Send a message to notify the kernel that we're ready.\n      channel.send({})\n\n      for await (const message of channel.messages) {\n        // Send a message to notify the kernel that we're ready.\n        channel.send({})\n        if (message.buffers) {\n          for (const buffer of message.buffers) {\n            buffers.push(buffer);\n            downloaded += buffer.byteLength;\n            progress.value = downloaded;\n          }\n        }\n      }\n      const blob = new Blob(buffers, {type: 'application/binary'});\n      const a = document.createElement('a');\n      a.href = window.URL.createObjectURL(blob);\n      a.download = filename;\n      div.appendChild(a);\n      a.click();\n      div.remove();\n    }\n  ",
            "text/plain": [
              "<IPython.core.display.Javascript object>"
            ]
          },
          "metadata": {},
          "output_type": "display_data"
        },
        {
          "data": {
            "application/javascript": "download(\"download_ac42f5ca-2f3d-4e0a-b8e4-96db35e6f8cd\", \"falas_balanceadas.txt\", 3514281)",
            "text/plain": [
              "<IPython.core.display.Javascript object>"
            ]
          },
          "metadata": {},
          "output_type": "display_data"
        }
      ],
      "source": [
        "#salva novo ds balanceado\n",
        "with open(\"falas_balanceadas.txt\", \"w\", encoding=\"utf-8\") as f:\n",
        "    f.write(\"\\n\".join(falas_balanceadas))\n",
        "\n",
        "# Download no Colab\n",
        "from google.colab import files\n",
        "files.download(\"falas_balanceadas.txt\")"
      ]
    },
    {
      "cell_type": "code",
      "execution_count": null,
      "metadata": {
        "colab": {
          "base_uri": "https://localhost:8080/",
          "height": 17
        },
        "id": "BvvLdUMYE7cI",
        "outputId": "7491e13c-ffc6-487b-ef39-079c4928f6d6"
      },
      "outputs": [
        {
          "data": {
            "application/javascript": "\n    async function download(id, filename, size) {\n      if (!google.colab.kernel.accessAllowed) {\n        return;\n      }\n      const div = document.createElement('div');\n      const label = document.createElement('label');\n      label.textContent = `Downloading \"${filename}\": `;\n      div.appendChild(label);\n      const progress = document.createElement('progress');\n      progress.max = size;\n      div.appendChild(progress);\n      document.body.appendChild(div);\n\n      const buffers = [];\n      let downloaded = 0;\n\n      const channel = await google.colab.kernel.comms.open(id);\n      // Send a message to notify the kernel that we're ready.\n      channel.send({})\n\n      for await (const message of channel.messages) {\n        // Send a message to notify the kernel that we're ready.\n        channel.send({})\n        if (message.buffers) {\n          for (const buffer of message.buffers) {\n            buffers.push(buffer);\n            downloaded += buffer.byteLength;\n            progress.value = downloaded;\n          }\n        }\n      }\n      const blob = new Blob(buffers, {type: 'application/binary'});\n      const a = document.createElement('a');\n      a.href = window.URL.createObjectURL(blob);\n      a.download = filename;\n      div.appendChild(a);\n      a.click();\n      div.remove();\n    }\n  ",
            "text/plain": [
              "<IPython.core.display.Javascript object>"
            ]
          },
          "metadata": {},
          "output_type": "display_data"
        },
        {
          "data": {
            "application/javascript": "download(\"download_0f3d8996-740e-4e16-b916-4aeff471e238\", \"vectorize_layer_friends_balanced.keras\", 276665)",
            "text/plain": [
              "<IPython.core.display.Javascript object>"
            ]
          },
          "metadata": {},
          "output_type": "display_data"
        }
      ],
      "source": [
        "#Atualizar a vectorize_layer para a nova bd balanceada\n",
        "\n",
        "import tensorflow as tf\n",
        "from tensorflow.keras.layers import TextVectorization\n",
        "from tensorflow import keras\n",
        "\n",
        "#Custom standardization\n",
        "def custom_standardization(input_string):\n",
        "    lowercase = tf.strings.lower(input_string)\n",
        "    return tf.strings.regex_replace(lowercase, r\"[^\\w\\s\\[\\]]\", \"\")\n",
        "\n",
        "#Cria a camada de vetorização com [MASK]\n",
        "def get_vectorize_layer(texts, vocab_size=30000, max_seq_length=128, special_tokens=[\"[MASK]\"]):\n",
        "    vectorize_layer = TextVectorization(\n",
        "        max_tokens=vocab_size,\n",
        "        output_mode=\"int\",\n",
        "        standardize=custom_standardization,\n",
        "        output_sequence_length=max_seq_length,\n",
        "    )\n",
        "\n",
        "    # Adapta com os textos\n",
        "    vectorize_layer.adapt(texts)\n",
        "\n",
        "    # Constrói vocabulário com tokens especiais no início\n",
        "    vocab = vectorize_layer.get_vocabulary()\n",
        "    vocab = [tok for tok in vocab if tok not in [\"\", \"[UNK]\"] + special_tokens]\n",
        "    vocab = vocab[:vocab_size - len(special_tokens) - 2]\n",
        "    vocab_final = [\"\", \"[UNK]\"] + special_tokens + vocab\n",
        "\n",
        "    vectorize_layer.set_vocabulary(vocab_final)\n",
        "    return vectorize_layer\n",
        "\n",
        "#Junta as falas balanceadas\n",
        "falas_balanceadas = [fala for falas in falas_por_personagem.values() for fala in falas]\n",
        "vectorize_layer = get_vectorize_layer(falas_balanceadas)\n",
        "\n",
        "# Salva a camada como modelo\n",
        "vectorize_model = keras.Sequential([vectorize_layer])\n",
        "vectorize_model(tf.constant([\"exemplo de texto\"]))\n",
        "vectorize_model.save(\"vectorize_layer_friends_balanced.keras\")\n",
        "\n",
        "# Faz download\n",
        "from google.colab import files\n",
        "files.download(\"vectorize_layer_friends_balanced.keras\")"
      ]
    },
    {
      "cell_type": "code",
      "execution_count": null,
      "metadata": {
        "id": "Dv36hximE9ia"
      },
      "outputs": [],
      "source": [
        "#Codificar os textos e aplicar o masking para MLM\n",
        "\n",
        "def encode(texts, vectorize_layer):\n",
        "    return vectorize_layer(texts).numpy()\n",
        "\n",
        "\n",
        "def get_masked_input_and_labels(encoded_texts, mask_token_id):\n",
        "    #Aplica máscara em 15% dos tokens\n",
        "    inp_mask = np.random.rand(*encoded_texts.shape) < 0.15\n",
        "    inp_mask[encoded_texts <= 2] = False  # Não aplica em padding, OOV ou [MASK]\n",
        "\n",
        "    #Cria rótulos com -1 nos tokens que não queremos prever\n",
        "    y_labels = np.full_like(encoded_texts, fill_value=-1)\n",
        "    y_labels[inp_mask] = encoded_texts[inp_mask]\n",
        "\n",
        "    #Copia os tokens para aplicar a máscara\n",
        "    encoded_texts_masked = np.copy(encoded_texts)\n",
        "\n",
        "    #90% dos tokens mascarados viram [MASK]\n",
        "    inp_mask_2mask = inp_mask & (np.random.rand(*encoded_texts.shape) < 0.90)\n",
        "    encoded_texts_masked[inp_mask_2mask] = mask_token_id\n",
        "\n",
        "    #10% viram tokens aleatórios válidos\n",
        "    vocab_size = len(vectorize_layer.get_vocabulary())\n",
        "    inp_mask_2random = inp_mask & (np.random.rand(*encoded_texts.shape) < 0.10)\n",
        "    encoded_texts_masked[inp_mask_2random] = np.random.randint(3, vocab_size, inp_mask_2random.sum())\n",
        "\n",
        "    #Define os pesos (só computa o loss onde há token verdadeiro)\n",
        "    sample_weights = np.where(y_labels != -1, 1.0, 0.0).astype(np.float32)\n",
        "\n",
        "    return encoded_texts_masked.astype(np.int32), y_labels.astype(np.int32), sample_weights\n"
      ]
    },
    {
      "cell_type": "code",
      "execution_count": null,
      "metadata": {
        "id": "9PUR7hprITPG"
      },
      "outputs": [],
      "source": [
        "#Codifica os textos\n",
        "x_encoded = encode(falas_balanceadas, vectorize_layer)\n",
        "\n",
        "\n",
        "vocab = vectorize_layer.get_vocabulary()\n",
        "id2token = dict(enumerate(vocab))\n",
        "token2id = {token: idx for idx, token in enumerate(vocab)}\n",
        "mask_token_id = token2id[\"[MASK]\"]\n",
        "\n",
        "#masking\n",
        "x_masked, y_labels, sample_weights = get_masked_input_and_labels(x_encoded, mask_token_id)"
      ]
    },
    {
      "cell_type": "code",
      "execution_count": null,
      "metadata": {
        "id": "o-sHjc5rIrLc"
      },
      "outputs": [],
      "source": [
        "#dataset de treinamento para MLM\n",
        "\n",
        "BATCH_SIZE = 32\n",
        "\n",
        "mlm_ds = tf.data.Dataset.from_tensor_slices((x_masked, y_labels, sample_weights))\n",
        "\n",
        "mlm_ds = mlm_ds.shuffle(buffer_size=1000).batch(BATCH_SIZE)"
      ]
    },
    {
      "cell_type": "code",
      "execution_count": null,
      "metadata": {
        "colab": {
          "base_uri": "https://localhost:8080/",
          "height": 1000
        },
        "id": "mgJvbm9rJBHk",
        "outputId": "04d1e356-ff03-4f7e-df9e-d6f3909c25ab"
      },
      "outputs": [
        {
          "data": {
            "text/html": [
              "<pre style=\"white-space:pre;overflow-x:auto;line-height:normal;font-family:Menlo,'DejaVu Sans Mono',consolas,'Courier New',monospace\"><span style=\"font-weight: bold\">Model: \"bert_mlm_friends\"</span>\n",
              "</pre>\n"
            ],
            "text/plain": [
              "\u001b[1mModel: \"bert_mlm_friends\"\u001b[0m\n"
            ]
          },
          "metadata": {},
          "output_type": "display_data"
        },
        {
          "data": {
            "text/html": [
              "<pre style=\"white-space:pre;overflow-x:auto;line-height:normal;font-family:Menlo,'DejaVu Sans Mono',consolas,'Courier New',monospace\">┏━━━━━━━━━━━━━━━━━━━━━┳━━━━━━━━━━━━━━━━━━━┳━━━━━━━━━━━━┳━━━━━━━━━━━━━━━━━━━┓\n",
              "┃<span style=\"font-weight: bold\"> Layer (type)        </span>┃<span style=\"font-weight: bold\"> Output Shape      </span>┃<span style=\"font-weight: bold\">    Param # </span>┃<span style=\"font-weight: bold\"> Connected to      </span>┃\n",
              "┡━━━━━━━━━━━━━━━━━━━━━╇━━━━━━━━━━━━━━━━━━━╇━━━━━━━━━━━━╇━━━━━━━━━━━━━━━━━━━┩\n",
              "│ input_ids           │ (<span style=\"color: #00d7ff; text-decoration-color: #00d7ff\">None</span>, <span style=\"color: #00af00; text-decoration-color: #00af00\">128</span>)       │          <span style=\"color: #00af00; text-decoration-color: #00af00\">0</span> │ -                 │\n",
              "│ (<span style=\"color: #0087ff; text-decoration-color: #0087ff\">InputLayer</span>)        │                   │            │                   │\n",
              "├─────────────────────┼───────────────────┼────────────┼───────────────────┤\n",
              "│ word_embedding      │ (<span style=\"color: #00d7ff; text-decoration-color: #00d7ff\">None</span>, <span style=\"color: #00af00; text-decoration-color: #00af00\">128</span>, <span style=\"color: #00af00; text-decoration-color: #00af00\">128</span>)  │  <span style=\"color: #00af00; text-decoration-color: #00af00\">3,840,000</span> │ input_ids[<span style=\"color: #00af00; text-decoration-color: #00af00\">0</span>][<span style=\"color: #00af00; text-decoration-color: #00af00\">0</span>]   │\n",
              "│ (<span style=\"color: #0087ff; text-decoration-color: #0087ff\">Embedding</span>)         │                   │            │                   │\n",
              "├─────────────────────┼───────────────────┼────────────┼───────────────────┤\n",
              "│ position_embedding  │ (<span style=\"color: #00d7ff; text-decoration-color: #00d7ff\">None</span>, <span style=\"color: #00af00; text-decoration-color: #00af00\">128</span>, <span style=\"color: #00af00; text-decoration-color: #00af00\">128</span>)  │     <span style=\"color: #00af00; text-decoration-color: #00af00\">16,384</span> │ word_embedding[<span style=\"color: #00af00; text-decoration-color: #00af00\">0</span>… │\n",
              "│ (<span style=\"color: #0087ff; text-decoration-color: #0087ff\">PositionEmbedding</span>) │                   │            │                   │\n",
              "├─────────────────────┼───────────────────┼────────────┼───────────────────┤\n",
              "│ add_27 (<span style=\"color: #0087ff; text-decoration-color: #0087ff\">Add</span>)        │ (<span style=\"color: #00d7ff; text-decoration-color: #00d7ff\">None</span>, <span style=\"color: #00af00; text-decoration-color: #00af00\">128</span>, <span style=\"color: #00af00; text-decoration-color: #00af00\">128</span>)  │          <span style=\"color: #00af00; text-decoration-color: #00af00\">0</span> │ word_embedding[<span style=\"color: #00af00; text-decoration-color: #00af00\">0</span>… │\n",
              "│                     │                   │            │ position_embeddi… │\n",
              "├─────────────────────┼───────────────────┼────────────┼───────────────────┤\n",
              "│ encoder_0_multihea… │ (<span style=\"color: #00d7ff; text-decoration-color: #00d7ff\">None</span>, <span style=\"color: #00af00; text-decoration-color: #00af00\">128</span>, <span style=\"color: #00af00; text-decoration-color: #00af00\">128</span>)  │     <span style=\"color: #00af00; text-decoration-color: #00af00\">66,048</span> │ add_27[<span style=\"color: #00af00; text-decoration-color: #00af00\">0</span>][<span style=\"color: #00af00; text-decoration-color: #00af00\">0</span>],     │\n",
              "│ (<span style=\"color: #0087ff; text-decoration-color: #0087ff\">MultiHeadAttentio…</span> │                   │            │ add_27[<span style=\"color: #00af00; text-decoration-color: #00af00\">0</span>][<span style=\"color: #00af00; text-decoration-color: #00af00\">0</span>],     │\n",
              "│                     │                   │            │ add_27[<span style=\"color: #00af00; text-decoration-color: #00af00\">0</span>][<span style=\"color: #00af00; text-decoration-color: #00af00\">0</span>]      │\n",
              "├─────────────────────┼───────────────────┼────────────┼───────────────────┤\n",
              "│ encoder_0_att_drop… │ (<span style=\"color: #00d7ff; text-decoration-color: #00d7ff\">None</span>, <span style=\"color: #00af00; text-decoration-color: #00af00\">128</span>, <span style=\"color: #00af00; text-decoration-color: #00af00\">128</span>)  │          <span style=\"color: #00af00; text-decoration-color: #00af00\">0</span> │ encoder_0_multih… │\n",
              "│ (<span style=\"color: #0087ff; text-decoration-color: #0087ff\">Dropout</span>)           │                   │            │                   │\n",
              "├─────────────────────┼───────────────────┼────────────┼───────────────────┤\n",
              "│ add_28 (<span style=\"color: #0087ff; text-decoration-color: #0087ff\">Add</span>)        │ (<span style=\"color: #00d7ff; text-decoration-color: #00d7ff\">None</span>, <span style=\"color: #00af00; text-decoration-color: #00af00\">128</span>, <span style=\"color: #00af00; text-decoration-color: #00af00\">128</span>)  │          <span style=\"color: #00af00; text-decoration-color: #00af00\">0</span> │ add_27[<span style=\"color: #00af00; text-decoration-color: #00af00\">0</span>][<span style=\"color: #00af00; text-decoration-color: #00af00\">0</span>],     │\n",
              "│                     │                   │            │ encoder_0_att_dr… │\n",
              "├─────────────────────┼───────────────────┼────────────┼───────────────────┤\n",
              "│ encoder_0_att_laye… │ (<span style=\"color: #00d7ff; text-decoration-color: #00d7ff\">None</span>, <span style=\"color: #00af00; text-decoration-color: #00af00\">128</span>, <span style=\"color: #00af00; text-decoration-color: #00af00\">128</span>)  │        <span style=\"color: #00af00; text-decoration-color: #00af00\">256</span> │ add_28[<span style=\"color: #00af00; text-decoration-color: #00af00\">0</span>][<span style=\"color: #00af00; text-decoration-color: #00af00\">0</span>]      │\n",
              "│ (<span style=\"color: #0087ff; text-decoration-color: #0087ff\">LayerNormalizatio…</span> │                   │            │                   │\n",
              "├─────────────────────┼───────────────────┼────────────┼───────────────────┤\n",
              "│ encoder_0_ffn       │ (<span style=\"color: #00d7ff; text-decoration-color: #00d7ff\">None</span>, <span style=\"color: #00af00; text-decoration-color: #00af00\">128</span>, <span style=\"color: #00af00; text-decoration-color: #00af00\">128</span>)  │     <span style=\"color: #00af00; text-decoration-color: #00af00\">65,920</span> │ encoder_0_att_la… │\n",
              "│ (<span style=\"color: #0087ff; text-decoration-color: #0087ff\">Sequential</span>)        │                   │            │                   │\n",
              "├─────────────────────┼───────────────────┼────────────┼───────────────────┤\n",
              "│ encoder_0_ffn_drop… │ (<span style=\"color: #00d7ff; text-decoration-color: #00d7ff\">None</span>, <span style=\"color: #00af00; text-decoration-color: #00af00\">128</span>, <span style=\"color: #00af00; text-decoration-color: #00af00\">128</span>)  │          <span style=\"color: #00af00; text-decoration-color: #00af00\">0</span> │ encoder_0_ffn[<span style=\"color: #00af00; text-decoration-color: #00af00\">0</span>]… │\n",
              "│ (<span style=\"color: #0087ff; text-decoration-color: #0087ff\">Dropout</span>)           │                   │            │                   │\n",
              "├─────────────────────┼───────────────────┼────────────┼───────────────────┤\n",
              "│ add_29 (<span style=\"color: #0087ff; text-decoration-color: #0087ff\">Add</span>)        │ (<span style=\"color: #00d7ff; text-decoration-color: #00d7ff\">None</span>, <span style=\"color: #00af00; text-decoration-color: #00af00\">128</span>, <span style=\"color: #00af00; text-decoration-color: #00af00\">128</span>)  │          <span style=\"color: #00af00; text-decoration-color: #00af00\">0</span> │ encoder_0_att_la… │\n",
              "│                     │                   │            │ encoder_0_ffn_dr… │\n",
              "├─────────────────────┼───────────────────┼────────────┼───────────────────┤\n",
              "│ encoder_0_ffn_laye… │ (<span style=\"color: #00d7ff; text-decoration-color: #00d7ff\">None</span>, <span style=\"color: #00af00; text-decoration-color: #00af00\">128</span>, <span style=\"color: #00af00; text-decoration-color: #00af00\">128</span>)  │        <span style=\"color: #00af00; text-decoration-color: #00af00\">256</span> │ add_29[<span style=\"color: #00af00; text-decoration-color: #00af00\">0</span>][<span style=\"color: #00af00; text-decoration-color: #00af00\">0</span>]      │\n",
              "│ (<span style=\"color: #0087ff; text-decoration-color: #0087ff\">LayerNormalizatio…</span> │                   │            │                   │\n",
              "├─────────────────────┼───────────────────┼────────────┼───────────────────┤\n",
              "│ encoder_1_multihea… │ (<span style=\"color: #00d7ff; text-decoration-color: #00d7ff\">None</span>, <span style=\"color: #00af00; text-decoration-color: #00af00\">128</span>, <span style=\"color: #00af00; text-decoration-color: #00af00\">128</span>)  │     <span style=\"color: #00af00; text-decoration-color: #00af00\">66,048</span> │ encoder_0_ffn_la… │\n",
              "│ (<span style=\"color: #0087ff; text-decoration-color: #0087ff\">MultiHeadAttentio…</span> │                   │            │ encoder_0_ffn_la… │\n",
              "│                     │                   │            │ encoder_0_ffn_la… │\n",
              "├─────────────────────┼───────────────────┼────────────┼───────────────────┤\n",
              "│ encoder_1_att_drop… │ (<span style=\"color: #00d7ff; text-decoration-color: #00d7ff\">None</span>, <span style=\"color: #00af00; text-decoration-color: #00af00\">128</span>, <span style=\"color: #00af00; text-decoration-color: #00af00\">128</span>)  │          <span style=\"color: #00af00; text-decoration-color: #00af00\">0</span> │ encoder_1_multih… │\n",
              "│ (<span style=\"color: #0087ff; text-decoration-color: #0087ff\">Dropout</span>)           │                   │            │                   │\n",
              "├─────────────────────┼───────────────────┼────────────┼───────────────────┤\n",
              "│ add_30 (<span style=\"color: #0087ff; text-decoration-color: #0087ff\">Add</span>)        │ (<span style=\"color: #00d7ff; text-decoration-color: #00d7ff\">None</span>, <span style=\"color: #00af00; text-decoration-color: #00af00\">128</span>, <span style=\"color: #00af00; text-decoration-color: #00af00\">128</span>)  │          <span style=\"color: #00af00; text-decoration-color: #00af00\">0</span> │ encoder_0_ffn_la… │\n",
              "│                     │                   │            │ encoder_1_att_dr… │\n",
              "├─────────────────────┼───────────────────┼────────────┼───────────────────┤\n",
              "│ encoder_1_att_laye… │ (<span style=\"color: #00d7ff; text-decoration-color: #00d7ff\">None</span>, <span style=\"color: #00af00; text-decoration-color: #00af00\">128</span>, <span style=\"color: #00af00; text-decoration-color: #00af00\">128</span>)  │        <span style=\"color: #00af00; text-decoration-color: #00af00\">256</span> │ add_30[<span style=\"color: #00af00; text-decoration-color: #00af00\">0</span>][<span style=\"color: #00af00; text-decoration-color: #00af00\">0</span>]      │\n",
              "│ (<span style=\"color: #0087ff; text-decoration-color: #0087ff\">LayerNormalizatio…</span> │                   │            │                   │\n",
              "├─────────────────────┼───────────────────┼────────────┼───────────────────┤\n",
              "│ encoder_1_ffn       │ (<span style=\"color: #00d7ff; text-decoration-color: #00d7ff\">None</span>, <span style=\"color: #00af00; text-decoration-color: #00af00\">128</span>, <span style=\"color: #00af00; text-decoration-color: #00af00\">128</span>)  │     <span style=\"color: #00af00; text-decoration-color: #00af00\">65,920</span> │ encoder_1_att_la… │\n",
              "│ (<span style=\"color: #0087ff; text-decoration-color: #0087ff\">Sequential</span>)        │                   │            │                   │\n",
              "├─────────────────────┼───────────────────┼────────────┼───────────────────┤\n",
              "│ encoder_1_ffn_drop… │ (<span style=\"color: #00d7ff; text-decoration-color: #00d7ff\">None</span>, <span style=\"color: #00af00; text-decoration-color: #00af00\">128</span>, <span style=\"color: #00af00; text-decoration-color: #00af00\">128</span>)  │          <span style=\"color: #00af00; text-decoration-color: #00af00\">0</span> │ encoder_1_ffn[<span style=\"color: #00af00; text-decoration-color: #00af00\">0</span>]… │\n",
              "│ (<span style=\"color: #0087ff; text-decoration-color: #0087ff\">Dropout</span>)           │                   │            │                   │\n",
              "├─────────────────────┼───────────────────┼────────────┼───────────────────┤\n",
              "│ add_31 (<span style=\"color: #0087ff; text-decoration-color: #0087ff\">Add</span>)        │ (<span style=\"color: #00d7ff; text-decoration-color: #00d7ff\">None</span>, <span style=\"color: #00af00; text-decoration-color: #00af00\">128</span>, <span style=\"color: #00af00; text-decoration-color: #00af00\">128</span>)  │          <span style=\"color: #00af00; text-decoration-color: #00af00\">0</span> │ encoder_1_att_la… │\n",
              "│                     │                   │            │ encoder_1_ffn_dr… │\n",
              "├─────────────────────┼───────────────────┼────────────┼───────────────────┤\n",
              "│ encoder_1_ffn_laye… │ (<span style=\"color: #00d7ff; text-decoration-color: #00d7ff\">None</span>, <span style=\"color: #00af00; text-decoration-color: #00af00\">128</span>, <span style=\"color: #00af00; text-decoration-color: #00af00\">128</span>)  │        <span style=\"color: #00af00; text-decoration-color: #00af00\">256</span> │ add_31[<span style=\"color: #00af00; text-decoration-color: #00af00\">0</span>][<span style=\"color: #00af00; text-decoration-color: #00af00\">0</span>]      │\n",
              "│ (<span style=\"color: #0087ff; text-decoration-color: #0087ff\">LayerNormalizatio…</span> │                   │            │                   │\n",
              "├─────────────────────┼───────────────────┼────────────┼───────────────────┤\n",
              "│ encoder_2_multihea… │ (<span style=\"color: #00d7ff; text-decoration-color: #00d7ff\">None</span>, <span style=\"color: #00af00; text-decoration-color: #00af00\">128</span>, <span style=\"color: #00af00; text-decoration-color: #00af00\">128</span>)  │     <span style=\"color: #00af00; text-decoration-color: #00af00\">66,048</span> │ encoder_1_ffn_la… │\n",
              "│ (<span style=\"color: #0087ff; text-decoration-color: #0087ff\">MultiHeadAttentio…</span> │                   │            │ encoder_1_ffn_la… │\n",
              "│                     │                   │            │ encoder_1_ffn_la… │\n",
              "├─────────────────────┼───────────────────┼────────────┼───────────────────┤\n",
              "│ encoder_2_att_drop… │ (<span style=\"color: #00d7ff; text-decoration-color: #00d7ff\">None</span>, <span style=\"color: #00af00; text-decoration-color: #00af00\">128</span>, <span style=\"color: #00af00; text-decoration-color: #00af00\">128</span>)  │          <span style=\"color: #00af00; text-decoration-color: #00af00\">0</span> │ encoder_2_multih… │\n",
              "│ (<span style=\"color: #0087ff; text-decoration-color: #0087ff\">Dropout</span>)           │                   │            │                   │\n",
              "├─────────────────────┼───────────────────┼────────────┼───────────────────┤\n",
              "│ add_32 (<span style=\"color: #0087ff; text-decoration-color: #0087ff\">Add</span>)        │ (<span style=\"color: #00d7ff; text-decoration-color: #00d7ff\">None</span>, <span style=\"color: #00af00; text-decoration-color: #00af00\">128</span>, <span style=\"color: #00af00; text-decoration-color: #00af00\">128</span>)  │          <span style=\"color: #00af00; text-decoration-color: #00af00\">0</span> │ encoder_1_ffn_la… │\n",
              "│                     │                   │            │ encoder_2_att_dr… │\n",
              "├─────────────────────┼───────────────────┼────────────┼───────────────────┤\n",
              "│ encoder_2_att_laye… │ (<span style=\"color: #00d7ff; text-decoration-color: #00d7ff\">None</span>, <span style=\"color: #00af00; text-decoration-color: #00af00\">128</span>, <span style=\"color: #00af00; text-decoration-color: #00af00\">128</span>)  │        <span style=\"color: #00af00; text-decoration-color: #00af00\">256</span> │ add_32[<span style=\"color: #00af00; text-decoration-color: #00af00\">0</span>][<span style=\"color: #00af00; text-decoration-color: #00af00\">0</span>]      │\n",
              "│ (<span style=\"color: #0087ff; text-decoration-color: #0087ff\">LayerNormalizatio…</span> │                   │            │                   │\n",
              "├─────────────────────┼───────────────────┼────────────┼───────────────────┤\n",
              "│ encoder_2_ffn       │ (<span style=\"color: #00d7ff; text-decoration-color: #00d7ff\">None</span>, <span style=\"color: #00af00; text-decoration-color: #00af00\">128</span>, <span style=\"color: #00af00; text-decoration-color: #00af00\">128</span>)  │     <span style=\"color: #00af00; text-decoration-color: #00af00\">65,920</span> │ encoder_2_att_la… │\n",
              "│ (<span style=\"color: #0087ff; text-decoration-color: #0087ff\">Sequential</span>)        │                   │            │                   │\n",
              "├─────────────────────┼───────────────────┼────────────┼───────────────────┤\n",
              "│ encoder_2_ffn_drop… │ (<span style=\"color: #00d7ff; text-decoration-color: #00d7ff\">None</span>, <span style=\"color: #00af00; text-decoration-color: #00af00\">128</span>, <span style=\"color: #00af00; text-decoration-color: #00af00\">128</span>)  │          <span style=\"color: #00af00; text-decoration-color: #00af00\">0</span> │ encoder_2_ffn[<span style=\"color: #00af00; text-decoration-color: #00af00\">0</span>]… │\n",
              "│ (<span style=\"color: #0087ff; text-decoration-color: #0087ff\">Dropout</span>)           │                   │            │                   │\n",
              "├─────────────────────┼───────────────────┼────────────┼───────────────────┤\n",
              "│ add_33 (<span style=\"color: #0087ff; text-decoration-color: #0087ff\">Add</span>)        │ (<span style=\"color: #00d7ff; text-decoration-color: #00d7ff\">None</span>, <span style=\"color: #00af00; text-decoration-color: #00af00\">128</span>, <span style=\"color: #00af00; text-decoration-color: #00af00\">128</span>)  │          <span style=\"color: #00af00; text-decoration-color: #00af00\">0</span> │ encoder_2_att_la… │\n",
              "│                     │                   │            │ encoder_2_ffn_dr… │\n",
              "├─────────────────────┼───────────────────┼────────────┼───────────────────┤\n",
              "│ encoder_2_ffn_laye… │ (<span style=\"color: #00d7ff; text-decoration-color: #00d7ff\">None</span>, <span style=\"color: #00af00; text-decoration-color: #00af00\">128</span>, <span style=\"color: #00af00; text-decoration-color: #00af00\">128</span>)  │        <span style=\"color: #00af00; text-decoration-color: #00af00\">256</span> │ add_33[<span style=\"color: #00af00; text-decoration-color: #00af00\">0</span>][<span style=\"color: #00af00; text-decoration-color: #00af00\">0</span>]      │\n",
              "│ (<span style=\"color: #0087ff; text-decoration-color: #0087ff\">LayerNormalizatio…</span> │                   │            │                   │\n",
              "├─────────────────────┼───────────────────┼────────────┼───────────────────┤\n",
              "│ encoder_3_multihea… │ (<span style=\"color: #00d7ff; text-decoration-color: #00d7ff\">None</span>, <span style=\"color: #00af00; text-decoration-color: #00af00\">128</span>, <span style=\"color: #00af00; text-decoration-color: #00af00\">128</span>)  │     <span style=\"color: #00af00; text-decoration-color: #00af00\">66,048</span> │ encoder_2_ffn_la… │\n",
              "│ (<span style=\"color: #0087ff; text-decoration-color: #0087ff\">MultiHeadAttentio…</span> │                   │            │ encoder_2_ffn_la… │\n",
              "│                     │                   │            │ encoder_2_ffn_la… │\n",
              "├─────────────────────┼───────────────────┼────────────┼───────────────────┤\n",
              "│ encoder_3_att_drop… │ (<span style=\"color: #00d7ff; text-decoration-color: #00d7ff\">None</span>, <span style=\"color: #00af00; text-decoration-color: #00af00\">128</span>, <span style=\"color: #00af00; text-decoration-color: #00af00\">128</span>)  │          <span style=\"color: #00af00; text-decoration-color: #00af00\">0</span> │ encoder_3_multih… │\n",
              "│ (<span style=\"color: #0087ff; text-decoration-color: #0087ff\">Dropout</span>)           │                   │            │                   │\n",
              "├─────────────────────┼───────────────────┼────────────┼───────────────────┤\n",
              "│ add_34 (<span style=\"color: #0087ff; text-decoration-color: #0087ff\">Add</span>)        │ (<span style=\"color: #00d7ff; text-decoration-color: #00d7ff\">None</span>, <span style=\"color: #00af00; text-decoration-color: #00af00\">128</span>, <span style=\"color: #00af00; text-decoration-color: #00af00\">128</span>)  │          <span style=\"color: #00af00; text-decoration-color: #00af00\">0</span> │ encoder_2_ffn_la… │\n",
              "│                     │                   │            │ encoder_3_att_dr… │\n",
              "├─────────────────────┼───────────────────┼────────────┼───────────────────┤\n",
              "│ encoder_3_att_laye… │ (<span style=\"color: #00d7ff; text-decoration-color: #00d7ff\">None</span>, <span style=\"color: #00af00; text-decoration-color: #00af00\">128</span>, <span style=\"color: #00af00; text-decoration-color: #00af00\">128</span>)  │        <span style=\"color: #00af00; text-decoration-color: #00af00\">256</span> │ add_34[<span style=\"color: #00af00; text-decoration-color: #00af00\">0</span>][<span style=\"color: #00af00; text-decoration-color: #00af00\">0</span>]      │\n",
              "│ (<span style=\"color: #0087ff; text-decoration-color: #0087ff\">LayerNormalizatio…</span> │                   │            │                   │\n",
              "├─────────────────────┼───────────────────┼────────────┼───────────────────┤\n",
              "│ encoder_3_ffn       │ (<span style=\"color: #00d7ff; text-decoration-color: #00d7ff\">None</span>, <span style=\"color: #00af00; text-decoration-color: #00af00\">128</span>, <span style=\"color: #00af00; text-decoration-color: #00af00\">128</span>)  │     <span style=\"color: #00af00; text-decoration-color: #00af00\">65,920</span> │ encoder_3_att_la… │\n",
              "│ (<span style=\"color: #0087ff; text-decoration-color: #0087ff\">Sequential</span>)        │                   │            │                   │\n",
              "├─────────────────────┼───────────────────┼────────────┼───────────────────┤\n",
              "│ encoder_3_ffn_drop… │ (<span style=\"color: #00d7ff; text-decoration-color: #00d7ff\">None</span>, <span style=\"color: #00af00; text-decoration-color: #00af00\">128</span>, <span style=\"color: #00af00; text-decoration-color: #00af00\">128</span>)  │          <span style=\"color: #00af00; text-decoration-color: #00af00\">0</span> │ encoder_3_ffn[<span style=\"color: #00af00; text-decoration-color: #00af00\">0</span>]… │\n",
              "│ (<span style=\"color: #0087ff; text-decoration-color: #0087ff\">Dropout</span>)           │                   │            │                   │\n",
              "├─────────────────────┼───────────────────┼────────────┼───────────────────┤\n",
              "│ add_35 (<span style=\"color: #0087ff; text-decoration-color: #0087ff\">Add</span>)        │ (<span style=\"color: #00d7ff; text-decoration-color: #00d7ff\">None</span>, <span style=\"color: #00af00; text-decoration-color: #00af00\">128</span>, <span style=\"color: #00af00; text-decoration-color: #00af00\">128</span>)  │          <span style=\"color: #00af00; text-decoration-color: #00af00\">0</span> │ encoder_3_att_la… │\n",
              "│                     │                   │            │ encoder_3_ffn_dr… │\n",
              "├─────────────────────┼───────────────────┼────────────┼───────────────────┤\n",
              "│ encoder_3_ffn_laye… │ (<span style=\"color: #00d7ff; text-decoration-color: #00d7ff\">None</span>, <span style=\"color: #00af00; text-decoration-color: #00af00\">128</span>, <span style=\"color: #00af00; text-decoration-color: #00af00\">128</span>)  │        <span style=\"color: #00af00; text-decoration-color: #00af00\">256</span> │ add_35[<span style=\"color: #00af00; text-decoration-color: #00af00\">0</span>][<span style=\"color: #00af00; text-decoration-color: #00af00\">0</span>]      │\n",
              "│ (<span style=\"color: #0087ff; text-decoration-color: #0087ff\">LayerNormalizatio…</span> │                   │            │                   │\n",
              "├─────────────────────┼───────────────────┼────────────┼───────────────────┤\n",
              "│ mlm_cls (<span style=\"color: #0087ff; text-decoration-color: #0087ff\">Dense</span>)     │ (<span style=\"color: #00d7ff; text-decoration-color: #00d7ff\">None</span>, <span style=\"color: #00af00; text-decoration-color: #00af00\">128</span>,       │  <span style=\"color: #00af00; text-decoration-color: #00af00\">3,870,000</span> │ encoder_3_ffn_la… │\n",
              "│                     │ <span style=\"color: #00af00; text-decoration-color: #00af00\">30000</span>)            │            │                   │\n",
              "└─────────────────────┴───────────────────┴────────────┴───────────────────┘\n",
              "</pre>\n"
            ],
            "text/plain": [
              "┏━━━━━━━━━━━━━━━━━━━━━┳━━━━━━━━━━━━━━━━━━━┳━━━━━━━━━━━━┳━━━━━━━━━━━━━━━━━━━┓\n",
              "┃\u001b[1m \u001b[0m\u001b[1mLayer (type)       \u001b[0m\u001b[1m \u001b[0m┃\u001b[1m \u001b[0m\u001b[1mOutput Shape     \u001b[0m\u001b[1m \u001b[0m┃\u001b[1m \u001b[0m\u001b[1m   Param #\u001b[0m\u001b[1m \u001b[0m┃\u001b[1m \u001b[0m\u001b[1mConnected to     \u001b[0m\u001b[1m \u001b[0m┃\n",
              "┡━━━━━━━━━━━━━━━━━━━━━╇━━━━━━━━━━━━━━━━━━━╇━━━━━━━━━━━━╇━━━━━━━━━━━━━━━━━━━┩\n",
              "│ input_ids           │ (\u001b[38;5;45mNone\u001b[0m, \u001b[38;5;34m128\u001b[0m)       │          \u001b[38;5;34m0\u001b[0m │ -                 │\n",
              "│ (\u001b[38;5;33mInputLayer\u001b[0m)        │                   │            │                   │\n",
              "├─────────────────────┼───────────────────┼────────────┼───────────────────┤\n",
              "│ word_embedding      │ (\u001b[38;5;45mNone\u001b[0m, \u001b[38;5;34m128\u001b[0m, \u001b[38;5;34m128\u001b[0m)  │  \u001b[38;5;34m3,840,000\u001b[0m │ input_ids[\u001b[38;5;34m0\u001b[0m][\u001b[38;5;34m0\u001b[0m]   │\n",
              "│ (\u001b[38;5;33mEmbedding\u001b[0m)         │                   │            │                   │\n",
              "├─────────────────────┼───────────────────┼────────────┼───────────────────┤\n",
              "│ position_embedding  │ (\u001b[38;5;45mNone\u001b[0m, \u001b[38;5;34m128\u001b[0m, \u001b[38;5;34m128\u001b[0m)  │     \u001b[38;5;34m16,384\u001b[0m │ word_embedding[\u001b[38;5;34m0\u001b[0m… │\n",
              "│ (\u001b[38;5;33mPositionEmbedding\u001b[0m) │                   │            │                   │\n",
              "├─────────────────────┼───────────────────┼────────────┼───────────────────┤\n",
              "│ add_27 (\u001b[38;5;33mAdd\u001b[0m)        │ (\u001b[38;5;45mNone\u001b[0m, \u001b[38;5;34m128\u001b[0m, \u001b[38;5;34m128\u001b[0m)  │          \u001b[38;5;34m0\u001b[0m │ word_embedding[\u001b[38;5;34m0\u001b[0m… │\n",
              "│                     │                   │            │ position_embeddi… │\n",
              "├─────────────────────┼───────────────────┼────────────┼───────────────────┤\n",
              "│ encoder_0_multihea… │ (\u001b[38;5;45mNone\u001b[0m, \u001b[38;5;34m128\u001b[0m, \u001b[38;5;34m128\u001b[0m)  │     \u001b[38;5;34m66,048\u001b[0m │ add_27[\u001b[38;5;34m0\u001b[0m][\u001b[38;5;34m0\u001b[0m],     │\n",
              "│ (\u001b[38;5;33mMultiHeadAttentio…\u001b[0m │                   │            │ add_27[\u001b[38;5;34m0\u001b[0m][\u001b[38;5;34m0\u001b[0m],     │\n",
              "│                     │                   │            │ add_27[\u001b[38;5;34m0\u001b[0m][\u001b[38;5;34m0\u001b[0m]      │\n",
              "├─────────────────────┼───────────────────┼────────────┼───────────────────┤\n",
              "│ encoder_0_att_drop… │ (\u001b[38;5;45mNone\u001b[0m, \u001b[38;5;34m128\u001b[0m, \u001b[38;5;34m128\u001b[0m)  │          \u001b[38;5;34m0\u001b[0m │ encoder_0_multih… │\n",
              "│ (\u001b[38;5;33mDropout\u001b[0m)           │                   │            │                   │\n",
              "├─────────────────────┼───────────────────┼────────────┼───────────────────┤\n",
              "│ add_28 (\u001b[38;5;33mAdd\u001b[0m)        │ (\u001b[38;5;45mNone\u001b[0m, \u001b[38;5;34m128\u001b[0m, \u001b[38;5;34m128\u001b[0m)  │          \u001b[38;5;34m0\u001b[0m │ add_27[\u001b[38;5;34m0\u001b[0m][\u001b[38;5;34m0\u001b[0m],     │\n",
              "│                     │                   │            │ encoder_0_att_dr… │\n",
              "├─────────────────────┼───────────────────┼────────────┼───────────────────┤\n",
              "│ encoder_0_att_laye… │ (\u001b[38;5;45mNone\u001b[0m, \u001b[38;5;34m128\u001b[0m, \u001b[38;5;34m128\u001b[0m)  │        \u001b[38;5;34m256\u001b[0m │ add_28[\u001b[38;5;34m0\u001b[0m][\u001b[38;5;34m0\u001b[0m]      │\n",
              "│ (\u001b[38;5;33mLayerNormalizatio…\u001b[0m │                   │            │                   │\n",
              "├─────────────────────┼───────────────────┼────────────┼───────────────────┤\n",
              "│ encoder_0_ffn       │ (\u001b[38;5;45mNone\u001b[0m, \u001b[38;5;34m128\u001b[0m, \u001b[38;5;34m128\u001b[0m)  │     \u001b[38;5;34m65,920\u001b[0m │ encoder_0_att_la… │\n",
              "│ (\u001b[38;5;33mSequential\u001b[0m)        │                   │            │                   │\n",
              "├─────────────────────┼───────────────────┼────────────┼───────────────────┤\n",
              "│ encoder_0_ffn_drop… │ (\u001b[38;5;45mNone\u001b[0m, \u001b[38;5;34m128\u001b[0m, \u001b[38;5;34m128\u001b[0m)  │          \u001b[38;5;34m0\u001b[0m │ encoder_0_ffn[\u001b[38;5;34m0\u001b[0m]… │\n",
              "│ (\u001b[38;5;33mDropout\u001b[0m)           │                   │            │                   │\n",
              "├─────────────────────┼───────────────────┼────────────┼───────────────────┤\n",
              "│ add_29 (\u001b[38;5;33mAdd\u001b[0m)        │ (\u001b[38;5;45mNone\u001b[0m, \u001b[38;5;34m128\u001b[0m, \u001b[38;5;34m128\u001b[0m)  │          \u001b[38;5;34m0\u001b[0m │ encoder_0_att_la… │\n",
              "│                     │                   │            │ encoder_0_ffn_dr… │\n",
              "├─────────────────────┼───────────────────┼────────────┼───────────────────┤\n",
              "│ encoder_0_ffn_laye… │ (\u001b[38;5;45mNone\u001b[0m, \u001b[38;5;34m128\u001b[0m, \u001b[38;5;34m128\u001b[0m)  │        \u001b[38;5;34m256\u001b[0m │ add_29[\u001b[38;5;34m0\u001b[0m][\u001b[38;5;34m0\u001b[0m]      │\n",
              "│ (\u001b[38;5;33mLayerNormalizatio…\u001b[0m │                   │            │                   │\n",
              "├─────────────────────┼───────────────────┼────────────┼───────────────────┤\n",
              "│ encoder_1_multihea… │ (\u001b[38;5;45mNone\u001b[0m, \u001b[38;5;34m128\u001b[0m, \u001b[38;5;34m128\u001b[0m)  │     \u001b[38;5;34m66,048\u001b[0m │ encoder_0_ffn_la… │\n",
              "│ (\u001b[38;5;33mMultiHeadAttentio…\u001b[0m │                   │            │ encoder_0_ffn_la… │\n",
              "│                     │                   │            │ encoder_0_ffn_la… │\n",
              "├─────────────────────┼───────────────────┼────────────┼───────────────────┤\n",
              "│ encoder_1_att_drop… │ (\u001b[38;5;45mNone\u001b[0m, \u001b[38;5;34m128\u001b[0m, \u001b[38;5;34m128\u001b[0m)  │          \u001b[38;5;34m0\u001b[0m │ encoder_1_multih… │\n",
              "│ (\u001b[38;5;33mDropout\u001b[0m)           │                   │            │                   │\n",
              "├─────────────────────┼───────────────────┼────────────┼───────────────────┤\n",
              "│ add_30 (\u001b[38;5;33mAdd\u001b[0m)        │ (\u001b[38;5;45mNone\u001b[0m, \u001b[38;5;34m128\u001b[0m, \u001b[38;5;34m128\u001b[0m)  │          \u001b[38;5;34m0\u001b[0m │ encoder_0_ffn_la… │\n",
              "│                     │                   │            │ encoder_1_att_dr… │\n",
              "├─────────────────────┼───────────────────┼────────────┼───────────────────┤\n",
              "│ encoder_1_att_laye… │ (\u001b[38;5;45mNone\u001b[0m, \u001b[38;5;34m128\u001b[0m, \u001b[38;5;34m128\u001b[0m)  │        \u001b[38;5;34m256\u001b[0m │ add_30[\u001b[38;5;34m0\u001b[0m][\u001b[38;5;34m0\u001b[0m]      │\n",
              "│ (\u001b[38;5;33mLayerNormalizatio…\u001b[0m │                   │            │                   │\n",
              "├─────────────────────┼───────────────────┼────────────┼───────────────────┤\n",
              "│ encoder_1_ffn       │ (\u001b[38;5;45mNone\u001b[0m, \u001b[38;5;34m128\u001b[0m, \u001b[38;5;34m128\u001b[0m)  │     \u001b[38;5;34m65,920\u001b[0m │ encoder_1_att_la… │\n",
              "│ (\u001b[38;5;33mSequential\u001b[0m)        │                   │            │                   │\n",
              "├─────────────────────┼───────────────────┼────────────┼───────────────────┤\n",
              "│ encoder_1_ffn_drop… │ (\u001b[38;5;45mNone\u001b[0m, \u001b[38;5;34m128\u001b[0m, \u001b[38;5;34m128\u001b[0m)  │          \u001b[38;5;34m0\u001b[0m │ encoder_1_ffn[\u001b[38;5;34m0\u001b[0m]… │\n",
              "│ (\u001b[38;5;33mDropout\u001b[0m)           │                   │            │                   │\n",
              "├─────────────────────┼───────────────────┼────────────┼───────────────────┤\n",
              "│ add_31 (\u001b[38;5;33mAdd\u001b[0m)        │ (\u001b[38;5;45mNone\u001b[0m, \u001b[38;5;34m128\u001b[0m, \u001b[38;5;34m128\u001b[0m)  │          \u001b[38;5;34m0\u001b[0m │ encoder_1_att_la… │\n",
              "│                     │                   │            │ encoder_1_ffn_dr… │\n",
              "├─────────────────────┼───────────────────┼────────────┼───────────────────┤\n",
              "│ encoder_1_ffn_laye… │ (\u001b[38;5;45mNone\u001b[0m, \u001b[38;5;34m128\u001b[0m, \u001b[38;5;34m128\u001b[0m)  │        \u001b[38;5;34m256\u001b[0m │ add_31[\u001b[38;5;34m0\u001b[0m][\u001b[38;5;34m0\u001b[0m]      │\n",
              "│ (\u001b[38;5;33mLayerNormalizatio…\u001b[0m │                   │            │                   │\n",
              "├─────────────────────┼───────────────────┼────────────┼───────────────────┤\n",
              "│ encoder_2_multihea… │ (\u001b[38;5;45mNone\u001b[0m, \u001b[38;5;34m128\u001b[0m, \u001b[38;5;34m128\u001b[0m)  │     \u001b[38;5;34m66,048\u001b[0m │ encoder_1_ffn_la… │\n",
              "│ (\u001b[38;5;33mMultiHeadAttentio…\u001b[0m │                   │            │ encoder_1_ffn_la… │\n",
              "│                     │                   │            │ encoder_1_ffn_la… │\n",
              "├─────────────────────┼───────────────────┼────────────┼───────────────────┤\n",
              "│ encoder_2_att_drop… │ (\u001b[38;5;45mNone\u001b[0m, \u001b[38;5;34m128\u001b[0m, \u001b[38;5;34m128\u001b[0m)  │          \u001b[38;5;34m0\u001b[0m │ encoder_2_multih… │\n",
              "│ (\u001b[38;5;33mDropout\u001b[0m)           │                   │            │                   │\n",
              "├─────────────────────┼───────────────────┼────────────┼───────────────────┤\n",
              "│ add_32 (\u001b[38;5;33mAdd\u001b[0m)        │ (\u001b[38;5;45mNone\u001b[0m, \u001b[38;5;34m128\u001b[0m, \u001b[38;5;34m128\u001b[0m)  │          \u001b[38;5;34m0\u001b[0m │ encoder_1_ffn_la… │\n",
              "│                     │                   │            │ encoder_2_att_dr… │\n",
              "├─────────────────────┼───────────────────┼────────────┼───────────────────┤\n",
              "│ encoder_2_att_laye… │ (\u001b[38;5;45mNone\u001b[0m, \u001b[38;5;34m128\u001b[0m, \u001b[38;5;34m128\u001b[0m)  │        \u001b[38;5;34m256\u001b[0m │ add_32[\u001b[38;5;34m0\u001b[0m][\u001b[38;5;34m0\u001b[0m]      │\n",
              "│ (\u001b[38;5;33mLayerNormalizatio…\u001b[0m │                   │            │                   │\n",
              "├─────────────────────┼───────────────────┼────────────┼───────────────────┤\n",
              "│ encoder_2_ffn       │ (\u001b[38;5;45mNone\u001b[0m, \u001b[38;5;34m128\u001b[0m, \u001b[38;5;34m128\u001b[0m)  │     \u001b[38;5;34m65,920\u001b[0m │ encoder_2_att_la… │\n",
              "│ (\u001b[38;5;33mSequential\u001b[0m)        │                   │            │                   │\n",
              "├─────────────────────┼───────────────────┼────────────┼───────────────────┤\n",
              "│ encoder_2_ffn_drop… │ (\u001b[38;5;45mNone\u001b[0m, \u001b[38;5;34m128\u001b[0m, \u001b[38;5;34m128\u001b[0m)  │          \u001b[38;5;34m0\u001b[0m │ encoder_2_ffn[\u001b[38;5;34m0\u001b[0m]… │\n",
              "│ (\u001b[38;5;33mDropout\u001b[0m)           │                   │            │                   │\n",
              "├─────────────────────┼───────────────────┼────────────┼───────────────────┤\n",
              "│ add_33 (\u001b[38;5;33mAdd\u001b[0m)        │ (\u001b[38;5;45mNone\u001b[0m, \u001b[38;5;34m128\u001b[0m, \u001b[38;5;34m128\u001b[0m)  │          \u001b[38;5;34m0\u001b[0m │ encoder_2_att_la… │\n",
              "│                     │                   │            │ encoder_2_ffn_dr… │\n",
              "├─────────────────────┼───────────────────┼────────────┼───────────────────┤\n",
              "│ encoder_2_ffn_laye… │ (\u001b[38;5;45mNone\u001b[0m, \u001b[38;5;34m128\u001b[0m, \u001b[38;5;34m128\u001b[0m)  │        \u001b[38;5;34m256\u001b[0m │ add_33[\u001b[38;5;34m0\u001b[0m][\u001b[38;5;34m0\u001b[0m]      │\n",
              "│ (\u001b[38;5;33mLayerNormalizatio…\u001b[0m │                   │            │                   │\n",
              "├─────────────────────┼───────────────────┼────────────┼───────────────────┤\n",
              "│ encoder_3_multihea… │ (\u001b[38;5;45mNone\u001b[0m, \u001b[38;5;34m128\u001b[0m, \u001b[38;5;34m128\u001b[0m)  │     \u001b[38;5;34m66,048\u001b[0m │ encoder_2_ffn_la… │\n",
              "│ (\u001b[38;5;33mMultiHeadAttentio…\u001b[0m │                   │            │ encoder_2_ffn_la… │\n",
              "│                     │                   │            │ encoder_2_ffn_la… │\n",
              "├─────────────────────┼───────────────────┼────────────┼───────────────────┤\n",
              "│ encoder_3_att_drop… │ (\u001b[38;5;45mNone\u001b[0m, \u001b[38;5;34m128\u001b[0m, \u001b[38;5;34m128\u001b[0m)  │          \u001b[38;5;34m0\u001b[0m │ encoder_3_multih… │\n",
              "│ (\u001b[38;5;33mDropout\u001b[0m)           │                   │            │                   │\n",
              "├─────────────────────┼───────────────────┼────────────┼───────────────────┤\n",
              "│ add_34 (\u001b[38;5;33mAdd\u001b[0m)        │ (\u001b[38;5;45mNone\u001b[0m, \u001b[38;5;34m128\u001b[0m, \u001b[38;5;34m128\u001b[0m)  │          \u001b[38;5;34m0\u001b[0m │ encoder_2_ffn_la… │\n",
              "│                     │                   │            │ encoder_3_att_dr… │\n",
              "├─────────────────────┼───────────────────┼────────────┼───────────────────┤\n",
              "│ encoder_3_att_laye… │ (\u001b[38;5;45mNone\u001b[0m, \u001b[38;5;34m128\u001b[0m, \u001b[38;5;34m128\u001b[0m)  │        \u001b[38;5;34m256\u001b[0m │ add_34[\u001b[38;5;34m0\u001b[0m][\u001b[38;5;34m0\u001b[0m]      │\n",
              "│ (\u001b[38;5;33mLayerNormalizatio…\u001b[0m │                   │            │                   │\n",
              "├─────────────────────┼───────────────────┼────────────┼───────────────────┤\n",
              "│ encoder_3_ffn       │ (\u001b[38;5;45mNone\u001b[0m, \u001b[38;5;34m128\u001b[0m, \u001b[38;5;34m128\u001b[0m)  │     \u001b[38;5;34m65,920\u001b[0m │ encoder_3_att_la… │\n",
              "│ (\u001b[38;5;33mSequential\u001b[0m)        │                   │            │                   │\n",
              "├─────────────────────┼───────────────────┼────────────┼───────────────────┤\n",
              "│ encoder_3_ffn_drop… │ (\u001b[38;5;45mNone\u001b[0m, \u001b[38;5;34m128\u001b[0m, \u001b[38;5;34m128\u001b[0m)  │          \u001b[38;5;34m0\u001b[0m │ encoder_3_ffn[\u001b[38;5;34m0\u001b[0m]… │\n",
              "│ (\u001b[38;5;33mDropout\u001b[0m)           │                   │            │                   │\n",
              "├─────────────────────┼───────────────────┼────────────┼───────────────────┤\n",
              "│ add_35 (\u001b[38;5;33mAdd\u001b[0m)        │ (\u001b[38;5;45mNone\u001b[0m, \u001b[38;5;34m128\u001b[0m, \u001b[38;5;34m128\u001b[0m)  │          \u001b[38;5;34m0\u001b[0m │ encoder_3_att_la… │\n",
              "│                     │                   │            │ encoder_3_ffn_dr… │\n",
              "├─────────────────────┼───────────────────┼────────────┼───────────────────┤\n",
              "│ encoder_3_ffn_laye… │ (\u001b[38;5;45mNone\u001b[0m, \u001b[38;5;34m128\u001b[0m, \u001b[38;5;34m128\u001b[0m)  │        \u001b[38;5;34m256\u001b[0m │ add_35[\u001b[38;5;34m0\u001b[0m][\u001b[38;5;34m0\u001b[0m]      │\n",
              "│ (\u001b[38;5;33mLayerNormalizatio…\u001b[0m │                   │            │                   │\n",
              "├─────────────────────┼───────────────────┼────────────┼───────────────────┤\n",
              "│ mlm_cls (\u001b[38;5;33mDense\u001b[0m)     │ (\u001b[38;5;45mNone\u001b[0m, \u001b[38;5;34m128\u001b[0m,       │  \u001b[38;5;34m3,870,000\u001b[0m │ encoder_3_ffn_la… │\n",
              "│                     │ \u001b[38;5;34m30000\u001b[0m)            │            │                   │\n",
              "└─────────────────────┴───────────────────┴────────────┴───────────────────┘\n"
            ]
          },
          "metadata": {},
          "output_type": "display_data"
        },
        {
          "data": {
            "text/html": [
              "<pre style=\"white-space:pre;overflow-x:auto;line-height:normal;font-family:Menlo,'DejaVu Sans Mono',consolas,'Courier New',monospace\"><span style=\"font-weight: bold\"> Total params: </span><span style=\"color: #00af00; text-decoration-color: #00af00\">8,256,304</span> (31.50 MB)\n",
              "</pre>\n"
            ],
            "text/plain": [
              "\u001b[1m Total params: \u001b[0m\u001b[38;5;34m8,256,304\u001b[0m (31.50 MB)\n"
            ]
          },
          "metadata": {},
          "output_type": "display_data"
        },
        {
          "data": {
            "text/html": [
              "<pre style=\"white-space:pre;overflow-x:auto;line-height:normal;font-family:Menlo,'DejaVu Sans Mono',consolas,'Courier New',monospace\"><span style=\"font-weight: bold\"> Trainable params: </span><span style=\"color: #00af00; text-decoration-color: #00af00\">8,256,304</span> (31.50 MB)\n",
              "</pre>\n"
            ],
            "text/plain": [
              "\u001b[1m Trainable params: \u001b[0m\u001b[38;5;34m8,256,304\u001b[0m (31.50 MB)\n"
            ]
          },
          "metadata": {},
          "output_type": "display_data"
        },
        {
          "data": {
            "text/html": [
              "<pre style=\"white-space:pre;overflow-x:auto;line-height:normal;font-family:Menlo,'DejaVu Sans Mono',consolas,'Courier New',monospace\"><span style=\"font-weight: bold\"> Non-trainable params: </span><span style=\"color: #00af00; text-decoration-color: #00af00\">0</span> (0.00 B)\n",
              "</pre>\n"
            ],
            "text/plain": [
              "\u001b[1m Non-trainable params: \u001b[0m\u001b[38;5;34m0\u001b[0m (0.00 B)\n"
            ]
          },
          "metadata": {},
          "output_type": "display_data"
        }
      ],
      "source": [
        "#BERT\n",
        "import keras_nlp\n",
        "from tensorflow import keras\n",
        "from keras import layers\n",
        "\n",
        "EMBED_DIM = 128\n",
        "NUM_HEAD = 4\n",
        "FF_DIM = 256\n",
        "NUM_LAYERS = 4\n",
        "VOCAB_SIZE = 30000\n",
        "MAX_LEN = 128\n",
        "LR = 1e-5\n",
        "\n",
        "#Função de perda e métrica\n",
        "loss_fn = keras.losses.SparseCategoricalCrossentropy(from_logits=True, reduction=\"none\")\n",
        "loss_tracker = keras.metrics.Mean(name=\"loss\")\n",
        "\n",
        "#encoder BERT block\n",
        "def bert_module(query, key, value, i):\n",
        "    attention_output = layers.MultiHeadAttention(\n",
        "        num_heads=NUM_HEAD,\n",
        "        key_dim=EMBED_DIM // NUM_HEAD,\n",
        "        name=f\"encoder_{i}_multiheadattention\"\n",
        "    )(query, key, value)\n",
        "\n",
        "    attention_output = layers.Dropout(0.1, name=f\"encoder_{i}_att_dropout\")(attention_output)\n",
        "    attention_output = layers.LayerNormalization(epsilon=1e-6, name=f\"encoder_{i}_att_layernorm\")(query + attention_output)\n",
        "\n",
        "    ffn = keras.Sequential([\n",
        "        layers.Dense(FF_DIM, activation=\"relu\"),\n",
        "        layers.Dense(EMBED_DIM)\n",
        "    ], name=f\"encoder_{i}_ffn\")\n",
        "\n",
        "    ffn_output = ffn(attention_output)\n",
        "    ffn_output = layers.Dropout(0.1, name=f\"encoder_{i}_ffn_dropout\")(ffn_output)\n",
        "    output = layers.LayerNormalization(epsilon=1e-6, name=f\"encoder_{i}_ffn_layernorm\")(attention_output + ffn_output)\n",
        "\n",
        "    return output\n",
        "\n",
        "\n",
        "class MaskedLanguageModel(keras.Model):\n",
        "    def compute_loss(self, x=None, y=None, y_pred=None, sample_weight=None):\n",
        "        #valid_indices = tf.where(y != -1)\n",
        "\n",
        "        #y_pred = tf.gather_nd(y_pred, valid_indices)\n",
        "        #y = tf.gather_nd(y, valid_indices)\n",
        "        #sample_weight = tf.gather_nd(sample_weight, valid_indices)\n",
        "\n",
        "        loss = loss_fn(y, y_pred)\n",
        "\n",
        "        if sample_weight is not None:\n",
        "            loss = loss * sample_weight\n",
        "\n",
        "        loss_tracker.update_state(loss)\n",
        "        return tf.reduce_mean(loss)\n",
        "\n",
        "    def compute_metrics(self, x, y, y_pred, sample_weight):\n",
        "        return {\"loss\": loss_tracker.result()}\n",
        "\n",
        "    @property\n",
        "    def metrics(self):\n",
        "        return [loss_tracker]\n",
        "\n",
        "\n",
        "def create_masked_language_bert_model():\n",
        "    inputs = layers.Input(shape=(MAX_LEN,), dtype=\"int64\", name=\"input_ids\")\n",
        "\n",
        "    word_embeddings = layers.Embedding(\n",
        "        input_dim=VOCAB_SIZE,\n",
        "        output_dim=EMBED_DIM,\n",
        "        name=\"word_embedding\"\n",
        "    )(inputs)\n",
        "\n",
        "    position_embeddings = keras_nlp.layers.PositionEmbedding(\n",
        "        sequence_length=MAX_LEN,\n",
        "        name=\"position_embedding\"\n",
        "    )(word_embeddings)\n",
        "\n",
        "    x = word_embeddings + position_embeddings\n",
        "\n",
        "    for i in range(NUM_LAYERS):\n",
        "        x = bert_module(x, x, x, i)\n",
        "\n",
        "    outputs = layers.Dense(VOCAB_SIZE, activation=\"softmax\", name=\"mlm_cls\")(x)\n",
        "\n",
        "    model = MaskedLanguageModel(inputs, outputs, name=\"bert_mlm_friends\")\n",
        "    model.compile(optimizer=keras.optimizers.Adam(learning_rate=LR))\n",
        "\n",
        "    return model\n",
        "\n",
        "# Criar o modelo\n",
        "mlm_model = create_masked_language_bert_model()\n",
        "mlm_model.summary()\n"
      ]
    },
    {
      "cell_type": "code",
      "execution_count": null,
      "metadata": {
        "colab": {
          "base_uri": "https://localhost:8080/",
          "height": 17
        },
        "id": "HmyRDpNLJ1uR",
        "outputId": "031cb0e7-45af-4092-9e7c-b2d7fb5522e4"
      },
      "outputs": [
        {
          "data": {
            "application/javascript": "\n    async function download(id, filename, size) {\n      if (!google.colab.kernel.accessAllowed) {\n        return;\n      }\n      const div = document.createElement('div');\n      const label = document.createElement('label');\n      label.textContent = `Downloading \"${filename}\": `;\n      div.appendChild(label);\n      const progress = document.createElement('progress');\n      progress.max = size;\n      div.appendChild(progress);\n      document.body.appendChild(div);\n\n      const buffers = [];\n      let downloaded = 0;\n\n      const channel = await google.colab.kernel.comms.open(id);\n      // Send a message to notify the kernel that we're ready.\n      channel.send({})\n\n      for await (const message of channel.messages) {\n        // Send a message to notify the kernel that we're ready.\n        channel.send({})\n        if (message.buffers) {\n          for (const buffer of message.buffers) {\n            buffers.push(buffer);\n            downloaded += buffer.byteLength;\n            progress.value = downloaded;\n          }\n        }\n      }\n      const blob = new Blob(buffers, {type: 'application/binary'});\n      const a = document.createElement('a');\n      a.href = window.URL.createObjectURL(blob);\n      a.download = filename;\n      div.appendChild(a);\n      a.click();\n      div.remove();\n    }\n  ",
            "text/plain": [
              "<IPython.core.display.Javascript object>"
            ]
          },
          "metadata": {},
          "output_type": "display_data"
        },
        {
          "data": {
            "application/javascript": "download(\"download_e21ad9bc-e27f-4f91-9f40-53f8c69f4905\", \"bert_mlm_friends_untrained.keras\", 33217520)",
            "text/plain": [
              "<IPython.core.display.Javascript object>"
            ]
          },
          "metadata": {},
          "output_type": "display_data"
        }
      ],
      "source": [
        "#Salva o modelo ainda não treinado\n",
        "from google.colab import files\n",
        "\n",
        "\n",
        "mlm_model.save(\"bert_mlm_friends_untrained.keras\")\n",
        "files.download(\"bert_mlm_friends_untrained.keras\")"
      ]
    },
    {
      "cell_type": "code",
      "execution_count": null,
      "metadata": {
        "colab": {
          "base_uri": "https://localhost:8080/",
          "height": 386
        },
        "id": "9D-Nl7m0E_0i",
        "outputId": "57214756-8fb1-467c-bb5c-a7f3ef47757f"
      },
      "outputs": [
        {
          "name": "stdout",
          "output_type": "stream",
          "text": [
            "Epoch 1/5\n",
            "\u001b[1m1580/1580\u001b[0m \u001b[32m━━━━━━━━━━━━━━━━━━━━\u001b[0m\u001b[37m\u001b[0m \u001b[1m0s\u001b[0m 22ms/step - loss: 10.3089\n",
            "Epoch 1: loss improved from inf to 10.30890, saving model to checkpoints/bert_mlm_best.keras\n",
            "\u001b[1m1580/1580\u001b[0m \u001b[32m━━━━━━━━━━━━━━━━━━━━\u001b[0m\u001b[37m\u001b[0m \u001b[1m61s\u001b[0m 23ms/step - loss: 10.3089\n",
            "Epoch 2/5\n",
            "\u001b[1m1577/1580\u001b[0m \u001b[32m━━━━━━━━━━━━━━━━━━━\u001b[0m\u001b[37m━\u001b[0m \u001b[1m0s\u001b[0m 15ms/step - loss: 10.3053\n",
            "Epoch 2: loss improved from 10.30890 to 10.29825, saving model to checkpoints/bert_mlm_best.keras\n",
            "\u001b[1m1580/1580\u001b[0m \u001b[32m━━━━━━━━━━━━━━━━━━━━\u001b[0m\u001b[37m\u001b[0m \u001b[1m24s\u001b[0m 15ms/step - loss: 10.3052\n",
            "Epoch 3/5\n",
            "\u001b[1m1577/1580\u001b[0m \u001b[32m━━━━━━━━━━━━━━━━━━━\u001b[0m\u001b[37m━\u001b[0m \u001b[1m0s\u001b[0m 15ms/step - loss: 10.2790\n",
            "Epoch 3: loss improved from 10.29825 to 10.27760, saving model to checkpoints/bert_mlm_best.keras\n",
            "\u001b[1m1580/1580\u001b[0m \u001b[32m━━━━━━━━━━━━━━━━━━━━\u001b[0m\u001b[37m\u001b[0m \u001b[1m24s\u001b[0m 15ms/step - loss: 10.2790\n",
            "Epoch 4/5\n",
            "\u001b[1m1577/1580\u001b[0m \u001b[32m━━━━━━━━━━━━━━━━━━━\u001b[0m\u001b[37m━\u001b[0m \u001b[1m0s\u001b[0m 15ms/step - loss: 10.2744\n",
            "Epoch 4: loss improved from 10.27760 to 10.27423, saving model to checkpoints/bert_mlm_best.keras\n",
            "\u001b[1m1580/1580\u001b[0m \u001b[32m━━━━━━━━━━━━━━━━━━━━\u001b[0m\u001b[37m\u001b[0m \u001b[1m24s\u001b[0m 15ms/step - loss: 10.2744\n",
            "Epoch 5/5\n",
            "\u001b[1m1577/1580\u001b[0m \u001b[32m━━━━━━━━━━━━━━━━━━━\u001b[0m\u001b[37m━\u001b[0m \u001b[1m0s\u001b[0m 15ms/step - loss: 10.2711\n",
            "Epoch 5: loss improved from 10.27423 to 10.27047, saving model to checkpoints/bert_mlm_best.keras\n",
            "\u001b[1m1580/1580\u001b[0m \u001b[32m━━━━━━━━━━━━━━━━━━━━\u001b[0m\u001b[37m\u001b[0m \u001b[1m24s\u001b[0m 15ms/step - loss: 10.2711\n"
          ]
        },
        {
          "data": {
            "application/javascript": "\n    async function download(id, filename, size) {\n      if (!google.colab.kernel.accessAllowed) {\n        return;\n      }\n      const div = document.createElement('div');\n      const label = document.createElement('label');\n      label.textContent = `Downloading \"${filename}\": `;\n      div.appendChild(label);\n      const progress = document.createElement('progress');\n      progress.max = size;\n      div.appendChild(progress);\n      document.body.appendChild(div);\n\n      const buffers = [];\n      let downloaded = 0;\n\n      const channel = await google.colab.kernel.comms.open(id);\n      // Send a message to notify the kernel that we're ready.\n      channel.send({})\n\n      for await (const message of channel.messages) {\n        // Send a message to notify the kernel that we're ready.\n        channel.send({})\n        if (message.buffers) {\n          for (const buffer of message.buffers) {\n            buffers.push(buffer);\n            downloaded += buffer.byteLength;\n            progress.value = downloaded;\n          }\n        }\n      }\n      const blob = new Blob(buffers, {type: 'application/binary'});\n      const a = document.createElement('a');\n      a.href = window.URL.createObjectURL(blob);\n      a.download = filename;\n      div.appendChild(a);\n      a.click();\n      div.remove();\n    }\n  ",
            "text/plain": [
              "<IPython.core.display.Javascript object>"
            ]
          },
          "metadata": {},
          "output_type": "display_data"
        },
        {
          "data": {
            "application/javascript": "download(\"download_3c6d9d6c-7da5-4986-b98a-029b59607662\", \"bert_mlm_friends_trained.keras\", 99316280)",
            "text/plain": [
              "<IPython.core.display.Javascript object>"
            ]
          },
          "metadata": {},
          "output_type": "display_data"
        },
        {
          "data": {
            "application/javascript": "\n    async function download(id, filename, size) {\n      if (!google.colab.kernel.accessAllowed) {\n        return;\n      }\n      const div = document.createElement('div');\n      const label = document.createElement('label');\n      label.textContent = `Downloading \"${filename}\": `;\n      div.appendChild(label);\n      const progress = document.createElement('progress');\n      progress.max = size;\n      div.appendChild(progress);\n      document.body.appendChild(div);\n\n      const buffers = [];\n      let downloaded = 0;\n\n      const channel = await google.colab.kernel.comms.open(id);\n      // Send a message to notify the kernel that we're ready.\n      channel.send({})\n\n      for await (const message of channel.messages) {\n        // Send a message to notify the kernel that we're ready.\n        channel.send({})\n        if (message.buffers) {\n          for (const buffer of message.buffers) {\n            buffers.push(buffer);\n            downloaded += buffer.byteLength;\n            progress.value = downloaded;\n          }\n        }\n      }\n      const blob = new Blob(buffers, {type: 'application/binary'});\n      const a = document.createElement('a');\n      a.href = window.URL.createObjectURL(blob);\n      a.download = filename;\n      div.appendChild(a);\n      a.click();\n      div.remove();\n    }\n  ",
            "text/plain": [
              "<IPython.core.display.Javascript object>"
            ]
          },
          "metadata": {},
          "output_type": "display_data"
        },
        {
          "data": {
            "application/javascript": "download(\"download_76e3b6e4-b9ed-425e-bfd0-38cf0349b22b\", \"bert_mlm_best.keras\", 99316280)",
            "text/plain": [
              "<IPython.core.display.Javascript object>"
            ]
          },
          "metadata": {},
          "output_type": "display_data"
        }
      ],
      "source": [
        "#Treinar o modelo BERT-MLM\n",
        "from tensorflow.keras.callbacks import ModelCheckpoint\n",
        "\n",
        "checkpoint_cb = ModelCheckpoint(\n",
        "    filepath=\"checkpoints/bert_mlm_best.keras\",\n",
        "    monitor=\"loss\",\n",
        "    save_best_only=True,\n",
        "    save_weights_only=False,\n",
        "    verbose=1\n",
        ")\n",
        "\n",
        "history = mlm_model.fit(\n",
        "    mlm_ds,\n",
        "    epochs=5,\n",
        "    callbacks=[checkpoint_cb]\n",
        ")\n",
        "\n",
        "mlm_model.save(\"bert_mlm_friends_trained.keras\")\n",
        "files.download(\"bert_mlm_friends_trained.keras\")\n",
        "files.download(\"checkpoints/bert_mlm_best.keras\")"
      ]
    },
    {
      "cell_type": "code",
      "execution_count": null,
      "metadata": {
        "colab": {
          "base_uri": "https://localhost:8080/"
        },
        "id": "CcpKAK5Z2bd1",
        "outputId": "fe7822c3-2dd6-423c-eaa1-fc6826c6830e"
      },
      "outputs": [
        {
          "name": "stdout",
          "output_type": "stream",
          "text": [
            "Epoch 1/10\n",
            "\u001b[1m1580/1580\u001b[0m \u001b[32m━━━━━━━━━━━━━━━━━━━━\u001b[0m\u001b[37m\u001b[0m \u001b[1m0s\u001b[0m 15ms/step - loss: 10.2631\n",
            "Epoch 1: loss improved from 10.27047 to 10.26240, saving model to checkpoints/bert_mlm_best.keras\n",
            "\u001b[1m1580/1580\u001b[0m \u001b[32m━━━━━━━━━━━━━━━━━━━━\u001b[0m\u001b[37m\u001b[0m \u001b[1m24s\u001b[0m 15ms/step - loss: 10.2631\n",
            "Epoch 2/10\n",
            "\u001b[1m1577/1580\u001b[0m \u001b[32m━━━━━━━━━━━━━━━━━━━\u001b[0m\u001b[37m━\u001b[0m \u001b[1m0s\u001b[0m 15ms/step - loss: 10.2541\n",
            "Epoch 2: loss improved from 10.26240 to 10.25407, saving model to checkpoints/bert_mlm_best.keras\n",
            "\u001b[1m1580/1580\u001b[0m \u001b[32m━━━━━━━━━━━━━━━━━━━━\u001b[0m\u001b[37m\u001b[0m \u001b[1m24s\u001b[0m 15ms/step - loss: 10.2541\n",
            "Epoch 3/10\n",
            "\u001b[1m1577/1580\u001b[0m \u001b[32m━━━━━━━━━━━━━━━━━━━\u001b[0m\u001b[37m━\u001b[0m \u001b[1m0s\u001b[0m 15ms/step - loss: 10.2471\n",
            "Epoch 3: loss improved from 10.25407 to 10.24644, saving model to checkpoints/bert_mlm_best.keras\n",
            "\u001b[1m1580/1580\u001b[0m \u001b[32m━━━━━━━━━━━━━━━━━━━━\u001b[0m\u001b[37m\u001b[0m \u001b[1m24s\u001b[0m 15ms/step - loss: 10.2471\n",
            "Epoch 4/10\n",
            "\u001b[1m1577/1580\u001b[0m \u001b[32m━━━━━━━━━━━━━━━━━━━\u001b[0m\u001b[37m━\u001b[0m \u001b[1m0s\u001b[0m 15ms/step - loss: 10.2413\n",
            "Epoch 4: loss improved from 10.24644 to 10.23969, saving model to checkpoints/bert_mlm_best.keras\n",
            "\u001b[1m1580/1580\u001b[0m \u001b[32m━━━━━━━━━━━━━━━━━━━━\u001b[0m\u001b[37m\u001b[0m \u001b[1m24s\u001b[0m 15ms/step - loss: 10.2413\n",
            "Epoch 5/10\n",
            "\u001b[1m1577/1580\u001b[0m \u001b[32m━━━━━━━━━━━━━━━━━━━\u001b[0m\u001b[37m━\u001b[0m \u001b[1m0s\u001b[0m 15ms/step - loss: 10.2364\n",
            "Epoch 5: loss improved from 10.23969 to 10.23414, saving model to checkpoints/bert_mlm_best.keras\n",
            "\u001b[1m1580/1580\u001b[0m \u001b[32m━━━━━━━━━━━━━━━━━━━━\u001b[0m\u001b[37m\u001b[0m \u001b[1m24s\u001b[0m 15ms/step - loss: 10.2364\n",
            "Epoch 6/10\n",
            "\u001b[1m1577/1580\u001b[0m \u001b[32m━━━━━━━━━━━━━━━━━━━\u001b[0m\u001b[37m━\u001b[0m \u001b[1m0s\u001b[0m 15ms/step - loss: 10.2332\n",
            "Epoch 6: loss improved from 10.23414 to 10.23034, saving model to checkpoints/bert_mlm_best.keras\n",
            "\u001b[1m1580/1580\u001b[0m \u001b[32m━━━━━━━━━━━━━━━━━━━━\u001b[0m\u001b[37m\u001b[0m \u001b[1m24s\u001b[0m 15ms/step - loss: 10.2332\n",
            "Epoch 7/10\n",
            "\u001b[1m1577/1580\u001b[0m \u001b[32m━━━━━━━━━━━━━━━━━━━\u001b[0m\u001b[37m━\u001b[0m \u001b[1m0s\u001b[0m 15ms/step - loss: 10.2275\n",
            "Epoch 7: loss improved from 10.23034 to 10.22465, saving model to checkpoints/bert_mlm_best.keras\n",
            "\u001b[1m1580/1580\u001b[0m \u001b[32m━━━━━━━━━━━━━━━━━━━━\u001b[0m\u001b[37m\u001b[0m \u001b[1m24s\u001b[0m 15ms/step - loss: 10.2275\n",
            "Epoch 8/10\n",
            "\u001b[1m1578/1580\u001b[0m \u001b[32m━━━━━━━━━━━━━━━━━━━\u001b[0m\u001b[37m━\u001b[0m \u001b[1m0s\u001b[0m 15ms/step - loss: 10.2219\n",
            "Epoch 8: loss improved from 10.22465 to 10.21981, saving model to checkpoints/bert_mlm_best.keras\n",
            "\u001b[1m1580/1580\u001b[0m \u001b[32m━━━━━━━━━━━━━━━━━━━━\u001b[0m\u001b[37m\u001b[0m \u001b[1m24s\u001b[0m 15ms/step - loss: 10.2219\n",
            "Epoch 9/10\n",
            "\u001b[1m1579/1580\u001b[0m \u001b[32m━━━━━━━━━━━━━━━━━━━\u001b[0m\u001b[37m━\u001b[0m \u001b[1m0s\u001b[0m 15ms/step - loss: 10.2181\n",
            "Epoch 9: loss improved from 10.21981 to 10.21758, saving model to checkpoints/bert_mlm_best.keras\n",
            "\u001b[1m1580/1580\u001b[0m \u001b[32m━━━━━━━━━━━━━━━━━━━━\u001b[0m\u001b[37m\u001b[0m \u001b[1m25s\u001b[0m 16ms/step - loss: 10.2181\n",
            "Epoch 10/10\n",
            "\u001b[1m1577/1580\u001b[0m \u001b[32m━━━━━━━━━━━━━━━━━━━\u001b[0m\u001b[37m━\u001b[0m \u001b[1m0s\u001b[0m 15ms/step - loss: 10.2162\n",
            "Epoch 10: loss improved from 10.21758 to 10.21599, saving model to checkpoints/bert_mlm_best.keras\n",
            "\u001b[1m1580/1580\u001b[0m \u001b[32m━━━━━━━━━━━━━━━━━━━━\u001b[0m\u001b[37m\u001b[0m \u001b[1m24s\u001b[0m 15ms/step - loss: 10.2162\n"
          ]
        }
      ],
      "source": [
        "#Rodar 10 épocas\n",
        "history = mlm_model.fit(\n",
        "    mlm_ds,\n",
        "    epochs=10,\n",
        "    callbacks=[checkpoint_cb]\n",
        ")\n",
        "\n",
        "mlm_model.save(\"bert_mlm_friends_trained.keras\")"
      ]
    },
    {
      "cell_type": "code",
      "execution_count": null,
      "metadata": {
        "colab": {
          "base_uri": "https://localhost:8080/",
          "height": 578
        },
        "id": "eD8iKPVaAcQa",
        "outputId": "d4e6637d-f6b1-4dec-d63b-c94550c2219c"
      },
      "outputs": [
        {
          "name": "stdout",
          "output_type": "stream",
          "text": [
            "Epoch 1/5\n",
            "\u001b[1m1577/1580\u001b[0m \u001b[32m━━━━━━━━━━━━━━━━━━━\u001b[0m\u001b[37m━\u001b[0m \u001b[1m0s\u001b[0m 17ms/step - loss: 10.2234\n",
            "Epoch 1: loss did not improve from 10.22130\n",
            "\u001b[1m1580/1580\u001b[0m \u001b[32m━━━━━━━━━━━━━━━━━━━━\u001b[0m\u001b[37m\u001b[0m \u001b[1m26s\u001b[0m 17ms/step - loss: 10.2235\n",
            "Epoch 2/5\n",
            "\u001b[1m1577/1580\u001b[0m \u001b[32m━━━━━━━━━━━━━━━━━━━\u001b[0m\u001b[37m━\u001b[0m \u001b[1m0s\u001b[0m 16ms/step - loss: 10.2259\n",
            "Epoch 2: loss did not improve from 10.22130\n",
            "\u001b[1m1580/1580\u001b[0m \u001b[32m━━━━━━━━━━━━━━━━━━━━\u001b[0m\u001b[37m\u001b[0m \u001b[1m25s\u001b[0m 16ms/step - loss: 10.2260\n",
            "Epoch 3/5\n",
            "\u001b[1m  81/1580\u001b[0m \u001b[32m━\u001b[0m\u001b[37m━━━━━━━━━━━━━━━━━━━\u001b[0m \u001b[1m23s\u001b[0m 15ms/step - loss: 10.2631"
          ]
        },
        {
          "ename": "KeyboardInterrupt",
          "evalue": "",
          "output_type": "error",
          "traceback": [
            "\u001b[0;31m---------------------------------------------------------------------------\u001b[0m",
            "\u001b[0;31mKeyboardInterrupt\u001b[0m                         Traceback (most recent call last)",
            "\u001b[0;32m<ipython-input-32-9c17539e95e0>\u001b[0m in \u001b[0;36m<cell line: 0>\u001b[0;34m()\u001b[0m\n\u001b[1;32m      1\u001b[0m \u001b[0;31m#Rodar 5 épocas\u001b[0m\u001b[0;34m\u001b[0m\u001b[0;34m\u001b[0m\u001b[0m\n\u001b[0;32m----> 2\u001b[0;31m history = mlm_model.fit(\n\u001b[0m\u001b[1;32m      3\u001b[0m     \u001b[0mmlm_ds\u001b[0m\u001b[0;34m,\u001b[0m\u001b[0;34m\u001b[0m\u001b[0;34m\u001b[0m\u001b[0m\n\u001b[1;32m      4\u001b[0m     \u001b[0mepochs\u001b[0m\u001b[0;34m=\u001b[0m\u001b[0;36m5\u001b[0m\u001b[0;34m,\u001b[0m\u001b[0;34m\u001b[0m\u001b[0;34m\u001b[0m\u001b[0m\n\u001b[1;32m      5\u001b[0m     \u001b[0mcallbacks\u001b[0m\u001b[0;34m=\u001b[0m\u001b[0;34m[\u001b[0m\u001b[0mcheckpoint_cb\u001b[0m\u001b[0;34m]\u001b[0m\u001b[0;34m\u001b[0m\u001b[0;34m\u001b[0m\u001b[0m\n",
            "\u001b[0;32m/usr/local/lib/python3.11/dist-packages/keras/src/utils/traceback_utils.py\u001b[0m in \u001b[0;36merror_handler\u001b[0;34m(*args, **kwargs)\u001b[0m\n\u001b[1;32m    115\u001b[0m         \u001b[0mfiltered_tb\u001b[0m \u001b[0;34m=\u001b[0m \u001b[0;32mNone\u001b[0m\u001b[0;34m\u001b[0m\u001b[0;34m\u001b[0m\u001b[0m\n\u001b[1;32m    116\u001b[0m         \u001b[0;32mtry\u001b[0m\u001b[0;34m:\u001b[0m\u001b[0;34m\u001b[0m\u001b[0;34m\u001b[0m\u001b[0m\n\u001b[0;32m--> 117\u001b[0;31m             \u001b[0;32mreturn\u001b[0m \u001b[0mfn\u001b[0m\u001b[0;34m(\u001b[0m\u001b[0;34m*\u001b[0m\u001b[0margs\u001b[0m\u001b[0;34m,\u001b[0m \u001b[0;34m**\u001b[0m\u001b[0mkwargs\u001b[0m\u001b[0;34m)\u001b[0m\u001b[0;34m\u001b[0m\u001b[0;34m\u001b[0m\u001b[0m\n\u001b[0m\u001b[1;32m    118\u001b[0m         \u001b[0;32mexcept\u001b[0m \u001b[0mException\u001b[0m \u001b[0;32mas\u001b[0m \u001b[0me\u001b[0m\u001b[0;34m:\u001b[0m\u001b[0;34m\u001b[0m\u001b[0;34m\u001b[0m\u001b[0m\n\u001b[1;32m    119\u001b[0m             \u001b[0mfiltered_tb\u001b[0m \u001b[0;34m=\u001b[0m \u001b[0m_process_traceback_frames\u001b[0m\u001b[0;34m(\u001b[0m\u001b[0me\u001b[0m\u001b[0;34m.\u001b[0m\u001b[0m__traceback__\u001b[0m\u001b[0;34m)\u001b[0m\u001b[0;34m\u001b[0m\u001b[0;34m\u001b[0m\u001b[0m\n",
            "\u001b[0;32m/usr/local/lib/python3.11/dist-packages/keras/src/backend/tensorflow/trainer.py\u001b[0m in \u001b[0;36mfit\u001b[0;34m(self, x, y, batch_size, epochs, verbose, callbacks, validation_split, validation_data, shuffle, class_weight, sample_weight, initial_epoch, steps_per_epoch, validation_steps, validation_batch_size, validation_freq)\u001b[0m\n\u001b[1;32m    369\u001b[0m                 \u001b[0;32mfor\u001b[0m \u001b[0mstep\u001b[0m\u001b[0;34m,\u001b[0m \u001b[0miterator\u001b[0m \u001b[0;32min\u001b[0m \u001b[0mepoch_iterator\u001b[0m\u001b[0;34m:\u001b[0m\u001b[0;34m\u001b[0m\u001b[0;34m\u001b[0m\u001b[0m\n\u001b[1;32m    370\u001b[0m                     \u001b[0mcallbacks\u001b[0m\u001b[0;34m.\u001b[0m\u001b[0mon_train_batch_begin\u001b[0m\u001b[0;34m(\u001b[0m\u001b[0mstep\u001b[0m\u001b[0;34m)\u001b[0m\u001b[0;34m\u001b[0m\u001b[0;34m\u001b[0m\u001b[0m\n\u001b[0;32m--> 371\u001b[0;31m                     \u001b[0mlogs\u001b[0m \u001b[0;34m=\u001b[0m \u001b[0mself\u001b[0m\u001b[0;34m.\u001b[0m\u001b[0mtrain_function\u001b[0m\u001b[0;34m(\u001b[0m\u001b[0miterator\u001b[0m\u001b[0;34m)\u001b[0m\u001b[0;34m\u001b[0m\u001b[0;34m\u001b[0m\u001b[0m\n\u001b[0m\u001b[1;32m    372\u001b[0m                     \u001b[0mcallbacks\u001b[0m\u001b[0;34m.\u001b[0m\u001b[0mon_train_batch_end\u001b[0m\u001b[0;34m(\u001b[0m\u001b[0mstep\u001b[0m\u001b[0;34m,\u001b[0m \u001b[0mlogs\u001b[0m\u001b[0;34m)\u001b[0m\u001b[0;34m\u001b[0m\u001b[0;34m\u001b[0m\u001b[0m\n\u001b[1;32m    373\u001b[0m                     \u001b[0;32mif\u001b[0m \u001b[0mself\u001b[0m\u001b[0;34m.\u001b[0m\u001b[0mstop_training\u001b[0m\u001b[0;34m:\u001b[0m\u001b[0;34m\u001b[0m\u001b[0;34m\u001b[0m\u001b[0m\n",
            "\u001b[0;32m/usr/local/lib/python3.11/dist-packages/keras/src/backend/tensorflow/trainer.py\u001b[0m in \u001b[0;36mfunction\u001b[0;34m(iterator)\u001b[0m\n\u001b[1;32m    218\u001b[0m             ):\n\u001b[1;32m    219\u001b[0m                 \u001b[0mopt_outputs\u001b[0m \u001b[0;34m=\u001b[0m \u001b[0mmulti_step_on_iterator\u001b[0m\u001b[0;34m(\u001b[0m\u001b[0miterator\u001b[0m\u001b[0;34m)\u001b[0m\u001b[0;34m\u001b[0m\u001b[0;34m\u001b[0m\u001b[0m\n\u001b[0;32m--> 220\u001b[0;31m                 \u001b[0;32mif\u001b[0m \u001b[0;32mnot\u001b[0m \u001b[0mopt_outputs\u001b[0m\u001b[0;34m.\u001b[0m\u001b[0mhas_value\u001b[0m\u001b[0;34m(\u001b[0m\u001b[0;34m)\u001b[0m\u001b[0;34m:\u001b[0m\u001b[0;34m\u001b[0m\u001b[0;34m\u001b[0m\u001b[0m\n\u001b[0m\u001b[1;32m    221\u001b[0m                     \u001b[0;32mraise\u001b[0m \u001b[0mStopIteration\u001b[0m\u001b[0;34m\u001b[0m\u001b[0;34m\u001b[0m\u001b[0m\n\u001b[1;32m    222\u001b[0m                 \u001b[0;32mreturn\u001b[0m \u001b[0mopt_outputs\u001b[0m\u001b[0;34m.\u001b[0m\u001b[0mget_value\u001b[0m\u001b[0;34m(\u001b[0m\u001b[0;34m)\u001b[0m\u001b[0;34m\u001b[0m\u001b[0;34m\u001b[0m\u001b[0m\n",
            "\u001b[0;32m/usr/local/lib/python3.11/dist-packages/tensorflow/python/data/ops/optional_ops.py\u001b[0m in \u001b[0;36mhas_value\u001b[0;34m(self, name)\u001b[0m\n\u001b[1;32m    174\u001b[0m   \u001b[0;32mdef\u001b[0m \u001b[0mhas_value\u001b[0m\u001b[0;34m(\u001b[0m\u001b[0mself\u001b[0m\u001b[0;34m,\u001b[0m \u001b[0mname\u001b[0m\u001b[0;34m=\u001b[0m\u001b[0;32mNone\u001b[0m\u001b[0;34m)\u001b[0m\u001b[0;34m:\u001b[0m\u001b[0;34m\u001b[0m\u001b[0;34m\u001b[0m\u001b[0m\n\u001b[1;32m    175\u001b[0m     \u001b[0;32mwith\u001b[0m \u001b[0mops\u001b[0m\u001b[0;34m.\u001b[0m\u001b[0mcolocate_with\u001b[0m\u001b[0;34m(\u001b[0m\u001b[0mself\u001b[0m\u001b[0;34m.\u001b[0m\u001b[0m_variant_tensor\u001b[0m\u001b[0;34m)\u001b[0m\u001b[0;34m:\u001b[0m\u001b[0;34m\u001b[0m\u001b[0;34m\u001b[0m\u001b[0m\n\u001b[0;32m--> 176\u001b[0;31m       return gen_optional_ops.optional_has_value(\n\u001b[0m\u001b[1;32m    177\u001b[0m           \u001b[0mself\u001b[0m\u001b[0;34m.\u001b[0m\u001b[0m_variant_tensor\u001b[0m\u001b[0;34m,\u001b[0m \u001b[0mname\u001b[0m\u001b[0;34m=\u001b[0m\u001b[0mname\u001b[0m\u001b[0;34m\u001b[0m\u001b[0;34m\u001b[0m\u001b[0m\n\u001b[1;32m    178\u001b[0m       )\n",
            "\u001b[0;32m/usr/local/lib/python3.11/dist-packages/tensorflow/python/ops/gen_optional_ops.py\u001b[0m in \u001b[0;36moptional_has_value\u001b[0;34m(optional, name)\u001b[0m\n\u001b[1;32m    170\u001b[0m   \u001b[0;32mif\u001b[0m \u001b[0mtld\u001b[0m\u001b[0;34m.\u001b[0m\u001b[0mis_eager\u001b[0m\u001b[0;34m:\u001b[0m\u001b[0;34m\u001b[0m\u001b[0;34m\u001b[0m\u001b[0m\n\u001b[1;32m    171\u001b[0m     \u001b[0;32mtry\u001b[0m\u001b[0;34m:\u001b[0m\u001b[0;34m\u001b[0m\u001b[0;34m\u001b[0m\u001b[0m\n\u001b[0;32m--> 172\u001b[0;31m       _result = pywrap_tfe.TFE_Py_FastPathExecute(\n\u001b[0m\u001b[1;32m    173\u001b[0m         _ctx, \"OptionalHasValue\", name, optional)\n\u001b[1;32m    174\u001b[0m       \u001b[0;32mreturn\u001b[0m \u001b[0m_result\u001b[0m\u001b[0;34m\u001b[0m\u001b[0;34m\u001b[0m\u001b[0m\n",
            "\u001b[0;31mKeyboardInterrupt\u001b[0m: "
          ]
        }
      ],
      "source": [
        "#Rodar 5 épocas\n",
        "history = mlm_model.fit(\n",
        "    mlm_ds,\n",
        "    epochs=5,\n",
        "    callbacks=[checkpoint_cb]\n",
        ")\n",
        "\n",
        "mlm_model.save(\"bert_mlm_friends_trained.keras\")"
      ]
    },
    {
      "cell_type": "code",
      "execution_count": null,
      "metadata": {
        "colab": {
          "base_uri": "https://localhost:8080/"
        },
        "id": "0q5-vr3aBV5p",
        "outputId": "6789c10c-ebcf-4273-bf72-8cddeb74b7e4"
      },
      "outputs": [
        {
          "name": "stdout",
          "output_type": "stream",
          "text": [
            "Epoch 1/5\n",
            "\u001b[1m1580/1580\u001b[0m \u001b[32m━━━━━━━━━━━━━━━━━━━━\u001b[0m\u001b[37m\u001b[0m \u001b[1m0s\u001b[0m 24ms/step - loss: 10.2597\n",
            "Epoch 1: loss did not improve from 10.22130\n",
            "\u001b[1m1580/1580\u001b[0m \u001b[32m━━━━━━━━━━━━━━━━━━━━\u001b[0m\u001b[37m\u001b[0m \u001b[1m65s\u001b[0m 24ms/step - loss: 10.2597\n",
            "Epoch 2/5\n",
            "\u001b[1m1578/1580\u001b[0m \u001b[32m━━━━━━━━━━━━━━━━━━━\u001b[0m\u001b[37m━\u001b[0m \u001b[1m0s\u001b[0m 16ms/step - loss: 10.2593\n",
            "Epoch 2: loss did not improve from 10.22130\n",
            "\u001b[1m1580/1580\u001b[0m \u001b[32m━━━━━━━━━━━━━━━━━━━━\u001b[0m\u001b[37m\u001b[0m \u001b[1m26s\u001b[0m 16ms/step - loss: 10.2593\n",
            "Epoch 3/5\n",
            "\u001b[1m1580/1580\u001b[0m \u001b[32m━━━━━━━━━━━━━━━━━━━━\u001b[0m\u001b[37m\u001b[0m \u001b[1m0s\u001b[0m 16ms/step - loss: 10.2590\n",
            "Epoch 3: loss did not improve from 10.22130\n",
            "\u001b[1m1580/1580\u001b[0m \u001b[32m━━━━━━━━━━━━━━━━━━━━\u001b[0m\u001b[37m\u001b[0m \u001b[1m25s\u001b[0m 16ms/step - loss: 10.2590\n",
            "Epoch 4/5\n",
            "\u001b[1m1580/1580\u001b[0m \u001b[32m━━━━━━━━━━━━━━━━━━━━\u001b[0m\u001b[37m\u001b[0m \u001b[1m0s\u001b[0m 16ms/step - loss: 10.2594\n",
            "Epoch 4: loss did not improve from 10.22130\n",
            "\u001b[1m1580/1580\u001b[0m \u001b[32m━━━━━━━━━━━━━━━━━━━━\u001b[0m\u001b[37m\u001b[0m \u001b[1m26s\u001b[0m 16ms/step - loss: 10.2594\n",
            "Epoch 5/5\n",
            "\u001b[1m1579/1580\u001b[0m \u001b[32m━━━━━━━━━━━━━━━━━━━\u001b[0m\u001b[37m━\u001b[0m \u001b[1m0s\u001b[0m 16ms/step - loss: 10.2590\n",
            "Epoch 5: loss did not improve from 10.22130\n",
            "\u001b[1m1580/1580\u001b[0m \u001b[32m━━━━━━━━━━━━━━━━━━━━\u001b[0m\u001b[37m\u001b[0m \u001b[1m25s\u001b[0m 16ms/step - loss: 10.2590\n"
          ]
        }
      ],
      "source": [
        "#treinar com LR = 1e-6 para tentar diminuir o loss\n",
        "mlm_model.compile(optimizer=keras.optimizers.Adam(learning_rate=1e-6))\n",
        "\n",
        "history = mlm_model.fit(\n",
        "    mlm_ds,\n",
        "    epochs=5,\n",
        "    callbacks=[checkpoint_cb]\n",
        ")"
      ]
    },
    {
      "cell_type": "code",
      "execution_count": null,
      "metadata": {
        "colab": {
          "base_uri": "https://localhost:8080/"
        },
        "id": "KeVAyRdEEAwY",
        "outputId": "ca68d790-5aa1-4b9d-df85-eecfe2307fdc"
      },
      "outputs": [
        {
          "name": "stdout",
          "output_type": "stream",
          "text": [
            "Epoch 1/5\n",
            "\u001b[1m1580/1580\u001b[0m \u001b[32m━━━━━━━━━━━━━━━━━━━━\u001b[0m\u001b[37m\u001b[0m \u001b[1m0s\u001b[0m 24ms/step - loss: 10.2591\n",
            "Epoch 1: loss did not improve from 10.22130\n",
            "\u001b[1m1580/1580\u001b[0m \u001b[32m━━━━━━━━━━━━━━━━━━━━\u001b[0m\u001b[37m\u001b[0m \u001b[1m66s\u001b[0m 24ms/step - loss: 10.2591\n",
            "Epoch 2/5\n",
            "\u001b[1m1577/1580\u001b[0m \u001b[32m━━━━━━━━━━━━━━━━━━━\u001b[0m\u001b[37m━\u001b[0m \u001b[1m0s\u001b[0m 17ms/step - loss: 10.2588\n",
            "Epoch 2: loss did not improve from 10.22130\n",
            "\u001b[1m1580/1580\u001b[0m \u001b[32m━━━━━━━━━━━━━━━━━━━━\u001b[0m\u001b[37m\u001b[0m \u001b[1m26s\u001b[0m 17ms/step - loss: 10.2588\n",
            "Epoch 3/5\n",
            "\u001b[1m1577/1580\u001b[0m \u001b[32m━━━━━━━━━━━━━━━━━━━\u001b[0m\u001b[37m━\u001b[0m \u001b[1m0s\u001b[0m 17ms/step - loss: 10.2589\n",
            "Epoch 3: loss did not improve from 10.22130\n",
            "\u001b[1m1580/1580\u001b[0m \u001b[32m━━━━━━━━━━━━━━━━━━━━\u001b[0m\u001b[37m\u001b[0m \u001b[1m27s\u001b[0m 17ms/step - loss: 10.2589\n",
            "Epoch 4/5\n",
            "\u001b[1m1578/1580\u001b[0m \u001b[32m━━━━━━━━━━━━━━━━━━━\u001b[0m\u001b[37m━\u001b[0m \u001b[1m0s\u001b[0m 17ms/step - loss: 10.2588\n",
            "Epoch 4: loss did not improve from 10.22130\n",
            "\u001b[1m1580/1580\u001b[0m \u001b[32m━━━━━━━━━━━━━━━━━━━━\u001b[0m\u001b[37m\u001b[0m \u001b[1m26s\u001b[0m 17ms/step - loss: 10.2588\n",
            "Epoch 5/5\n",
            "\u001b[1m1577/1580\u001b[0m \u001b[32m━━━━━━━━━━━━━━━━━━━\u001b[0m\u001b[37m━\u001b[0m \u001b[1m0s\u001b[0m 16ms/step - loss: 10.2588\n",
            "Epoch 5: loss did not improve from 10.22130\n",
            "\u001b[1m1580/1580\u001b[0m \u001b[32m━━━━━━━━━━━━━━━━━━━━\u001b[0m\u001b[37m\u001b[0m \u001b[1m26s\u001b[0m 16ms/step - loss: 10.2587\n"
          ]
        }
      ],
      "source": [
        "#Recompilar o seu modelo para aplicar a nova função de perda corrigida\n",
        "mlm_model.compile(optimizer=keras.optimizers.Adam(learning_rate=1e-6))\n",
        "\n",
        "history = mlm_model.fit(\n",
        "    mlm_ds,\n",
        "    epochs=5,\n",
        "    callbacks=[checkpoint_cb]\n",
        ")\n",
        "\n"
      ]
    },
    {
      "cell_type": "markdown",
      "metadata": {
        "id": "mqhSU4cwGAKY"
      },
      "source": [
        "### Diagnóstico dos dados mascarados - inspecionar possíveis problemas nas entradas:"
      ]
    },
    {
      "cell_type": "code",
      "execution_count": null,
      "metadata": {
        "colab": {
          "base_uri": "https://localhost:8080/"
        },
        "id": "DxotaLekFyTk",
        "outputId": "de8bd607-e401-4825-8c0f-f15220abbf82"
      },
      "outputs": [
        {
          "name": "stdout",
          "output_type": "stream",
          "text": [
            "Amostras com apenas zeros: 0\n",
            "Amostras com apenas [MASK] e padding: 105\n",
            "Amostras sem nenhum rótulo válido: 15485\n"
          ]
        }
      ],
      "source": [
        "import numpy as np\n",
        "\n",
        "# Verifica quantas amostras têm apenas padding ou valores irrelevantes\n",
        "apenas_zeros = np.all(x_masked == 0, axis=1)\n",
        "so_mask = np.all((x_masked == mask_token_id) | (x_masked == 0), axis=1)\n",
        "nenhuma_label = np.all(y_labels == -1, axis=1)\n",
        "\n",
        "print(\"Amostras com apenas zeros:\", apenas_zeros.sum())\n",
        "print(\"Amostras com apenas [MASK] e padding:\", so_mask.sum())\n",
        "print(\"Amostras sem nenhum rótulo válido:\", nenhuma_label.sum())"
      ]
    },
    {
      "cell_type": "code",
      "execution_count": null,
      "metadata": {
        "colab": {
          "base_uri": "https://localhost:8080/"
        },
        "id": "VDNprrxsGT9B",
        "outputId": "aaadc2fe-dcdd-4fff-fca6-f91948ee0c35"
      },
      "outputs": [
        {
          "name": "stdout",
          "output_type": "stream",
          "text": [
            "Novo shape de x_masked: (35046, 128)\n"
          ]
        }
      ],
      "source": [
        "#Filtrar amostras inválidas\n",
        "\n",
        "# Máscara para filtrar amostras úteis (aquelas que têm ao menos um rótulo válido)\n",
        "validas = np.any(y_labels != -1, axis=1)\n",
        "\n",
        "# Aplica o filtro\n",
        "x_masked = x_masked[validas]\n",
        "y_labels = y_labels[validas]\n",
        "sample_weights = sample_weights[validas]\n",
        "\n",
        "# Mostra nova dimensão do dataset\n",
        "print(\"Novo shape de x_masked:\", x_masked.shape)"
      ]
    },
    {
      "cell_type": "code",
      "execution_count": null,
      "metadata": {
        "id": "SOkHBB8mC7De"
      },
      "outputs": [],
      "source": [
        "#Recriar o dataset mlm_ds\n",
        "BATCH_SIZE = 32\n",
        "mlm_ds = tf.data.Dataset.from_tensor_slices((x_masked, y_labels, sample_weights))\n",
        "mlm_ds = mlm_ds.shuffle(1000).batch(BATCH_SIZE)"
      ]
    },
    {
      "cell_type": "code",
      "execution_count": null,
      "metadata": {
        "colab": {
          "base_uri": "https://localhost:8080/"
        },
        "id": "laABizHZCYcP",
        "outputId": "0375c028-e85d-4760-82b8-d486c6d03854"
      },
      "outputs": [
        {
          "name": "stdout",
          "output_type": "stream",
          "text": [
            "Epoch 1/5\n",
            "\u001b[1m1580/1580\u001b[0m \u001b[32m━━━━━━━━━━━━━━━━━━━━\u001b[0m\u001b[37m\u001b[0m \u001b[1m0s\u001b[0m 24ms/step - loss: 10.2166\n",
            "Epoch 1: loss improved from inf to 10.22743, saving model to checkpoints/bert_mlm_filtered_best.keras\n",
            "\u001b[1m1580/1580\u001b[0m \u001b[32m━━━━━━━━━━━━━━━━━━━━\u001b[0m\u001b[37m\u001b[0m \u001b[1m66s\u001b[0m 24ms/step - loss: 10.2166\n",
            "Epoch 2/5\n",
            "\u001b[1m1578/1580\u001b[0m \u001b[32m━━━━━━━━━━━━━━━━━━━\u001b[0m\u001b[37m━\u001b[0m \u001b[1m0s\u001b[0m 16ms/step - loss: 10.2454\n",
            "Epoch 2: loss did not improve from 10.22743\n",
            "\u001b[1m1580/1580\u001b[0m \u001b[32m━━━━━━━━━━━━━━━━━━━━\u001b[0m\u001b[37m\u001b[0m \u001b[1m25s\u001b[0m 16ms/step - loss: 10.2454\n",
            "Epoch 3/5\n",
            "\u001b[1m1578/1580\u001b[0m \u001b[32m━━━━━━━━━━━━━━━━━━━\u001b[0m\u001b[37m━\u001b[0m \u001b[1m0s\u001b[0m 16ms/step - loss: 10.2235\n",
            "Epoch 3: loss did not improve from 10.22743\n",
            "\u001b[1m1580/1580\u001b[0m \u001b[32m━━━━━━━━━━━━━━━━━━━━\u001b[0m\u001b[37m\u001b[0m \u001b[1m26s\u001b[0m 16ms/step - loss: 10.2235\n",
            "Epoch 4/5\n",
            "\u001b[1m1578/1580\u001b[0m \u001b[32m━━━━━━━━━━━━━━━━━━━\u001b[0m\u001b[37m━\u001b[0m \u001b[1m0s\u001b[0m 16ms/step - loss: 10.2489\n",
            "Epoch 4: loss did not improve from 10.22743\n",
            "\u001b[1m1580/1580\u001b[0m \u001b[32m━━━━━━━━━━━━━━━━━━━━\u001b[0m\u001b[37m\u001b[0m \u001b[1m26s\u001b[0m 16ms/step - loss: 10.2489\n",
            "Epoch 5/5\n",
            "\u001b[1m1579/1580\u001b[0m \u001b[32m━━━━━━━━━━━━━━━━━━━\u001b[0m\u001b[37m━\u001b[0m \u001b[1m0s\u001b[0m 16ms/step - loss: 10.2367\n",
            "Epoch 5: loss did not improve from 10.22743\n",
            "\u001b[1m1580/1580\u001b[0m \u001b[32m━━━━━━━━━━━━━━━━━━━━\u001b[0m\u001b[37m\u001b[0m \u001b[1m26s\u001b[0m 16ms/step - loss: 10.2367\n"
          ]
        }
      ],
      "source": [
        "#Novo treinamento\n",
        "mlm_model.compile(optimizer=keras.optimizers.Adam(learning_rate=1e-4))\n",
        "\n",
        "checkpoint_cb = ModelCheckpoint(\n",
        "    filepath=\"checkpoints/bert_mlm_filtered_best.keras\",\n",
        "    monitor=\"loss\",\n",
        "    save_best_only=True,\n",
        "    save_weights_only=False,\n",
        "    verbose=1\n",
        ")\n",
        "\n",
        "# Treinamento\n",
        "history = mlm_model.fit(\n",
        "    mlm_ds,\n",
        "    epochs=5,\n",
        "    callbacks=[checkpoint_cb]\n",
        ")"
      ]
    },
    {
      "cell_type": "markdown",
      "metadata": {
        "id": "ocFzFeLI27gd"
      },
      "source": [
        "## 🍀 **BERT Model** (nova versão)"
      ]
    },
    {
      "cell_type": "markdown",
      "metadata": {
        "id": "N6W8eKBDHwRB"
      },
      "source": [
        "Prof, desistimos. Vamos refazer o projeto do começo =("
      ]
    },
    {
      "cell_type": "markdown",
      "metadata": {
        "id": "sLme1ViCJDd4"
      },
      "source": [
        "Novo projeto. Objetivo: Treinar um modelo BERT (do zero ou com fine-tuning) para completar frases dos personagens de Friends"
      ]
    },
    {
      "cell_type": "markdown",
      "metadata": {
        "id": "B3XijvZWKRoo"
      },
      "source": [
        "Etapas:\n",
        "1. Dataset | Organizar as falas dos personagens de Friends em formato linha por linha\n",
        "2. Pré-processamento | Limpeza básica\n",
        "3. Tokenização\n",
        "4. Dataset para treino | Criar Dataset com frases mascaradas ([MASK]) no estilo MLM.\n",
        "5. Modelo BERT\n",
        "6. Treinamento | Treinar com callbacks de checkpoint e salvar o modelo.\n",
        "7. Avaliação/Testes | Completar frases manualmente com o modelo e ver os resultados.\n"
      ]
    },
    {
      "cell_type": "markdown",
      "metadata": {
        "id": "N86ClsFi27ge"
      },
      "source": [
        "### Dependências"
      ]
    },
    {
      "cell_type": "code",
      "execution_count": null,
      "metadata": {
        "id": "oYbta9BvH61T"
      },
      "outputs": [],
      "source": [
        "import os\n",
        "\n",
        "os.environ[\"KERAS_BACKEND\"] = \"torch\"  # or jax, or tensorflow\n",
        "\n",
        "import keras_hub\n",
        "\n",
        "import keras\n",
        "from keras import layers\n",
        "from keras.layers import TextVectorization\n",
        "\n",
        "from dataclasses import dataclass\n",
        "import pandas as pd\n",
        "import numpy as np\n",
        "import glob\n",
        "import re\n",
        "from pprint import pprint"
      ]
    },
    {
      "cell_type": "code",
      "execution_count": null,
      "metadata": {
        "id": "ji7oky5rAIZE"
      },
      "outputs": [],
      "source": [
        "@dataclass\n",
        "class Config:\n",
        "    MAX_LEN = 256\n",
        "    BATCH_SIZE = 32\n",
        "    LR = 0.001\n",
        "    VOCAB_SIZE = 30000\n",
        "    EMBED_DIM = 128\n",
        "    NUM_HEAD = 8  # used in bert model\n",
        "    FF_DIM = 128  # used in bert model\n",
        "    NUM_LAYERS = 1\n",
        "\n",
        "\n",
        "config = Config()"
      ]
    },
    {
      "cell_type": "markdown",
      "metadata": {
        "id": "YsOQzYeMPXKI"
      },
      "source": [
        "### 1 Carregar Dataset"
      ]
    },
    {
      "cell_type": "code",
      "execution_count": null,
      "metadata": {
        "colab": {
          "base_uri": "https://localhost:8080/",
          "height": 543
        },
        "id": "CIej_V8zMmy4",
        "outputId": "df350979-a311-4699-e3b3-e785a1a59541"
      },
      "outputs": [
        {
          "output_type": "display_data",
          "data": {
            "text/plain": [
              "<IPython.core.display.HTML object>"
            ],
            "text/html": [
              "\n",
              "     <input type=\"file\" id=\"files-82b94ea5-f103-4c23-863f-b830500a4c71\" name=\"files[]\" multiple disabled\n",
              "        style=\"border:none\" />\n",
              "     <output id=\"result-82b94ea5-f103-4c23-863f-b830500a4c71\">\n",
              "      Upload widget is only available when the cell has been executed in the\n",
              "      current browser session. Please rerun this cell to enable.\n",
              "      </output>\n",
              "      <script>// Copyright 2017 Google LLC\n",
              "//\n",
              "// Licensed under the Apache License, Version 2.0 (the \"License\");\n",
              "// you may not use this file except in compliance with the License.\n",
              "// You may obtain a copy of the License at\n",
              "//\n",
              "//      http://www.apache.org/licenses/LICENSE-2.0\n",
              "//\n",
              "// Unless required by applicable law or agreed to in writing, software\n",
              "// distributed under the License is distributed on an \"AS IS\" BASIS,\n",
              "// WITHOUT WARRANTIES OR CONDITIONS OF ANY KIND, either express or implied.\n",
              "// See the License for the specific language governing permissions and\n",
              "// limitations under the License.\n",
              "\n",
              "/**\n",
              " * @fileoverview Helpers for google.colab Python module.\n",
              " */\n",
              "(function(scope) {\n",
              "function span(text, styleAttributes = {}) {\n",
              "  const element = document.createElement('span');\n",
              "  element.textContent = text;\n",
              "  for (const key of Object.keys(styleAttributes)) {\n",
              "    element.style[key] = styleAttributes[key];\n",
              "  }\n",
              "  return element;\n",
              "}\n",
              "\n",
              "// Max number of bytes which will be uploaded at a time.\n",
              "const MAX_PAYLOAD_SIZE = 100 * 1024;\n",
              "\n",
              "function _uploadFiles(inputId, outputId) {\n",
              "  const steps = uploadFilesStep(inputId, outputId);\n",
              "  const outputElement = document.getElementById(outputId);\n",
              "  // Cache steps on the outputElement to make it available for the next call\n",
              "  // to uploadFilesContinue from Python.\n",
              "  outputElement.steps = steps;\n",
              "\n",
              "  return _uploadFilesContinue(outputId);\n",
              "}\n",
              "\n",
              "// This is roughly an async generator (not supported in the browser yet),\n",
              "// where there are multiple asynchronous steps and the Python side is going\n",
              "// to poll for completion of each step.\n",
              "// This uses a Promise to block the python side on completion of each step,\n",
              "// then passes the result of the previous step as the input to the next step.\n",
              "function _uploadFilesContinue(outputId) {\n",
              "  const outputElement = document.getElementById(outputId);\n",
              "  const steps = outputElement.steps;\n",
              "\n",
              "  const next = steps.next(outputElement.lastPromiseValue);\n",
              "  return Promise.resolve(next.value.promise).then((value) => {\n",
              "    // Cache the last promise value to make it available to the next\n",
              "    // step of the generator.\n",
              "    outputElement.lastPromiseValue = value;\n",
              "    return next.value.response;\n",
              "  });\n",
              "}\n",
              "\n",
              "/**\n",
              " * Generator function which is called between each async step of the upload\n",
              " * process.\n",
              " * @param {string} inputId Element ID of the input file picker element.\n",
              " * @param {string} outputId Element ID of the output display.\n",
              " * @return {!Iterable<!Object>} Iterable of next steps.\n",
              " */\n",
              "function* uploadFilesStep(inputId, outputId) {\n",
              "  const inputElement = document.getElementById(inputId);\n",
              "  inputElement.disabled = false;\n",
              "\n",
              "  const outputElement = document.getElementById(outputId);\n",
              "  outputElement.innerHTML = '';\n",
              "\n",
              "  const pickedPromise = new Promise((resolve) => {\n",
              "    inputElement.addEventListener('change', (e) => {\n",
              "      resolve(e.target.files);\n",
              "    });\n",
              "  });\n",
              "\n",
              "  const cancel = document.createElement('button');\n",
              "  inputElement.parentElement.appendChild(cancel);\n",
              "  cancel.textContent = 'Cancel upload';\n",
              "  const cancelPromise = new Promise((resolve) => {\n",
              "    cancel.onclick = () => {\n",
              "      resolve(null);\n",
              "    };\n",
              "  });\n",
              "\n",
              "  // Wait for the user to pick the files.\n",
              "  const files = yield {\n",
              "    promise: Promise.race([pickedPromise, cancelPromise]),\n",
              "    response: {\n",
              "      action: 'starting',\n",
              "    }\n",
              "  };\n",
              "\n",
              "  cancel.remove();\n",
              "\n",
              "  // Disable the input element since further picks are not allowed.\n",
              "  inputElement.disabled = true;\n",
              "\n",
              "  if (!files) {\n",
              "    return {\n",
              "      response: {\n",
              "        action: 'complete',\n",
              "      }\n",
              "    };\n",
              "  }\n",
              "\n",
              "  for (const file of files) {\n",
              "    const li = document.createElement('li');\n",
              "    li.append(span(file.name, {fontWeight: 'bold'}));\n",
              "    li.append(span(\n",
              "        `(${file.type || 'n/a'}) - ${file.size} bytes, ` +\n",
              "        `last modified: ${\n",
              "            file.lastModifiedDate ? file.lastModifiedDate.toLocaleDateString() :\n",
              "                                    'n/a'} - `));\n",
              "    const percent = span('0% done');\n",
              "    li.appendChild(percent);\n",
              "\n",
              "    outputElement.appendChild(li);\n",
              "\n",
              "    const fileDataPromise = new Promise((resolve) => {\n",
              "      const reader = new FileReader();\n",
              "      reader.onload = (e) => {\n",
              "        resolve(e.target.result);\n",
              "      };\n",
              "      reader.readAsArrayBuffer(file);\n",
              "    });\n",
              "    // Wait for the data to be ready.\n",
              "    let fileData = yield {\n",
              "      promise: fileDataPromise,\n",
              "      response: {\n",
              "        action: 'continue',\n",
              "      }\n",
              "    };\n",
              "\n",
              "    // Use a chunked sending to avoid message size limits. See b/62115660.\n",
              "    let position = 0;\n",
              "    do {\n",
              "      const length = Math.min(fileData.byteLength - position, MAX_PAYLOAD_SIZE);\n",
              "      const chunk = new Uint8Array(fileData, position, length);\n",
              "      position += length;\n",
              "\n",
              "      const base64 = btoa(String.fromCharCode.apply(null, chunk));\n",
              "      yield {\n",
              "        response: {\n",
              "          action: 'append',\n",
              "          file: file.name,\n",
              "          data: base64,\n",
              "        },\n",
              "      };\n",
              "\n",
              "      let percentDone = fileData.byteLength === 0 ?\n",
              "          100 :\n",
              "          Math.round((position / fileData.byteLength) * 100);\n",
              "      percent.textContent = `${percentDone}% done`;\n",
              "\n",
              "    } while (position < fileData.byteLength);\n",
              "  }\n",
              "\n",
              "  // All done.\n",
              "  yield {\n",
              "    response: {\n",
              "      action: 'complete',\n",
              "    }\n",
              "  };\n",
              "}\n",
              "\n",
              "scope.google = scope.google || {};\n",
              "scope.google.colab = scope.google.colab || {};\n",
              "scope.google.colab._files = {\n",
              "  _uploadFiles,\n",
              "  _uploadFilesContinue,\n",
              "};\n",
              "})(self);\n",
              "</script> "
            ]
          },
          "metadata": {}
        },
        {
          "output_type": "stream",
          "name": "stdout",
          "text": [
            "Saving falas_chandler.txt to falas_chandler (1).txt\n",
            "Saving falas_joey.txt to falas_joey (1).txt\n",
            "Saving falas_monica.txt to falas_monica (1).txt\n",
            "Saving falas_phoebe.txt to falas_phoebe (1).txt\n",
            "Saving falas_rachel.txt to falas_rachel (1).txt\n",
            "Saving falas_ross.txt to falas_ross (1).txt\n",
            "      character                                               line\n",
            "6125   Chandler  Well y'know a lot of those Muppets don't have ...\n",
            "51332    Rachel                                               Why?\n",
            "52679    Rachel                                            Pheebs?\n",
            "17203      Joey                      That guy’s still doing that?!\n",
            "65311      Ross                                               Ohh…\n",
            "\n",
            "Total de falas carregadas: 65621\n",
            "character\n",
            "Rachel      11899\n",
            "Ross        11842\n",
            "Monica      10937\n",
            "Chandler    10858\n",
            "Joey        10545\n",
            "Phoebe       9540\n",
            "Name: count, dtype: int64\n"
          ]
        }
      ],
      "source": [
        "#Recarregar a base de dados com os .txt dos 6 personagens\n",
        "from google.colab import files\n",
        "from collections import defaultdict\n",
        "import pandas as pd\n",
        "\n",
        "\n",
        "uploaded = files.upload()\n",
        "\n",
        "# Dicionário arquivos - personagens\n",
        "files = {\n",
        "    \"Chandler\": \"falas_chandler.txt\",\n",
        "    \"Joey\": \"falas_joey.txt\",\n",
        "    \"Monica\": \"falas_monica.txt\",\n",
        "    \"Phoebe\": \"falas_phoebe.txt\",\n",
        "    \"Rachel\": \"falas_rachel.txt\",\n",
        "    \"Ross\": \"falas_ross.txt\",\n",
        "}\n",
        "\n",
        "#Lista para armazenar\n",
        "all_lines = []\n",
        "\n",
        "#Leitura dos arquivos\n",
        "for character, filename in files.items():\n",
        "    with open(filename, \"r\", encoding=\"utf-8\") as f:\n",
        "        lines = f.readlines()\n",
        "        lines = [line.strip() for line in lines if line.strip()]\n",
        "        all_lines.extend([(character, line) for line in lines])\n",
        "\n",
        "#DataFrame\n",
        "df_friends = pd.DataFrame(all_lines, columns=[\"character\", \"line\"])\n",
        "\n",
        "\n",
        "print(df_friends.sample(5))\n",
        "print(f\"\\nTotal de falas carregadas: {len(df_friends)}\")\n",
        "print(df_friends['character'].value_counts())"
      ]
    },
    {
      "cell_type": "markdown",
      "metadata": {
        "id": "p-lR4DiOQVou"
      },
      "source": [
        "### 2 Pré-processamento e Limpeza dos Dados"
      ]
    },
    {
      "cell_type": "code",
      "execution_count": null,
      "metadata": {
        "colab": {
          "base_uri": "https://localhost:8080/"
        },
        "id": "sWzfzaxvQZ_H",
        "outputId": "8191a0af-2766-4e62-f5bf-6f629eb906b6"
      },
      "outputs": [
        {
          "output_type": "stream",
          "name": "stdout",
          "text": [
            "      character                                               line  \\\n",
            "24369    Monica          Have I read it?  No, are you enjoying it?   \n",
            "53839      Ross  Well, we just wanted to say a quick hi, and th...   \n",
            "937    Chandler                           Uh Kathy, with K or a C?   \n",
            "51080    Rachel  You know what, I can't do this. I don't know w...   \n",
            "38972    Phoebe  No! But it's the nicest kitchen, the refrigera...   \n",
            "\n",
            "                                              clean_line  \n",
            "24369             Have I read it  No are you enjoying it  \n",
            "53839  Well we just wanted to say a quick hi and then...  \n",
            "937                               Uh Kathy with K or a C  \n",
            "51080  You know what I can't do this I don't know whi...  \n",
            "38972  No But it's the nicest kitchen the refrigerato...  \n",
            "\n",
            "Total de falas após limpeza: 47813\n"
          ]
        }
      ],
      "source": [
        "import re\n",
        "\n",
        "def limpar_fala(fala):\n",
        "    #Remover colchetes e parênteses\n",
        "    fala = re.sub(r'\\[.*?\\]', '', fala)\n",
        "    fala = re.sub(r'\\(.*?\\)', '', fala)\n",
        "\n",
        "    #Remover pontuação\n",
        "    fala = re.sub(r\"[^\\w\\s']\", '', fala)\n",
        "\n",
        "    #Remover espaços nas extremidades\n",
        "    fala = fala.strip()\n",
        "\n",
        "    return fala\n",
        "\n",
        "df_friends[\"clean_line\"] = df_friends[\"line\"].apply(limpar_fala)\n",
        "\n",
        "#Remover falas muito curtas\n",
        "df_friends = df_friends[df_friends[\"clean_line\"].str.split().str.len() >= 4]\n",
        "\n",
        "print(df_friends.sample(5))\n",
        "print(f\"\\nTotal de falas após limpeza: {len(df_friends)}\")\n"
      ]
    },
    {
      "cell_type": "code",
      "execution_count": null,
      "metadata": {
        "colab": {
          "base_uri": "https://localhost:8080/"
        },
        "id": "ILgm0g97QswE",
        "outputId": "642cb3d8-df12-4900-cca6-5ef2d3d121fb"
      },
      "outputs": [
        {
          "output_type": "stream",
          "name": "stdout",
          "text": [
            "Total de falas limpas: 47813\n",
            "Treino: 43031 | Teste: 4782\n"
          ]
        }
      ],
      "source": [
        "#Separa treino e teste\n",
        "from sklearn.model_selection import train_test_split\n",
        "\n",
        "train_lines, test_lines = train_test_split(\n",
        "    df_friends[\"clean_line\"], test_size=0.1, random_state=42\n",
        ")\n",
        "\n",
        "train_df = pd.DataFrame({\"line\": train_lines})\n",
        "test_df = pd.DataFrame({\"line\": test_lines})\n",
        "all_data = pd.concat([train_df, test_df], ignore_index=True)\n",
        "\n",
        "# Visualizar\n",
        "print(f\"Total de falas limpas: {len(all_data)}\")\n",
        "print(f\"Treino: {len(train_df)} | Teste: {len(test_df)}\")"
      ]
    },
    {
      "cell_type": "markdown",
      "metadata": {
        "id": "saG1F3C627gg"
      },
      "source": [
        "### 3 Preparando dados para o Treinamento com MLM"
      ]
    },
    {
      "cell_type": "code",
      "execution_count": null,
      "metadata": {
        "id": "SxEpPUXPTQtT"
      },
      "outputs": [],
      "source": [
        "#preparar os dados pro treinamento com Masked Language Modeling (MLM)\n",
        "\n",
        "import tensorflow as tf\n",
        "from tensorflow.keras.layers import TextVectorization\n",
        "\n",
        "\n",
        "\n",
        "def custom_standardization(input_data):\n",
        "    lowercase = tf.strings.lower(input_data)\n",
        "    stripped_html = tf.strings.regex_replace(lowercase, \"<br />\", \" \")\n",
        "    return tf.strings.regex_replace(\n",
        "        stripped_html, \"[%s]\" % re.escape(\"!#$%&'()*+,-./:;<=>?@\\^_`{|}~\"), \"\"\n",
        "    )\n",
        "\n",
        "\n",
        "def get_vectorize_layer(texts, vocab_size, max_seq, special_tokens=[\"[MASK]\"]):\n",
        "    vectorize_layer = TextVectorization(\n",
        "        max_tokens=vocab_size,\n",
        "        output_mode=\"int\",\n",
        "        output_sequence_length=max_seq,\n",
        "        standardize=custom_standardization\n",
        "    )\n",
        "    vectorize_layer.adapt(texts)\n",
        "\n",
        "    # Adiciona token [MASK] vocabulário\n",
        "    vocab = vectorize_layer.get_vocabulary()\n",
        "    vocab = vocab[2 : vocab_size - len(special_tokens)] + [\"[mask]\"]\n",
        "    vectorize_layer.set_vocabulary(vocab)\n",
        "\n",
        "    return vectorize_layer\n"
      ]
    },
    {
      "cell_type": "code",
      "execution_count": null,
      "metadata": {
        "id": "NumHlp_cUdvb"
      },
      "outputs": [],
      "source": [
        "#instanciar vectorize_layer\n",
        "vectorize_layer = get_vectorize_layer(\n",
        "    all_data.line.values.tolist(),\n",
        "    config.VOCAB_SIZE,\n",
        "    config.MAX_LEN,\n",
        "    special_tokens=[\"[mask]\"]\n",
        ")"
      ]
    },
    {
      "cell_type": "code",
      "execution_count": null,
      "metadata": {
        "id": "QzJhetjOT2Po"
      },
      "outputs": [],
      "source": [
        "# Pega o id do token [MASK]\n",
        "mask_token_id = vectorize_layer([\"[mask]\"]).numpy()[0][0]"
      ]
    },
    {
      "cell_type": "code",
      "execution_count": null,
      "metadata": {
        "id": "99CQqwsxUCaF"
      },
      "outputs": [],
      "source": [
        "def encode(texts):\n",
        "    encoded_texts = vectorize_layer(texts)\n",
        "    return encoded_texts.numpy()"
      ]
    },
    {
      "cell_type": "code",
      "execution_count": null,
      "metadata": {
        "id": "KWtK-_WTVCnI"
      },
      "outputs": [],
      "source": [
        "def get_masked_input_and_labels(encoded_texts, mask_token_id):\n",
        "    # 15% das posições serão consideradas para masking\n",
        "    inp_mask = np.random.rand(*encoded_texts.shape) < 0.15\n",
        "\n",
        "    # Evita mascarar tokens especiais (0 = PAD, 1 = UNK, 2 = START)\n",
        "    inp_mask[encoded_texts <= 2] = False\n",
        "\n",
        "    # Labels: -1 onde não há máscara (ignorar na loss)\n",
        "    labels = -1 * np.ones(encoded_texts.shape, dtype=int)\n",
        "    labels[inp_mask] = encoded_texts[inp_mask]\n",
        "\n",
        "    # Cria cópia para modificar as entradas mascaradas\n",
        "    encoded_texts_masked = np.copy(encoded_texts)\n",
        "\n",
        "    # 90% dos tokens mascarados viram [MASK]\n",
        "    inp_mask_2mask = inp_mask & (np.random.rand(*encoded_texts.shape) < 0.9)\n",
        "    encoded_texts_masked[inp_mask_2mask] = mask_token_id\n",
        "\n",
        "    # 10% dos tokens mascarados viram tokens aleatórios\n",
        "    inp_mask_2random = inp_mask_2mask & (np.random.rand(*encoded_texts.shape) < 1 / 9)\n",
        "    encoded_texts_masked[inp_mask_2random] = np.random.randint(\n",
        "        3, mask_token_id, inp_mask_2random.sum()\n",
        "    )\n",
        "\n",
        "    # Sample weights: 1 onde há máscara, 0 onde não há\n",
        "    sample_weights = np.ones(labels.shape)\n",
        "    sample_weights[labels == -1] = 0\n",
        "\n",
        "    return encoded_texts_masked, encoded_texts, sample_weights"
      ]
    },
    {
      "cell_type": "code",
      "execution_count": null,
      "metadata": {
        "id": "tyAZjxCzVeLe"
      },
      "outputs": [],
      "source": [
        "#preparar os dados para Masked Language Modeling\n",
        "x_all = encode(all_data.line.values)\n",
        "\n",
        "x_masked, y_labels, sample_weights = get_masked_input_and_labels(x_all, mask_token_id)"
      ]
    },
    {
      "cell_type": "code",
      "execution_count": null,
      "metadata": {
        "id": "ZyZjF3DbWDZ_"
      },
      "outputs": [],
      "source": [
        "#preparar os dados para Masked Language Modeling\n",
        "mlm_ds = tf.data.Dataset.from_tensor_slices(\n",
        "    (x_masked, y_labels, sample_weights)\n",
        ")\n",
        "\n",
        "mlm_ds = mlm_ds.shuffle(1000).batch(config.BATCH_SIZE)"
      ]
    },
    {
      "cell_type": "markdown",
      "metadata": {
        "id": "Pd3UiBNRbeL5"
      },
      "source": [
        "### 5 Modelagem BERT\n"
      ]
    },
    {
      "cell_type": "code",
      "execution_count": null,
      "metadata": {
        "id": "gGYe6Y1eXcGT"
      },
      "outputs": [],
      "source": [
        "#Criando o BERT model\n",
        "import keras_nlp\n",
        "\n",
        "\n",
        "def bert_module(query, key, value, i):\n",
        "    # Multi-headed Self-Attention\n",
        "    attention_output = layers.MultiHeadAttention(\n",
        "        num_heads=config.NUM_HEAD,\n",
        "        key_dim=config.EMBED_DIM // config.NUM_HEAD,\n",
        "        name=f\"encoder_{i}_multiheadattention\"\n",
        "    )(query, key, value)\n",
        "\n",
        "    # Dropout + Residual Connection + Layer Norm\n",
        "    attention_output = layers.Dropout(0.1, name=f\"encoder_{i}_att_dropout\")(attention_output)\n",
        "    attention_output = layers.LayerNormalization(\n",
        "        epsilon=1e-6, name=f\"encoder_{i}_att_layernormalization\"\n",
        "    )(query + attention_output)\n",
        "\n",
        "    # Feed Forward Network (FFN)\n",
        "    ffn = keras.Sequential([\n",
        "        layers.Dense(config.FF_DIM, activation=\"relu\"),\n",
        "        layers.Dense(config.EMBED_DIM),\n",
        "    ], name=f\"encoder_{i}_ffn\")\n",
        "\n",
        "    ffn_output = ffn(attention_output)\n",
        "\n",
        "    # Dropout + Residual Connection + Layer Norm\n",
        "    ffn_output = layers.Dropout(0.1, name=f\"encoder_{i}_ffn_dropout\")(ffn_output)\n",
        "    sequence_output = layers.LayerNormalization(\n",
        "        epsilon=1e-6, name=f\"encoder_{i}_ffn_layernormalization\"\n",
        "    )(attention_output + ffn_output)\n",
        "\n",
        "    return sequence_output\n"
      ]
    },
    {
      "cell_type": "code",
      "execution_count": null,
      "metadata": {
        "id": "h9Y2qFoTW_Fe"
      },
      "outputs": [],
      "source": [
        "#definição da função de loss e o método de rastreamento\n",
        "loss_fn = keras.losses.SparseCategoricalCrossentropy(reduction=None)\n",
        "loss_tracker = keras.metrics.Mean(name=\"loss\")\n"
      ]
    },
    {
      "cell_type": "code",
      "execution_count": null,
      "metadata": {
        "id": "WAhEkaApYoGZ"
      },
      "outputs": [],
      "source": [
        "class MaskedLanguageModel(keras.Model):\n",
        "\n",
        "    def compute_loss(self, x=None, y=None, y_pred=None, sample_weight=None):\n",
        "        loss = loss_fn(y, y_pred, sample_weight)\n",
        "        loss_tracker.update_state(loss, sample_weight=sample_weight)\n",
        "        return keras.ops.sum(loss)\n",
        "\n",
        "    def compute_metrics(self, x, y, y_pred, sample_weight):\n",
        "        return {\"loss\": loss_tracker.result()}\n",
        "\n",
        "    @property\n",
        "    def metrics(self):\n",
        "        return [loss_tracker]\n",
        "\n",
        "\n",
        "def create_masked_language_bert_model():\n",
        "    inputs = layers.Input((config.MAX_LEN,), dtype=\"int64\")\n",
        "\n",
        "    word_embeddings = layers.Embedding(\n",
        "        config.VOCAB_SIZE,\n",
        "        config.EMBED_DIM,\n",
        "        name=\"word_embedding\"\n",
        "    )(inputs)\n",
        "\n",
        "\n",
        "    position_embeddings = keras_nlp.layers.PositionEmbedding(\n",
        "        sequence_length=config.MAX_LEN\n",
        "    )(word_embeddings)\n",
        "\n",
        "\n",
        "    embeddings = word_embeddings + position_embeddings\n",
        "\n",
        "\n",
        "    encoder_output = embeddings\n",
        "    for i in range(config.NUM_LAYERS):\n",
        "        encoder_output = bert_module(\n",
        "            encoder_output, encoder_output, encoder_output, i\n",
        "        )\n",
        "\n",
        "\n",
        "    mlm_output = layers.Dense(\n",
        "        config.VOCAB_SIZE, activation=\"softmax\", name=\"mlm_cls\"\n",
        "    )(encoder_output)\n",
        "\n",
        "    #Modelo final\n",
        "    mlm_model = MaskedLanguageModel(inputs, mlm_output, name=\"masked_bert_model\")\n",
        "\n",
        "    #Compila com otimizador Adam e learning rate da config\n",
        "    optimizer = keras.optimizers.Adam(learning_rate=config.LR)\n",
        "    mlm_model.compile(optimizer=optimizer)\n",
        "\n",
        "    return mlm_model\n"
      ]
    },
    {
      "cell_type": "code",
      "execution_count": null,
      "metadata": {
        "id": "CPVaqf_kZlH0"
      },
      "outputs": [],
      "source": [
        "#classe MaskedTextGenerator pra ser usada como callback durante o treino\n",
        "\n",
        "import numpy as np\n",
        "from pprint import pprint\n",
        "from tensorflow import keras\n",
        "\n",
        "class MaskedTextGenerator(keras.callbacks.Callback):\n",
        "    def __init__(self, sample_tokens, top_k=5):\n",
        "        self.sample_tokens = sample_tokens\n",
        "        self.k = top_k\n",
        "\n",
        "    def decode(self, tokens):\n",
        "        return \" \".join([id2token[t] for t in tokens if t != 0])\n",
        "\n",
        "    def convert_ids_to_tokens(self, id):\n",
        "        return id2token[id]\n",
        "\n",
        "    def on_epoch_end(self, epoch, logs=None):\n",
        "        prediction = self.model.predict(self.sample_tokens)\n",
        "\n",
        "        masked_index = np.where(self.sample_tokens == mask_token_id)\n",
        "        masked_index = masked_index[1]  # ignorar batch dim\n",
        "        mask_prediction = prediction[0][masked_index]\n",
        "\n",
        "        top_indices = mask_prediction[0].argsort()[-self.k:][::-1]\n",
        "        values = mask_prediction[0][top_indices]\n",
        "\n",
        "        for i in range(len(top_indices)):\n",
        "            p = top_indices[i]\n",
        "            v = values[i]\n",
        "            tokens = np.copy(self.sample_tokens[0])\n",
        "            tokens[masked_index[0]] = p\n",
        "            result = {\n",
        "                \"input_text\": self.decode(sample_tokens[0].numpy()),\n",
        "                \"prediction\": self.decode(tokens),\n",
        "                \"probability\": v,\n",
        "                \"predicted mask token\": self.convert_ids_to_tokens(p),\n",
        "            }\n",
        "            pprint(result)"
      ]
    },
    {
      "cell_type": "code",
      "execution_count": null,
      "metadata": {
        "id": "RF3qnDibaRGj"
      },
      "outputs": [],
      "source": [
        "sample_tokens = vectorize_layer([\"Joey doesn't share [mask]!\"])\n",
        "generator_callback = MaskedTextGenerator(sample_tokens.numpy())"
      ]
    },
    {
      "cell_type": "code",
      "execution_count": null,
      "metadata": {
        "colab": {
          "base_uri": "https://localhost:8080/",
          "height": 800
        },
        "id": "pVcgyqAMaZwl",
        "outputId": "e04abe45-7e71-41f4-edf8-860db9100cb3"
      },
      "outputs": [
        {
          "data": {
            "text/html": [
              "<pre style=\"white-space:pre;overflow-x:auto;line-height:normal;font-family:Menlo,'DejaVu Sans Mono',consolas,'Courier New',monospace\"><span style=\"font-weight: bold\">Model: \"masked_bert_model\"</span>\n",
              "</pre>\n"
            ],
            "text/plain": [
              "\u001b[1mModel: \"masked_bert_model\"\u001b[0m\n"
            ]
          },
          "metadata": {},
          "output_type": "display_data"
        },
        {
          "data": {
            "text/html": [
              "<pre style=\"white-space:pre;overflow-x:auto;line-height:normal;font-family:Menlo,'DejaVu Sans Mono',consolas,'Courier New',monospace\">┏━━━━━━━━━━━━━━━━━━━━━┳━━━━━━━━━━━━━━━━━━━┳━━━━━━━━━━━━┳━━━━━━━━━━━━━━━━━━━┓\n",
              "┃<span style=\"font-weight: bold\"> Layer (type)        </span>┃<span style=\"font-weight: bold\"> Output Shape      </span>┃<span style=\"font-weight: bold\">    Param # </span>┃<span style=\"font-weight: bold\"> Connected to      </span>┃\n",
              "┡━━━━━━━━━━━━━━━━━━━━━╇━━━━━━━━━━━━━━━━━━━╇━━━━━━━━━━━━╇━━━━━━━━━━━━━━━━━━━┩\n",
              "│ input_layer_19      │ (<span style=\"color: #00d7ff; text-decoration-color: #00d7ff\">None</span>, <span style=\"color: #00af00; text-decoration-color: #00af00\">256</span>)       │          <span style=\"color: #00af00; text-decoration-color: #00af00\">0</span> │ -                 │\n",
              "│ (<span style=\"color: #0087ff; text-decoration-color: #0087ff\">InputLayer</span>)        │                   │            │                   │\n",
              "├─────────────────────┼───────────────────┼────────────┼───────────────────┤\n",
              "│ word_embedding      │ (<span style=\"color: #00d7ff; text-decoration-color: #00d7ff\">None</span>, <span style=\"color: #00af00; text-decoration-color: #00af00\">256</span>, <span style=\"color: #00af00; text-decoration-color: #00af00\">128</span>)  │  <span style=\"color: #00af00; text-decoration-color: #00af00\">3,840,000</span> │ input_layer_19[<span style=\"color: #00af00; text-decoration-color: #00af00\">0</span>… │\n",
              "│ (<span style=\"color: #0087ff; text-decoration-color: #0087ff\">Embedding</span>)         │                   │            │                   │\n",
              "├─────────────────────┼───────────────────┼────────────┼───────────────────┤\n",
              "│ position_embedding… │ (<span style=\"color: #00d7ff; text-decoration-color: #00d7ff\">None</span>, <span style=\"color: #00af00; text-decoration-color: #00af00\">256</span>, <span style=\"color: #00af00; text-decoration-color: #00af00\">128</span>)  │     <span style=\"color: #00af00; text-decoration-color: #00af00\">32,768</span> │ word_embedding[<span style=\"color: #00af00; text-decoration-color: #00af00\">0</span>… │\n",
              "│ (<span style=\"color: #0087ff; text-decoration-color: #0087ff\">PositionEmbedding</span>) │                   │            │                   │\n",
              "├─────────────────────┼───────────────────┼────────────┼───────────────────┤\n",
              "│ add_39 (<span style=\"color: #0087ff; text-decoration-color: #0087ff\">Add</span>)        │ (<span style=\"color: #00d7ff; text-decoration-color: #00d7ff\">None</span>, <span style=\"color: #00af00; text-decoration-color: #00af00\">256</span>, <span style=\"color: #00af00; text-decoration-color: #00af00\">128</span>)  │          <span style=\"color: #00af00; text-decoration-color: #00af00\">0</span> │ word_embedding[<span style=\"color: #00af00; text-decoration-color: #00af00\">0</span>… │\n",
              "│                     │                   │            │ position_embeddi… │\n",
              "├─────────────────────┼───────────────────┼────────────┼───────────────────┤\n",
              "│ encoder_0_multihea… │ (<span style=\"color: #00d7ff; text-decoration-color: #00d7ff\">None</span>, <span style=\"color: #00af00; text-decoration-color: #00af00\">256</span>, <span style=\"color: #00af00; text-decoration-color: #00af00\">128</span>)  │     <span style=\"color: #00af00; text-decoration-color: #00af00\">66,048</span> │ add_39[<span style=\"color: #00af00; text-decoration-color: #00af00\">0</span>][<span style=\"color: #00af00; text-decoration-color: #00af00\">0</span>],     │\n",
              "│ (<span style=\"color: #0087ff; text-decoration-color: #0087ff\">MultiHeadAttentio…</span> │                   │            │ add_39[<span style=\"color: #00af00; text-decoration-color: #00af00\">0</span>][<span style=\"color: #00af00; text-decoration-color: #00af00\">0</span>],     │\n",
              "│                     │                   │            │ add_39[<span style=\"color: #00af00; text-decoration-color: #00af00\">0</span>][<span style=\"color: #00af00; text-decoration-color: #00af00\">0</span>]      │\n",
              "├─────────────────────┼───────────────────┼────────────┼───────────────────┤\n",
              "│ encoder_0_att_drop… │ (<span style=\"color: #00d7ff; text-decoration-color: #00d7ff\">None</span>, <span style=\"color: #00af00; text-decoration-color: #00af00\">256</span>, <span style=\"color: #00af00; text-decoration-color: #00af00\">128</span>)  │          <span style=\"color: #00af00; text-decoration-color: #00af00\">0</span> │ encoder_0_multih… │\n",
              "│ (<span style=\"color: #0087ff; text-decoration-color: #0087ff\">Dropout</span>)           │                   │            │                   │\n",
              "├─────────────────────┼───────────────────┼────────────┼───────────────────┤\n",
              "│ add_40 (<span style=\"color: #0087ff; text-decoration-color: #0087ff\">Add</span>)        │ (<span style=\"color: #00d7ff; text-decoration-color: #00d7ff\">None</span>, <span style=\"color: #00af00; text-decoration-color: #00af00\">256</span>, <span style=\"color: #00af00; text-decoration-color: #00af00\">128</span>)  │          <span style=\"color: #00af00; text-decoration-color: #00af00\">0</span> │ add_39[<span style=\"color: #00af00; text-decoration-color: #00af00\">0</span>][<span style=\"color: #00af00; text-decoration-color: #00af00\">0</span>],     │\n",
              "│                     │                   │            │ encoder_0_att_dr… │\n",
              "├─────────────────────┼───────────────────┼────────────┼───────────────────┤\n",
              "│ encoder_0_att_laye… │ (<span style=\"color: #00d7ff; text-decoration-color: #00d7ff\">None</span>, <span style=\"color: #00af00; text-decoration-color: #00af00\">256</span>, <span style=\"color: #00af00; text-decoration-color: #00af00\">128</span>)  │        <span style=\"color: #00af00; text-decoration-color: #00af00\">256</span> │ add_40[<span style=\"color: #00af00; text-decoration-color: #00af00\">0</span>][<span style=\"color: #00af00; text-decoration-color: #00af00\">0</span>]      │\n",
              "│ (<span style=\"color: #0087ff; text-decoration-color: #0087ff\">LayerNormalizatio…</span> │                   │            │                   │\n",
              "├─────────────────────┼───────────────────┼────────────┼───────────────────┤\n",
              "│ encoder_0_ffn       │ (<span style=\"color: #00d7ff; text-decoration-color: #00d7ff\">None</span>, <span style=\"color: #00af00; text-decoration-color: #00af00\">256</span>, <span style=\"color: #00af00; text-decoration-color: #00af00\">128</span>)  │     <span style=\"color: #00af00; text-decoration-color: #00af00\">33,024</span> │ encoder_0_att_la… │\n",
              "│ (<span style=\"color: #0087ff; text-decoration-color: #0087ff\">Sequential</span>)        │                   │            │                   │\n",
              "├─────────────────────┼───────────────────┼────────────┼───────────────────┤\n",
              "│ encoder_0_ffn_drop… │ (<span style=\"color: #00d7ff; text-decoration-color: #00d7ff\">None</span>, <span style=\"color: #00af00; text-decoration-color: #00af00\">256</span>, <span style=\"color: #00af00; text-decoration-color: #00af00\">128</span>)  │          <span style=\"color: #00af00; text-decoration-color: #00af00\">0</span> │ encoder_0_ffn[<span style=\"color: #00af00; text-decoration-color: #00af00\">0</span>]… │\n",
              "│ (<span style=\"color: #0087ff; text-decoration-color: #0087ff\">Dropout</span>)           │                   │            │                   │\n",
              "├─────────────────────┼───────────────────┼────────────┼───────────────────┤\n",
              "│ add_41 (<span style=\"color: #0087ff; text-decoration-color: #0087ff\">Add</span>)        │ (<span style=\"color: #00d7ff; text-decoration-color: #00d7ff\">None</span>, <span style=\"color: #00af00; text-decoration-color: #00af00\">256</span>, <span style=\"color: #00af00; text-decoration-color: #00af00\">128</span>)  │          <span style=\"color: #00af00; text-decoration-color: #00af00\">0</span> │ encoder_0_att_la… │\n",
              "│                     │                   │            │ encoder_0_ffn_dr… │\n",
              "├─────────────────────┼───────────────────┼────────────┼───────────────────┤\n",
              "│ encoder_0_ffn_laye… │ (<span style=\"color: #00d7ff; text-decoration-color: #00d7ff\">None</span>, <span style=\"color: #00af00; text-decoration-color: #00af00\">256</span>, <span style=\"color: #00af00; text-decoration-color: #00af00\">128</span>)  │        <span style=\"color: #00af00; text-decoration-color: #00af00\">256</span> │ add_41[<span style=\"color: #00af00; text-decoration-color: #00af00\">0</span>][<span style=\"color: #00af00; text-decoration-color: #00af00\">0</span>]      │\n",
              "│ (<span style=\"color: #0087ff; text-decoration-color: #0087ff\">LayerNormalizatio…</span> │                   │            │                   │\n",
              "├─────────────────────┼───────────────────┼────────────┼───────────────────┤\n",
              "│ mlm_cls (<span style=\"color: #0087ff; text-decoration-color: #0087ff\">Dense</span>)     │ (<span style=\"color: #00d7ff; text-decoration-color: #00d7ff\">None</span>, <span style=\"color: #00af00; text-decoration-color: #00af00\">256</span>,       │  <span style=\"color: #00af00; text-decoration-color: #00af00\">3,870,000</span> │ encoder_0_ffn_la… │\n",
              "│                     │ <span style=\"color: #00af00; text-decoration-color: #00af00\">30000</span>)            │            │                   │\n",
              "└─────────────────────┴───────────────────┴────────────┴───────────────────┘\n",
              "</pre>\n"
            ],
            "text/plain": [
              "┏━━━━━━━━━━━━━━━━━━━━━┳━━━━━━━━━━━━━━━━━━━┳━━━━━━━━━━━━┳━━━━━━━━━━━━━━━━━━━┓\n",
              "┃\u001b[1m \u001b[0m\u001b[1mLayer (type)       \u001b[0m\u001b[1m \u001b[0m┃\u001b[1m \u001b[0m\u001b[1mOutput Shape     \u001b[0m\u001b[1m \u001b[0m┃\u001b[1m \u001b[0m\u001b[1m   Param #\u001b[0m\u001b[1m \u001b[0m┃\u001b[1m \u001b[0m\u001b[1mConnected to     \u001b[0m\u001b[1m \u001b[0m┃\n",
              "┡━━━━━━━━━━━━━━━━━━━━━╇━━━━━━━━━━━━━━━━━━━╇━━━━━━━━━━━━╇━━━━━━━━━━━━━━━━━━━┩\n",
              "│ input_layer_19      │ (\u001b[38;5;45mNone\u001b[0m, \u001b[38;5;34m256\u001b[0m)       │          \u001b[38;5;34m0\u001b[0m │ -                 │\n",
              "│ (\u001b[38;5;33mInputLayer\u001b[0m)        │                   │            │                   │\n",
              "├─────────────────────┼───────────────────┼────────────┼───────────────────┤\n",
              "│ word_embedding      │ (\u001b[38;5;45mNone\u001b[0m, \u001b[38;5;34m256\u001b[0m, \u001b[38;5;34m128\u001b[0m)  │  \u001b[38;5;34m3,840,000\u001b[0m │ input_layer_19[\u001b[38;5;34m0\u001b[0m… │\n",
              "│ (\u001b[38;5;33mEmbedding\u001b[0m)         │                   │            │                   │\n",
              "├─────────────────────┼───────────────────┼────────────┼───────────────────┤\n",
              "│ position_embedding… │ (\u001b[38;5;45mNone\u001b[0m, \u001b[38;5;34m256\u001b[0m, \u001b[38;5;34m128\u001b[0m)  │     \u001b[38;5;34m32,768\u001b[0m │ word_embedding[\u001b[38;5;34m0\u001b[0m… │\n",
              "│ (\u001b[38;5;33mPositionEmbedding\u001b[0m) │                   │            │                   │\n",
              "├─────────────────────┼───────────────────┼────────────┼───────────────────┤\n",
              "│ add_39 (\u001b[38;5;33mAdd\u001b[0m)        │ (\u001b[38;5;45mNone\u001b[0m, \u001b[38;5;34m256\u001b[0m, \u001b[38;5;34m128\u001b[0m)  │          \u001b[38;5;34m0\u001b[0m │ word_embedding[\u001b[38;5;34m0\u001b[0m… │\n",
              "│                     │                   │            │ position_embeddi… │\n",
              "├─────────────────────┼───────────────────┼────────────┼───────────────────┤\n",
              "│ encoder_0_multihea… │ (\u001b[38;5;45mNone\u001b[0m, \u001b[38;5;34m256\u001b[0m, \u001b[38;5;34m128\u001b[0m)  │     \u001b[38;5;34m66,048\u001b[0m │ add_39[\u001b[38;5;34m0\u001b[0m][\u001b[38;5;34m0\u001b[0m],     │\n",
              "│ (\u001b[38;5;33mMultiHeadAttentio…\u001b[0m │                   │            │ add_39[\u001b[38;5;34m0\u001b[0m][\u001b[38;5;34m0\u001b[0m],     │\n",
              "│                     │                   │            │ add_39[\u001b[38;5;34m0\u001b[0m][\u001b[38;5;34m0\u001b[0m]      │\n",
              "├─────────────────────┼───────────────────┼────────────┼───────────────────┤\n",
              "│ encoder_0_att_drop… │ (\u001b[38;5;45mNone\u001b[0m, \u001b[38;5;34m256\u001b[0m, \u001b[38;5;34m128\u001b[0m)  │          \u001b[38;5;34m0\u001b[0m │ encoder_0_multih… │\n",
              "│ (\u001b[38;5;33mDropout\u001b[0m)           │                   │            │                   │\n",
              "├─────────────────────┼───────────────────┼────────────┼───────────────────┤\n",
              "│ add_40 (\u001b[38;5;33mAdd\u001b[0m)        │ (\u001b[38;5;45mNone\u001b[0m, \u001b[38;5;34m256\u001b[0m, \u001b[38;5;34m128\u001b[0m)  │          \u001b[38;5;34m0\u001b[0m │ add_39[\u001b[38;5;34m0\u001b[0m][\u001b[38;5;34m0\u001b[0m],     │\n",
              "│                     │                   │            │ encoder_0_att_dr… │\n",
              "├─────────────────────┼───────────────────┼────────────┼───────────────────┤\n",
              "│ encoder_0_att_laye… │ (\u001b[38;5;45mNone\u001b[0m, \u001b[38;5;34m256\u001b[0m, \u001b[38;5;34m128\u001b[0m)  │        \u001b[38;5;34m256\u001b[0m │ add_40[\u001b[38;5;34m0\u001b[0m][\u001b[38;5;34m0\u001b[0m]      │\n",
              "│ (\u001b[38;5;33mLayerNormalizatio…\u001b[0m │                   │            │                   │\n",
              "├─────────────────────┼───────────────────┼────────────┼───────────────────┤\n",
              "│ encoder_0_ffn       │ (\u001b[38;5;45mNone\u001b[0m, \u001b[38;5;34m256\u001b[0m, \u001b[38;5;34m128\u001b[0m)  │     \u001b[38;5;34m33,024\u001b[0m │ encoder_0_att_la… │\n",
              "│ (\u001b[38;5;33mSequential\u001b[0m)        │                   │            │                   │\n",
              "├─────────────────────┼───────────────────┼────────────┼───────────────────┤\n",
              "│ encoder_0_ffn_drop… │ (\u001b[38;5;45mNone\u001b[0m, \u001b[38;5;34m256\u001b[0m, \u001b[38;5;34m128\u001b[0m)  │          \u001b[38;5;34m0\u001b[0m │ encoder_0_ffn[\u001b[38;5;34m0\u001b[0m]… │\n",
              "│ (\u001b[38;5;33mDropout\u001b[0m)           │                   │            │                   │\n",
              "├─────────────────────┼───────────────────┼────────────┼───────────────────┤\n",
              "│ add_41 (\u001b[38;5;33mAdd\u001b[0m)        │ (\u001b[38;5;45mNone\u001b[0m, \u001b[38;5;34m256\u001b[0m, \u001b[38;5;34m128\u001b[0m)  │          \u001b[38;5;34m0\u001b[0m │ encoder_0_att_la… │\n",
              "│                     │                   │            │ encoder_0_ffn_dr… │\n",
              "├─────────────────────┼───────────────────┼────────────┼───────────────────┤\n",
              "│ encoder_0_ffn_laye… │ (\u001b[38;5;45mNone\u001b[0m, \u001b[38;5;34m256\u001b[0m, \u001b[38;5;34m128\u001b[0m)  │        \u001b[38;5;34m256\u001b[0m │ add_41[\u001b[38;5;34m0\u001b[0m][\u001b[38;5;34m0\u001b[0m]      │\n",
              "│ (\u001b[38;5;33mLayerNormalizatio…\u001b[0m │                   │            │                   │\n",
              "├─────────────────────┼───────────────────┼────────────┼───────────────────┤\n",
              "│ mlm_cls (\u001b[38;5;33mDense\u001b[0m)     │ (\u001b[38;5;45mNone\u001b[0m, \u001b[38;5;34m256\u001b[0m,       │  \u001b[38;5;34m3,870,000\u001b[0m │ encoder_0_ffn_la… │\n",
              "│                     │ \u001b[38;5;34m30000\u001b[0m)            │            │                   │\n",
              "└─────────────────────┴───────────────────┴────────────┴───────────────────┘\n"
            ]
          },
          "metadata": {},
          "output_type": "display_data"
        },
        {
          "data": {
            "text/html": [
              "<pre style=\"white-space:pre;overflow-x:auto;line-height:normal;font-family:Menlo,'DejaVu Sans Mono',consolas,'Courier New',monospace\"><span style=\"font-weight: bold\"> Total params: </span><span style=\"color: #00af00; text-decoration-color: #00af00\">7,842,352</span> (29.92 MB)\n",
              "</pre>\n"
            ],
            "text/plain": [
              "\u001b[1m Total params: \u001b[0m\u001b[38;5;34m7,842,352\u001b[0m (29.92 MB)\n"
            ]
          },
          "metadata": {},
          "output_type": "display_data"
        },
        {
          "data": {
            "text/html": [
              "<pre style=\"white-space:pre;overflow-x:auto;line-height:normal;font-family:Menlo,'DejaVu Sans Mono',consolas,'Courier New',monospace\"><span style=\"font-weight: bold\"> Trainable params: </span><span style=\"color: #00af00; text-decoration-color: #00af00\">7,842,352</span> (29.92 MB)\n",
              "</pre>\n"
            ],
            "text/plain": [
              "\u001b[1m Trainable params: \u001b[0m\u001b[38;5;34m7,842,352\u001b[0m (29.92 MB)\n"
            ]
          },
          "metadata": {},
          "output_type": "display_data"
        },
        {
          "data": {
            "text/html": [
              "<pre style=\"white-space:pre;overflow-x:auto;line-height:normal;font-family:Menlo,'DejaVu Sans Mono',consolas,'Courier New',monospace\"><span style=\"font-weight: bold\"> Non-trainable params: </span><span style=\"color: #00af00; text-decoration-color: #00af00\">0</span> (0.00 B)\n",
              "</pre>\n"
            ],
            "text/plain": [
              "\u001b[1m Non-trainable params: \u001b[0m\u001b[38;5;34m0\u001b[0m (0.00 B)\n"
            ]
          },
          "metadata": {},
          "output_type": "display_data"
        }
      ],
      "source": [
        "#Instancia o modelo\n",
        "bert_masked_model = create_masked_language_bert_model()\n",
        "bert_masked_model.summary()"
      ]
    },
    {
      "cell_type": "code",
      "execution_count": null,
      "metadata": {
        "colab": {
          "base_uri": "https://localhost:8080/",
          "height": 17
        },
        "id": "AU94FIq-anPD",
        "outputId": "5f421569-693f-4b4e-c65c-9f40e127ba59"
      },
      "outputs": [
        {
          "data": {
            "application/javascript": "\n    async function download(id, filename, size) {\n      if (!google.colab.kernel.accessAllowed) {\n        return;\n      }\n      const div = document.createElement('div');\n      const label = document.createElement('label');\n      label.textContent = `Downloading \"${filename}\": `;\n      div.appendChild(label);\n      const progress = document.createElement('progress');\n      progress.max = size;\n      div.appendChild(progress);\n      document.body.appendChild(div);\n\n      const buffers = [];\n      let downloaded = 0;\n\n      const channel = await google.colab.kernel.comms.open(id);\n      // Send a message to notify the kernel that we're ready.\n      channel.send({})\n\n      for await (const message of channel.messages) {\n        // Send a message to notify the kernel that we're ready.\n        channel.send({})\n        if (message.buffers) {\n          for (const buffer of message.buffers) {\n            buffers.push(buffer);\n            downloaded += buffer.byteLength;\n            progress.value = downloaded;\n          }\n        }\n      }\n      const blob = new Blob(buffers, {type: 'application/binary'});\n      const a = document.createElement('a');\n      a.href = window.URL.createObjectURL(blob);\n      a.download = filename;\n      div.appendChild(a);\n      a.click();\n      div.remove();\n    }\n  ",
            "text/plain": [
              "<IPython.core.display.Javascript object>"
            ]
          },
          "metadata": {},
          "output_type": "display_data"
        },
        {
          "data": {
            "application/javascript": "download(\"download_2bdd393b-4d53-411d-91c8-45d5608a8281\", \"bert_mlm_friends.keras\", 31435422)",
            "text/plain": [
              "<IPython.core.display.Javascript object>"
            ]
          },
          "metadata": {},
          "output_type": "display_data"
        }
      ],
      "source": [
        "#Salvar o modelo\n",
        "bert_masked_model.save(\"bert_mlm_friends.keras\")\n",
        "from google.colab import files\n",
        "files.download(\"bert_mlm_friends.keras\")"
      ]
    },
    {
      "cell_type": "markdown",
      "metadata": {
        "id": "VjqvmzUBbi4V"
      },
      "source": [
        "### 6 Realizar Treinamento do Modelo"
      ]
    },
    {
      "cell_type": "code",
      "execution_count": null,
      "metadata": {
        "colab": {
          "base_uri": "https://localhost:8080/"
        },
        "id": "F53wCmWba5iP",
        "outputId": "584f10c6-9248-485f-cc46-10c5401d5e23"
      },
      "outputs": [
        {
          "name": "stdout",
          "output_type": "stream",
          "text": [
            "Epoch 1/5\n",
            "\u001b[1m1/1\u001b[0m \u001b[32m━━━━━━━━━━━━━━━━━━━━\u001b[0m\u001b[37m\u001b[0m \u001b[1m1s\u001b[0m 962ms/step\n",
            "{'input_text': 'going ii iim communicating',\n",
            " 'predicted mask token': np.str_('i'),\n",
            " 'prediction': 'going ii iim i',\n",
            " 'probability': np.float32(0.040982)}\n",
            "{'input_text': 'going ii iim communicating',\n",
            " 'predicted mask token': np.str_('you'),\n",
            " 'prediction': 'going ii iim you',\n",
            " 'probability': np.float32(0.024867315)}\n",
            "{'input_text': 'going ii iim communicating',\n",
            " 'predicted mask token': np.str_('to'),\n",
            " 'prediction': 'going ii iim to',\n",
            " 'probability': np.float32(0.023333289)}\n",
            "{'input_text': 'going ii iim communicating',\n",
            " 'predicted mask token': np.str_('the'),\n",
            " 'prediction': 'going ii iim the',\n",
            " 'probability': np.float32(0.023098402)}\n",
            "{'input_text': 'going ii iim communicating',\n",
            " 'predicted mask token': np.str_('[rachel]'),\n",
            " 'prediction': 'going ii iim [rachel]',\n",
            " 'probability': np.float32(0.0139482645)}\n",
            "\n",
            "Epoch 1: loss improved from inf to 6.40247, saving model to checkpoints_friends/bert_mlm_best.keras\n",
            "\u001b[1m1495/1495\u001b[0m \u001b[32m━━━━━━━━━━━━━━━━━━━━\u001b[0m\u001b[37m\u001b[0m \u001b[1m37s\u001b[0m 17ms/step - loss: 6.7936\n",
            "Epoch 2/5\n",
            "\u001b[1m1/1\u001b[0m \u001b[32m━━━━━━━━━━━━━━━━━━━━\u001b[0m\u001b[37m\u001b[0m \u001b[1m0s\u001b[0m 46ms/step\n",
            "{'input_text': 'going ii iim communicating',\n",
            " 'predicted mask token': np.str_('to'),\n",
            " 'prediction': 'going ii iim to',\n",
            " 'probability': np.float32(0.041291494)}\n",
            "{'input_text': 'going ii iim communicating',\n",
            " 'predicted mask token': np.str_('was'),\n",
            " 'prediction': 'going ii iim was',\n",
            " 'probability': np.float32(0.02522082)}\n",
            "{'input_text': 'going ii iim communicating',\n",
            " 'predicted mask token': np.str_('you'),\n",
            " 'prediction': 'going ii iim you',\n",
            " 'probability': np.float32(0.021877205)}\n",
            "{'input_text': 'going ii iim communicating',\n",
            " 'predicted mask token': np.str_('in'),\n",
            " 'prediction': 'going ii iim in',\n",
            " 'probability': np.float32(0.01875844)}\n",
            "{'input_text': 'going ii iim communicating',\n",
            " 'predicted mask token': np.str_('of'),\n",
            " 'prediction': 'going ii iim of',\n",
            " 'probability': np.float32(0.018049035)}\n",
            "\n",
            "Epoch 2: loss improved from 6.40247 to 5.60381, saving model to checkpoints_friends/bert_mlm_best.keras\n",
            "\u001b[1m1495/1495\u001b[0m \u001b[32m━━━━━━━━━━━━━━━━━━━━\u001b[0m\u001b[37m\u001b[0m \u001b[1m20s\u001b[0m 13ms/step - loss: 5.6835\n",
            "Epoch 3/5\n",
            "\u001b[1m1/1\u001b[0m \u001b[32m━━━━━━━━━━━━━━━━━━━━\u001b[0m\u001b[37m\u001b[0m \u001b[1m0s\u001b[0m 41ms/step\n",
            "{'input_text': 'going ii iim communicating',\n",
            " 'predicted mask token': np.str_('[ross]'),\n",
            " 'prediction': 'going ii iim [ross]',\n",
            " 'probability': np.float32(0.26840535)}\n",
            "{'input_text': 'going ii iim communicating',\n",
            " 'predicted mask token': np.str_('[rachel]'),\n",
            " 'prediction': 'going ii iim [rachel]',\n",
            " 'probability': np.float32(0.05109162)}\n",
            "{'input_text': 'going ii iim communicating',\n",
            " 'predicted mask token': np.str_('yknow'),\n",
            " 'prediction': 'going ii iim yknow',\n",
            " 'probability': np.float32(0.022359785)}\n",
            "{'input_text': 'going ii iim communicating',\n",
            " 'predicted mask token': np.str_('to'),\n",
            " 'prediction': 'going ii iim to',\n",
            " 'probability': np.float32(0.021113466)}\n",
            "{'input_text': 'going ii iim communicating',\n",
            " 'predicted mask token': np.str_('you'),\n",
            " 'prediction': 'going ii iim you',\n",
            " 'probability': np.float32(0.017963693)}\n",
            "\n",
            "Epoch 3: loss improved from 5.60381 to 4.94631, saving model to checkpoints_friends/bert_mlm_best.keras\n",
            "\u001b[1m1495/1495\u001b[0m \u001b[32m━━━━━━━━━━━━━━━━━━━━\u001b[0m\u001b[37m\u001b[0m \u001b[1m19s\u001b[0m 13ms/step - loss: 5.0698\n",
            "Epoch 4/5\n",
            "\u001b[1m1/1\u001b[0m \u001b[32m━━━━━━━━━━━━━━━━━━━━\u001b[0m\u001b[37m\u001b[0m \u001b[1m0s\u001b[0m 42ms/step\n",
            "{'input_text': 'going ii iim communicating',\n",
            " 'predicted mask token': np.str_('[ross]'),\n",
            " 'prediction': 'going ii iim [ross]',\n",
            " 'probability': np.float32(0.18136786)}\n",
            "{'input_text': 'going ii iim communicating',\n",
            " 'predicted mask token': np.str_('is'),\n",
            " 'prediction': 'going ii iim is',\n",
            " 'probability': np.float32(0.06357376)}\n",
            "{'input_text': 'going ii iim communicating',\n",
            " 'predicted mask token': np.str_('[rachel]'),\n",
            " 'prediction': 'going ii iim [rachel]',\n",
            " 'probability': np.float32(0.04364338)}\n",
            "{'input_text': 'going ii iim communicating',\n",
            " 'predicted mask token': np.str_('yknow'),\n",
            " 'prediction': 'going ii iim yknow',\n",
            " 'probability': np.float32(0.034852993)}\n",
            "{'input_text': 'going ii iim communicating',\n",
            " 'predicted mask token': np.str_('this'),\n",
            " 'prediction': 'going ii iim this',\n",
            " 'probability': np.float32(0.030964695)}\n",
            "\n",
            "Epoch 4: loss improved from 4.94631 to 4.27023, saving model to checkpoints_friends/bert_mlm_best.keras\n",
            "\u001b[1m1495/1495\u001b[0m \u001b[32m━━━━━━━━━━━━━━━━━━━━\u001b[0m\u001b[37m\u001b[0m \u001b[1m19s\u001b[0m 13ms/step - loss: 4.4003\n",
            "Epoch 5/5\n",
            "\u001b[1m1/1\u001b[0m \u001b[32m━━━━━━━━━━━━━━━━━━━━\u001b[0m\u001b[37m\u001b[0m \u001b[1m0s\u001b[0m 45ms/step\n",
            "{'input_text': 'going ii iim communicating',\n",
            " 'predicted mask token': np.str_('this'),\n",
            " 'prediction': 'going ii iim this',\n",
            " 'probability': np.float32(0.6741257)}\n",
            "{'input_text': 'going ii iim communicating',\n",
            " 'predicted mask token': np.str_('you'),\n",
            " 'prediction': 'going ii iim you',\n",
            " 'probability': np.float32(0.03570128)}\n",
            "{'input_text': 'going ii iim communicating',\n",
            " 'predicted mask token': np.str_('[ross]'),\n",
            " 'prediction': 'going ii iim [ross]',\n",
            " 'probability': np.float32(0.029033143)}\n",
            "{'input_text': 'going ii iim communicating',\n",
            " 'predicted mask token': np.str_('is'),\n",
            " 'prediction': 'going ii iim is',\n",
            " 'probability': np.float32(0.018998526)}\n",
            "{'input_text': 'going ii iim communicating',\n",
            " 'predicted mask token': np.str_('her'),\n",
            " 'prediction': 'going ii iim her',\n",
            " 'probability': np.float32(0.009932478)}\n",
            "\n",
            "Epoch 5: loss improved from 4.27023 to 3.62856, saving model to checkpoints_friends/bert_mlm_best.keras\n",
            "\u001b[1m1495/1495\u001b[0m \u001b[32m━━━━━━━━━━━━━━━━━━━━\u001b[0m\u001b[37m\u001b[0m \u001b[1m19s\u001b[0m 13ms/step - loss: 3.7579\n"
          ]
        },
        {
          "data": {
            "text/plain": [
              "<keras.src.callbacks.history.History at 0x79917873e410>"
            ]
          },
          "execution_count": 73,
          "metadata": {},
          "output_type": "execute_result"
        }
      ],
      "source": [
        "import os\n",
        "\n",
        "checkpoint_dir = \"checkpoints_friends\"\n",
        "os.makedirs(checkpoint_dir, exist_ok=True)\n",
        "\n",
        "checkpoint_cb = keras.callbacks.ModelCheckpoint(\n",
        "    filepath=os.path.join(checkpoint_dir, \"bert_mlm_best.keras\"),\n",
        "    monitor=\"loss\",\n",
        "    save_best_only=True,\n",
        "    save_weights_only=False,\n",
        "    verbose=1\n",
        ")\n",
        "\n",
        "bert_masked_model.fit(\n",
        "    mlm_ds,\n",
        "    epochs=5,\n",
        "    callbacks=[generator_callback, checkpoint_cb]\n",
        ")"
      ]
    },
    {
      "cell_type": "code",
      "execution_count": null,
      "metadata": {
        "colab": {
          "base_uri": "https://localhost:8080/"
        },
        "id": "I5H4ZfB2cCCQ",
        "outputId": "94560f4c-cd89-4d62-e715-4b3fd1ffc080"
      },
      "outputs": [
        {
          "name": "stdout",
          "output_type": "stream",
          "text": [
            "Epoch 6/7\n",
            "\u001b[1m1/1\u001b[0m \u001b[32m━━━━━━━━━━━━━━━━━━━━\u001b[0m\u001b[37m\u001b[0m \u001b[1m0s\u001b[0m 48ms/step\n",
            "{'input_text': 'going ii iim communicating',\n",
            " 'predicted mask token': np.str_('this'),\n",
            " 'prediction': 'going ii iim this',\n",
            " 'probability': np.float32(0.6719368)}\n",
            "{'input_text': 'going ii iim communicating',\n",
            " 'predicted mask token': np.str_('is'),\n",
            " 'prediction': 'going ii iim is',\n",
            " 'probability': np.float32(0.042136025)}\n",
            "{'input_text': 'going ii iim communicating',\n",
            " 'predicted mask token': np.str_('you'),\n",
            " 'prediction': 'going ii iim you',\n",
            " 'probability': np.float32(0.037505284)}\n",
            "{'input_text': 'going ii iim communicating',\n",
            " 'predicted mask token': np.str_('mom'),\n",
            " 'prediction': 'going ii iim mom',\n",
            " 'probability': np.float32(0.023680525)}\n",
            "{'input_text': 'going ii iim communicating',\n",
            " 'predicted mask token': np.str_('harder'),\n",
            " 'prediction': 'going ii iim harder',\n",
            " 'probability': np.float32(0.02169537)}\n",
            "\n",
            "Epoch 6: loss improved from 3.62856 to 3.06527, saving model to checkpoints_friends/bert_mlm_best.keras\n",
            "\u001b[1m1495/1495\u001b[0m \u001b[32m━━━━━━━━━━━━━━━━━━━━\u001b[0m\u001b[37m\u001b[0m \u001b[1m19s\u001b[0m 13ms/step - loss: 3.1877\n",
            "Epoch 7/7\n",
            "\u001b[1m1/1\u001b[0m \u001b[32m━━━━━━━━━━━━━━━━━━━━\u001b[0m\u001b[37m\u001b[0m \u001b[1m0s\u001b[0m 45ms/step\n",
            "{'input_text': 'going ii iim communicating',\n",
            " 'predicted mask token': np.str_('this'),\n",
            " 'prediction': 'going ii iim this',\n",
            " 'probability': np.float32(0.7977274)}\n",
            "{'input_text': 'going ii iim communicating',\n",
            " 'predicted mask token': np.str_('you'),\n",
            " 'prediction': 'going ii iim you',\n",
            " 'probability': np.float32(0.12842551)}\n",
            "{'input_text': 'going ii iim communicating',\n",
            " 'predicted mask token': np.str_('mom'),\n",
            " 'prediction': 'going ii iim mom',\n",
            " 'probability': np.float32(0.012770999)}\n",
            "{'input_text': 'going ii iim communicating',\n",
            " 'predicted mask token': np.str_('is'),\n",
            " 'prediction': 'going ii iim is',\n",
            " 'probability': np.float32(0.009073145)}\n",
            "{'input_text': 'going ii iim communicating',\n",
            " 'predicted mask token': np.str_('tribbiani'),\n",
            " 'prediction': 'going ii iim tribbiani',\n",
            " 'probability': np.float32(0.008830521)}\n",
            "\n",
            "Epoch 7: loss improved from 3.06527 to 2.56675, saving model to checkpoints_friends/bert_mlm_best.keras\n",
            "\u001b[1m1495/1495\u001b[0m \u001b[32m━━━━━━━━━━━━━━━━━━━━\u001b[0m\u001b[37m\u001b[0m \u001b[1m19s\u001b[0m 13ms/step - loss: 2.6731\n"
          ]
        },
        {
          "data": {
            "text/plain": [
              "<keras.src.callbacks.history.History at 0x799109d12010>"
            ]
          },
          "execution_count": 74,
          "metadata": {},
          "output_type": "execute_result"
        }
      ],
      "source": [
        "#rodar mais 2\n",
        "bert_masked_model.fit(\n",
        "    mlm_ds,\n",
        "    epochs=7,  # continua até a época 7\n",
        "    initial_epoch=5,  # começa da época 5\n",
        "    callbacks=[generator_callback, checkpoint_cb]\n",
        ")"
      ]
    },
    {
      "cell_type": "code",
      "execution_count": null,
      "metadata": {
        "colab": {
          "base_uri": "https://localhost:8080/"
        },
        "id": "UmgYZKBseXAf",
        "outputId": "4617abe8-a75a-4bf6-e9a9-10954aa0733b"
      },
      "outputs": [
        {
          "name": "stdout",
          "output_type": "stream",
          "text": [
            "Epoch 8/10\n",
            "\u001b[1m1/1\u001b[0m \u001b[32m━━━━━━━━━━━━━━━━━━━━\u001b[0m\u001b[37m\u001b[0m \u001b[1m0s\u001b[0m 46ms/step\n",
            "{'input_text': 'going ii iim communicating',\n",
            " 'predicted mask token': np.str_('this'),\n",
            " 'prediction': 'going ii iim this',\n",
            " 'probability': np.float32(0.40503013)}\n",
            "{'input_text': 'going ii iim communicating',\n",
            " 'predicted mask token': np.str_('seen'),\n",
            " 'prediction': 'going ii iim seen',\n",
            " 'probability': np.float32(0.17932491)}\n",
            "{'input_text': 'going ii iim communicating',\n",
            " 'predicted mask token': np.str_('harder'),\n",
            " 'prediction': 'going ii iim harder',\n",
            " 'probability': np.float32(0.087055266)}\n",
            "{'input_text': 'going ii iim communicating',\n",
            " 'predicted mask token': np.str_('you'),\n",
            " 'prediction': 'going ii iim you',\n",
            " 'probability': np.float32(0.05066796)}\n",
            "{'input_text': 'going ii iim communicating',\n",
            " 'predicted mask token': np.str_('7'),\n",
            " 'prediction': 'going ii iim 7',\n",
            " 'probability': np.float32(0.030557258)}\n",
            "\n",
            "Epoch 8: loss improved from 2.56675 to 2.16814, saving model to checkpoints_friends/bert_mlm_best.keras\n",
            "\u001b[1m1495/1495\u001b[0m \u001b[32m━━━━━━━━━━━━━━━━━━━━\u001b[0m\u001b[37m\u001b[0m \u001b[1m20s\u001b[0m 13ms/step - loss: 2.2498\n",
            "Epoch 9/10\n",
            "\u001b[1m1/1\u001b[0m \u001b[32m━━━━━━━━━━━━━━━━━━━━\u001b[0m\u001b[37m\u001b[0m \u001b[1m0s\u001b[0m 43ms/step\n",
            "{'input_text': 'going ii iim communicating',\n",
            " 'predicted mask token': np.str_('this'),\n",
            " 'prediction': 'going ii iim this',\n",
            " 'probability': np.float32(0.6193705)}\n",
            "{'input_text': 'going ii iim communicating',\n",
            " 'predicted mask token': np.str_('you'),\n",
            " 'prediction': 'going ii iim you',\n",
            " 'probability': np.float32(0.3089942)}\n",
            "{'input_text': 'going ii iim communicating',\n",
            " 'predicted mask token': np.str_('im'),\n",
            " 'prediction': 'going ii iim im',\n",
            " 'probability': np.float32(0.014740978)}\n",
            "{'input_text': 'going ii iim communicating',\n",
            " 'predicted mask token': np.str_('is'),\n",
            " 'prediction': 'going ii iim is',\n",
            " 'probability': np.float32(0.008119493)}\n",
            "{'input_text': 'going ii iim communicating',\n",
            " 'predicted mask token': np.str_('her'),\n",
            " 'prediction': 'going ii iim her',\n",
            " 'probability': np.float32(0.004767828)}\n",
            "\n",
            "Epoch 9: loss improved from 2.16814 to 1.87671, saving model to checkpoints_friends/bert_mlm_best.keras\n",
            "\u001b[1m1495/1495\u001b[0m \u001b[32m━━━━━━━━━━━━━━━━━━━━\u001b[0m\u001b[37m\u001b[0m \u001b[1m19s\u001b[0m 13ms/step - loss: 1.9397\n",
            "Epoch 10/10\n",
            "\u001b[1m1/1\u001b[0m \u001b[32m━━━━━━━━━━━━━━━━━━━━\u001b[0m\u001b[37m\u001b[0m \u001b[1m0s\u001b[0m 46ms/step\n",
            "{'input_text': 'going ii iim communicating',\n",
            " 'predicted mask token': np.str_('this'),\n",
            " 'prediction': 'going ii iim this',\n",
            " 'probability': np.float32(0.844412)}\n",
            "{'input_text': 'going ii iim communicating',\n",
            " 'predicted mask token': np.str_('you'),\n",
            " 'prediction': 'going ii iim you',\n",
            " 'probability': np.float32(0.059979826)}\n",
            "{'input_text': 'going ii iim communicating',\n",
            " 'predicted mask token': np.str_('im'),\n",
            " 'prediction': 'going ii iim im',\n",
            " 'probability': np.float32(0.021914184)}\n",
            "{'input_text': 'going ii iim communicating',\n",
            " 'predicted mask token': np.str_('looked'),\n",
            " 'prediction': 'going ii iim looked',\n",
            " 'probability': np.float32(0.017049963)}\n",
            "{'input_text': 'going ii iim communicating',\n",
            " 'predicted mask token': np.str_('harder'),\n",
            " 'prediction': 'going ii iim harder',\n",
            " 'probability': np.float32(0.00630016)}\n",
            "\n",
            "Epoch 10: loss improved from 1.87671 to 1.65084, saving model to checkpoints_friends/bert_mlm_best.keras\n",
            "\u001b[1m1495/1495\u001b[0m \u001b[32m━━━━━━━━━━━━━━━━━━━━\u001b[0m\u001b[37m\u001b[0m \u001b[1m19s\u001b[0m 13ms/step - loss: 1.6978\n"
          ]
        },
        {
          "data": {
            "text/plain": [
              "<keras.src.callbacks.history.History at 0x799109c7b410>"
            ]
          },
          "execution_count": 75,
          "metadata": {},
          "output_type": "execute_result"
        }
      ],
      "source": [
        "#rodar mais 2\n",
        "bert_masked_model.fit(\n",
        "    mlm_ds,\n",
        "    epochs=10,  # continua até a época 7\n",
        "    initial_epoch=7,  # começa da época 5\n",
        "    callbacks=[generator_callback, checkpoint_cb]\n",
        ")"
      ]
    },
    {
      "cell_type": "code",
      "execution_count": null,
      "metadata": {
        "colab": {
          "base_uri": "https://localhost:8080/"
        },
        "id": "mNjzBuyMexf2",
        "outputId": "02121b1d-dd3b-4048-cda1-4d9a6bf183e2"
      },
      "outputs": [
        {
          "name": "stdout",
          "output_type": "stream",
          "text": [
            "Epoch 11/12\n",
            "\u001b[1m1/1\u001b[0m \u001b[32m━━━━━━━━━━━━━━━━━━━━\u001b[0m\u001b[37m\u001b[0m \u001b[1m0s\u001b[0m 49ms/step\n",
            "{'input_text': 'going ii iim communicating',\n",
            " 'predicted mask token': np.str_('this'),\n",
            " 'prediction': 'going ii iim this',\n",
            " 'probability': np.float32(0.64479685)}\n",
            "{'input_text': 'going ii iim communicating',\n",
            " 'predicted mask token': np.str_('seen'),\n",
            " 'prediction': 'going ii iim seen',\n",
            " 'probability': np.float32(0.11941394)}\n",
            "{'input_text': 'going ii iim communicating',\n",
            " 'predicted mask token': np.str_('im'),\n",
            " 'prediction': 'going ii iim im',\n",
            " 'probability': np.float32(0.04871526)}\n",
            "{'input_text': 'going ii iim communicating',\n",
            " 'predicted mask token': np.str_('you'),\n",
            " 'prediction': 'going ii iim you',\n",
            " 'probability': np.float32(0.04315217)}\n",
            "{'input_text': 'going ii iim communicating',\n",
            " 'predicted mask token': np.str_('ursula'),\n",
            " 'prediction': 'going ii iim ursula',\n",
            " 'probability': np.float32(0.023290662)}\n",
            "\n",
            "Epoch 11: loss improved from 1.65084 to 1.48229, saving model to checkpoints_friends/bert_mlm_best.keras\n",
            "\u001b[1m1495/1495\u001b[0m \u001b[32m━━━━━━━━━━━━━━━━━━━━\u001b[0m\u001b[37m\u001b[0m \u001b[1m20s\u001b[0m 13ms/step - loss: 1.5227\n",
            "Epoch 12/12\n",
            "\u001b[1m1/1\u001b[0m \u001b[32m━━━━━━━━━━━━━━━━━━━━\u001b[0m\u001b[37m\u001b[0m \u001b[1m0s\u001b[0m 45ms/step\n",
            "{'input_text': 'going ii iim communicating',\n",
            " 'predicted mask token': np.str_('this'),\n",
            " 'prediction': 'going ii iim this',\n",
            " 'probability': np.float32(0.8396721)}\n",
            "{'input_text': 'going ii iim communicating',\n",
            " 'predicted mask token': np.str_('you'),\n",
            " 'prediction': 'going ii iim you',\n",
            " 'probability': np.float32(0.12527715)}\n",
            "{'input_text': 'going ii iim communicating',\n",
            " 'predicted mask token': np.str_('im'),\n",
            " 'prediction': 'going ii iim im',\n",
            " 'probability': np.float32(0.008350993)}\n",
            "{'input_text': 'going ii iim communicating',\n",
            " 'predicted mask token': np.str_('seen'),\n",
            " 'prediction': 'going ii iim seen',\n",
            " 'probability': np.float32(0.0061217607)}\n",
            "{'input_text': 'going ii iim communicating',\n",
            " 'predicted mask token': np.str_('exactly'),\n",
            " 'prediction': 'going ii iim exactly',\n",
            " 'probability': np.float32(0.0039449595)}\n",
            "\n",
            "Epoch 12: loss improved from 1.48229 to 1.33854, saving model to checkpoints_friends/bert_mlm_best.keras\n",
            "\u001b[1m1495/1495\u001b[0m \u001b[32m━━━━━━━━━━━━━━━━━━━━\u001b[0m\u001b[37m\u001b[0m \u001b[1m20s\u001b[0m 13ms/step - loss: 1.3678\n"
          ]
        },
        {
          "data": {
            "text/plain": [
              "<keras.src.callbacks.history.History at 0x7991783f4410>"
            ]
          },
          "execution_count": 76,
          "metadata": {},
          "output_type": "execute_result"
        }
      ],
      "source": [
        "#rodar mais 2\n",
        "bert_masked_model.fit(\n",
        "    mlm_ds,\n",
        "    epochs=12,  # continua até a época 7\n",
        "    initial_epoch=10,  # começa da época 5\n",
        "    callbacks=[generator_callback, checkpoint_cb]\n",
        ")"
      ]
    },
    {
      "cell_type": "code",
      "execution_count": null,
      "metadata": {
        "colab": {
          "base_uri": "https://localhost:8080/"
        },
        "id": "AmfIWQO5fVpy",
        "outputId": "c5f62762-7377-42bc-cd28-8e3b69c0514d"
      },
      "outputs": [
        {
          "name": "stdout",
          "output_type": "stream",
          "text": [
            "Epoch 13/15\n",
            "\u001b[1m1/1\u001b[0m \u001b[32m━━━━━━━━━━━━━━━━━━━━\u001b[0m\u001b[37m\u001b[0m \u001b[1m0s\u001b[0m 44ms/step\n",
            "{'input_text': 'going ii iim communicating',\n",
            " 'predicted mask token': np.str_('this'),\n",
            " 'prediction': 'going ii iim this',\n",
            " 'probability': np.float32(0.7591521)}\n",
            "{'input_text': 'going ii iim communicating',\n",
            " 'predicted mask token': np.str_('seen'),\n",
            " 'prediction': 'going ii iim seen',\n",
            " 'probability': np.float32(0.11133392)}\n",
            "{'input_text': 'going ii iim communicating',\n",
            " 'predicted mask token': np.str_('you'),\n",
            " 'prediction': 'going ii iim you',\n",
            " 'probability': np.float32(0.060507078)}\n",
            "{'input_text': 'going ii iim communicating',\n",
            " 'predicted mask token': np.str_('im'),\n",
            " 'prediction': 'going ii iim im',\n",
            " 'probability': np.float32(0.018963253)}\n",
            "{'input_text': 'going ii iim communicating',\n",
            " 'predicted mask token': np.str_('exactly'),\n",
            " 'prediction': 'going ii iim exactly',\n",
            " 'probability': np.float32(0.00856397)}\n",
            "\n",
            "Epoch 13: loss improved from 1.33854 to 1.21694, saving model to checkpoints_friends/bert_mlm_best.keras\n",
            "\u001b[1m1495/1495\u001b[0m \u001b[32m━━━━━━━━━━━━━━━━━━━━\u001b[0m\u001b[37m\u001b[0m \u001b[1m19s\u001b[0m 13ms/step - loss: 1.2394\n",
            "Epoch 14/15\n",
            "\u001b[1m1/1\u001b[0m \u001b[32m━━━━━━━━━━━━━━━━━━━━\u001b[0m\u001b[37m\u001b[0m \u001b[1m0s\u001b[0m 47ms/step\n",
            "{'input_text': 'going ii iim communicating',\n",
            " 'predicted mask token': np.str_('this'),\n",
            " 'prediction': 'going ii iim this',\n",
            " 'probability': np.float32(0.894959)}\n",
            "{'input_text': 'going ii iim communicating',\n",
            " 'predicted mask token': np.str_('you'),\n",
            " 'prediction': 'going ii iim you',\n",
            " 'probability': np.float32(0.04451194)}\n",
            "{'input_text': 'going ii iim communicating',\n",
            " 'predicted mask token': np.str_('seen'),\n",
            " 'prediction': 'going ii iim seen',\n",
            " 'probability': np.float32(0.028446509)}\n",
            "{'input_text': 'going ii iim communicating',\n",
            " 'predicted mask token': np.str_('im'),\n",
            " 'prediction': 'going ii iim im',\n",
            " 'probability': np.float32(0.005462026)}\n",
            "{'input_text': 'going ii iim communicating',\n",
            " 'predicted mask token': np.str_('ago'),\n",
            " 'prediction': 'going ii iim ago',\n",
            " 'probability': np.float32(0.003855118)}\n",
            "\n",
            "Epoch 14: loss improved from 1.21694 to 1.11291, saving model to checkpoints_friends/bert_mlm_best.keras\n",
            "\u001b[1m1495/1495\u001b[0m \u001b[32m━━━━━━━━━━━━━━━━━━━━\u001b[0m\u001b[37m\u001b[0m \u001b[1m20s\u001b[0m 13ms/step - loss: 1.1269\n",
            "Epoch 15/15\n",
            "\u001b[1m1/1\u001b[0m \u001b[32m━━━━━━━━━━━━━━━━━━━━\u001b[0m\u001b[37m\u001b[0m \u001b[1m0s\u001b[0m 41ms/step\n",
            "{'input_text': 'going ii iim communicating',\n",
            " 'predicted mask token': np.str_('this'),\n",
            " 'prediction': 'going ii iim this',\n",
            " 'probability': np.float32(0.7695941)}\n",
            "{'input_text': 'going ii iim communicating',\n",
            " 'predicted mask token': np.str_('im'),\n",
            " 'prediction': 'going ii iim im',\n",
            " 'probability': np.float32(0.073584676)}\n",
            "{'input_text': 'going ii iim communicating',\n",
            " 'predicted mask token': np.str_('seen'),\n",
            " 'prediction': 'going ii iim seen',\n",
            " 'probability': np.float32(0.063273124)}\n",
            "{'input_text': 'going ii iim communicating',\n",
            " 'predicted mask token': np.str_('7'),\n",
            " 'prediction': 'going ii iim 7',\n",
            " 'probability': np.float32(0.0148141105)}\n",
            "{'input_text': 'going ii iim communicating',\n",
            " 'predicted mask token': np.str_('ago'),\n",
            " 'prediction': 'going ii iim ago',\n",
            " 'probability': np.float32(0.0146324895)}\n",
            "\n",
            "Epoch 15: loss improved from 1.11291 to 1.02732, saving model to checkpoints_friends/bert_mlm_best.keras\n",
            "\u001b[1m1495/1495\u001b[0m \u001b[32m━━━━━━━━━━━━━━━━━━━━\u001b[0m\u001b[37m\u001b[0m \u001b[1m19s\u001b[0m 13ms/step - loss: 1.0374\n"
          ]
        },
        {
          "data": {
            "text/plain": [
              "<keras.src.callbacks.history.History at 0x799148686390>"
            ]
          },
          "execution_count": 77,
          "metadata": {},
          "output_type": "execute_result"
        }
      ],
      "source": [
        "#rodar mais 2\n",
        "bert_masked_model.fit(\n",
        "    mlm_ds,\n",
        "    epochs=15,  # continua até a época 7\n",
        "    initial_epoch=12,  # começa da época 5\n",
        "    callbacks=[generator_callback, checkpoint_cb]\n",
        ")"
      ]
    },
    {
      "cell_type": "code",
      "execution_count": null,
      "metadata": {
        "colab": {
          "base_uri": "https://localhost:8080/"
        },
        "id": "-jy5Q2RxfmEa",
        "outputId": "fc532518-dc78-440a-d925-c446dd300f02"
      },
      "outputs": [
        {
          "name": "stdout",
          "output_type": "stream",
          "text": [
            "Epoch 16/17\n",
            "\u001b[1m1/1\u001b[0m \u001b[32m━━━━━━━━━━━━━━━━━━━━\u001b[0m\u001b[37m\u001b[0m \u001b[1m0s\u001b[0m 45ms/step\n",
            "{'input_text': 'going ii iim communicating',\n",
            " 'predicted mask token': np.str_('this'),\n",
            " 'prediction': 'going ii iim this',\n",
            " 'probability': np.float32(0.7054083)}\n",
            "{'input_text': 'going ii iim communicating',\n",
            " 'predicted mask token': np.str_('isnt'),\n",
            " 'prediction': 'going ii iim isnt',\n",
            " 'probability': np.float32(0.07002288)}\n",
            "{'input_text': 'going ii iim communicating',\n",
            " 'predicted mask token': np.str_('seen'),\n",
            " 'prediction': 'going ii iim seen',\n",
            " 'probability': np.float32(0.059161764)}\n",
            "{'input_text': 'going ii iim communicating',\n",
            " 'predicted mask token': np.str_('7'),\n",
            " 'prediction': 'going ii iim 7',\n",
            " 'probability': np.float32(0.030903662)}\n",
            "{'input_text': 'going ii iim communicating',\n",
            " 'predicted mask token': np.str_('ago'),\n",
            " 'prediction': 'going ii iim ago',\n",
            " 'probability': np.float32(0.017364075)}\n",
            "\n",
            "Epoch 16: loss improved from 1.02732 to 0.94614, saving model to checkpoints_friends/bert_mlm_best.keras\n",
            "\u001b[1m1495/1495\u001b[0m \u001b[32m━━━━━━━━━━━━━━━━━━━━\u001b[0m\u001b[37m\u001b[0m \u001b[1m19s\u001b[0m 13ms/step - loss: 0.9556\n",
            "Epoch 17/17\n",
            "\u001b[1m1/1\u001b[0m \u001b[32m━━━━━━━━━━━━━━━━━━━━\u001b[0m\u001b[37m\u001b[0m \u001b[1m0s\u001b[0m 46ms/step\n",
            "{'input_text': 'going ii iim communicating',\n",
            " 'predicted mask token': np.str_('this'),\n",
            " 'prediction': 'going ii iim this',\n",
            " 'probability': np.float32(0.5622679)}\n",
            "{'input_text': 'going ii iim communicating',\n",
            " 'predicted mask token': np.str_('nancy'),\n",
            " 'prediction': 'going ii iim nancy',\n",
            " 'probability': np.float32(0.0793631)}\n",
            "{'input_text': 'going ii iim communicating',\n",
            " 'predicted mask token': np.str_('7'),\n",
            " 'prediction': 'going ii iim 7',\n",
            " 'probability': np.float32(0.052701253)}\n",
            "{'input_text': 'going ii iim communicating',\n",
            " 'predicted mask token': np.str_('isnt'),\n",
            " 'prediction': 'going ii iim isnt',\n",
            " 'probability': np.float32(0.047148835)}\n",
            "{'input_text': 'going ii iim communicating',\n",
            " 'predicted mask token': np.str_('pretty'),\n",
            " 'prediction': 'going ii iim pretty',\n",
            " 'probability': np.float32(0.021057907)}\n",
            "\n",
            "Epoch 17: loss improved from 0.94614 to 0.88186, saving model to checkpoints_friends/bert_mlm_best.keras\n",
            "\u001b[1m1495/1495\u001b[0m \u001b[32m━━━━━━━━━━━━━━━━━━━━\u001b[0m\u001b[37m\u001b[0m \u001b[1m19s\u001b[0m 13ms/step - loss: 0.8946\n"
          ]
        },
        {
          "data": {
            "text/plain": [
              "<keras.src.callbacks.history.History at 0x799210743450>"
            ]
          },
          "execution_count": 78,
          "metadata": {},
          "output_type": "execute_result"
        }
      ],
      "source": [
        "#rodar mais 2\n",
        "bert_masked_model.fit(\n",
        "    mlm_ds,\n",
        "    epochs=17,  # continua até a época 7\n",
        "    initial_epoch=15,  # começa da época 5\n",
        "    callbacks=[generator_callback, checkpoint_cb]\n",
        ")"
      ]
    },
    {
      "cell_type": "code",
      "execution_count": null,
      "metadata": {
        "colab": {
          "base_uri": "https://localhost:8080/",
          "height": 17
        },
        "id": "9i75oNptggHg",
        "outputId": "ad229a6b-9b45-48ba-d43c-01c728e5ee7e"
      },
      "outputs": [
        {
          "data": {
            "application/javascript": "\n    async function download(id, filename, size) {\n      if (!google.colab.kernel.accessAllowed) {\n        return;\n      }\n      const div = document.createElement('div');\n      const label = document.createElement('label');\n      label.textContent = `Downloading \"${filename}\": `;\n      div.appendChild(label);\n      const progress = document.createElement('progress');\n      progress.max = size;\n      div.appendChild(progress);\n      document.body.appendChild(div);\n\n      const buffers = [];\n      let downloaded = 0;\n\n      const channel = await google.colab.kernel.comms.open(id);\n      // Send a message to notify the kernel that we're ready.\n      channel.send({})\n\n      for await (const message of channel.messages) {\n        // Send a message to notify the kernel that we're ready.\n        channel.send({})\n        if (message.buffers) {\n          for (const buffer of message.buffers) {\n            buffers.push(buffer);\n            downloaded += buffer.byteLength;\n            progress.value = downloaded;\n          }\n        }\n      }\n      const blob = new Blob(buffers, {type: 'application/binary'});\n      const a = document.createElement('a');\n      a.href = window.URL.createObjectURL(blob);\n      a.download = filename;\n      div.appendChild(a);\n      a.click();\n      div.remove();\n    }\n  ",
            "text/plain": [
              "<IPython.core.display.Javascript object>"
            ]
          },
          "metadata": {},
          "output_type": "display_data"
        },
        {
          "data": {
            "application/javascript": "download(\"download_d4a88bcb-9445-4e05-863d-e772b61ee684\", \"bert_mlm_friends_final.keras\", 94188974)",
            "text/plain": [
              "<IPython.core.display.Javascript object>"
            ]
          },
          "metadata": {},
          "output_type": "display_data"
        },
        {
          "data": {
            "application/javascript": "\n    async function download(id, filename, size) {\n      if (!google.colab.kernel.accessAllowed) {\n        return;\n      }\n      const div = document.createElement('div');\n      const label = document.createElement('label');\n      label.textContent = `Downloading \"${filename}\": `;\n      div.appendChild(label);\n      const progress = document.createElement('progress');\n      progress.max = size;\n      div.appendChild(progress);\n      document.body.appendChild(div);\n\n      const buffers = [];\n      let downloaded = 0;\n\n      const channel = await google.colab.kernel.comms.open(id);\n      // Send a message to notify the kernel that we're ready.\n      channel.send({})\n\n      for await (const message of channel.messages) {\n        // Send a message to notify the kernel that we're ready.\n        channel.send({})\n        if (message.buffers) {\n          for (const buffer of message.buffers) {\n            buffers.push(buffer);\n            downloaded += buffer.byteLength;\n            progress.value = downloaded;\n          }\n        }\n      }\n      const blob = new Blob(buffers, {type: 'application/binary'});\n      const a = document.createElement('a');\n      a.href = window.URL.createObjectURL(blob);\n      a.download = filename;\n      div.appendChild(a);\n      a.click();\n      div.remove();\n    }\n  ",
            "text/plain": [
              "<IPython.core.display.Javascript object>"
            ]
          },
          "metadata": {},
          "output_type": "display_data"
        },
        {
          "data": {
            "application/javascript": "download(\"download_ee47da21-a56a-4395-acd5-a6b99006eb28\", \"bert_mlm_best.keras\", 94188974)",
            "text/plain": [
              "<IPython.core.display.Javascript object>"
            ]
          },
          "metadata": {},
          "output_type": "display_data"
        }
      ],
      "source": [
        "bert_masked_model.save(\"bert_mlm_friends_final.keras\")\n",
        "from google.colab import files\n",
        "files.download(\"bert_mlm_friends_final.keras\")\n",
        "files.download(\"checkpoints_friends/bert_mlm_best.keras\")"
      ]
    },
    {
      "cell_type": "markdown",
      "metadata": {
        "id": "EdkbudLxiRg4"
      },
      "source": [
        "#### Fine-tune - completar frases ao estilo Friends"
      ]
    },
    {
      "cell_type": "code",
      "execution_count": null,
      "metadata": {
        "id": "jmhoP_sYglQv"
      },
      "outputs": [],
      "source": [
        "from tensorflow import keras\n",
        "\n",
        "# Carrega o modelo salvo com MLM\n",
        "mlm_model = keras.models.load_model(\n",
        "    \"bert_mlm_friends_final.keras\",\n",
        "    custom_objects={\"MaskedLanguageModel\": MaskedLanguageModel}\n",
        ")"
      ]
    },
    {
      "cell_type": "code",
      "execution_count": null,
      "metadata": {
        "id": "AXFNxbSGiwy0"
      },
      "outputs": [],
      "source": [
        "#Extrair apenas o encoder\n",
        "pretrained_bert_model = keras.Model(\n",
        "    mlm_model.input,\n",
        "    mlm_model.get_layer(\"encoder_0_ffn_layernormalization\").output\n",
        ")"
      ]
    },
    {
      "cell_type": "code",
      "execution_count": null,
      "metadata": {
        "id": "BxvUp0BKjJ9u"
      },
      "outputs": [],
      "source": [
        "#Congelar o encoder\n",
        "pretrained_bert_model.trainable = False"
      ]
    },
    {
      "cell_type": "code",
      "execution_count": null,
      "metadata": {
        "colab": {
          "base_uri": "https://localhost:8080/"
        },
        "id": "oQc9Kl5NjGC4",
        "outputId": "688f3d9c-82ce-480a-ddfa-a6aca0c4172c"
      },
      "outputs": [
        {
          "name": "stdout",
          "output_type": "stream",
          "text": [
            "Epoch 18/20\n",
            "\u001b[1m1/1\u001b[0m \u001b[32m━━━━━━━━━━━━━━━━━━━━\u001b[0m\u001b[37m\u001b[0m \u001b[1m1s\u001b[0m 1s/step\n",
            "{'input_text': 'going ii iim communicating',\n",
            " 'predicted mask token': np.str_('ursula'),\n",
            " 'prediction': 'going ii iim ursula',\n",
            " 'probability': np.float32(0.30931404)}\n",
            "{'input_text': 'going ii iim communicating',\n",
            " 'predicted mask token': np.str_('this'),\n",
            " 'prediction': 'going ii iim this',\n",
            " 'probability': np.float32(0.20557728)}\n",
            "{'input_text': 'going ii iim communicating',\n",
            " 'predicted mask token': np.str_('isnt'),\n",
            " 'prediction': 'going ii iim isnt',\n",
            " 'probability': np.float32(0.09847512)}\n",
            "{'input_text': 'going ii iim communicating',\n",
            " 'predicted mask token': np.str_('is'),\n",
            " 'prediction': 'going ii iim is',\n",
            " 'probability': np.float32(0.034164406)}\n",
            "{'input_text': 'going ii iim communicating',\n",
            " 'predicted mask token': np.str_('grab'),\n",
            " 'prediction': 'going ii iim grab',\n",
            " 'probability': np.float32(0.033887226)}\n",
            "\n",
            "Epoch 18: loss improved from 0.88186 to 0.76170, saving model to checkpoints_friends/bert_mlm_best.keras\n",
            "\u001b[1m1495/1495\u001b[0m \u001b[32m━━━━━━━━━━━━━━━━━━━━\u001b[0m\u001b[37m\u001b[0m \u001b[1m23s\u001b[0m 13ms/step - loss: 0.8430\n",
            "Epoch 19/20\n",
            "\u001b[1m1/1\u001b[0m \u001b[32m━━━━━━━━━━━━━━━━━━━━\u001b[0m\u001b[37m\u001b[0m \u001b[1m0s\u001b[0m 45ms/step\n",
            "{'input_text': 'going ii iim communicating',\n",
            " 'predicted mask token': np.str_('this'),\n",
            " 'prediction': 'going ii iim this',\n",
            " 'probability': np.float32(0.28697893)}\n",
            "{'input_text': 'going ii iim communicating',\n",
            " 'predicted mask token': np.str_('ursula'),\n",
            " 'prediction': 'going ii iim ursula',\n",
            " 'probability': np.float32(0.25313005)}\n",
            "{'input_text': 'going ii iim communicating',\n",
            " 'predicted mask token': np.str_('isnt'),\n",
            " 'prediction': 'going ii iim isnt',\n",
            " 'probability': np.float32(0.13370131)}\n",
            "{'input_text': 'going ii iim communicating',\n",
            " 'predicted mask token': np.str_('pretty'),\n",
            " 'prediction': 'going ii iim pretty',\n",
            " 'probability': np.float32(0.037180446)}\n",
            "{'input_text': 'going ii iim communicating',\n",
            " 'predicted mask token': np.str_('boxes'),\n",
            " 'prediction': 'going ii iim boxes',\n",
            " 'probability': np.float32(0.028601186)}\n",
            "\n",
            "Epoch 19: loss improved from 0.76170 to 0.65616, saving model to checkpoints_friends/bert_mlm_best.keras\n",
            "\u001b[1m1495/1495\u001b[0m \u001b[32m━━━━━━━━━━━━━━━━━━━━\u001b[0m\u001b[37m\u001b[0m \u001b[1m15s\u001b[0m 10ms/step - loss: 0.7091\n",
            "Epoch 20/20\n",
            "\u001b[1m1/1\u001b[0m \u001b[32m━━━━━━━━━━━━━━━━━━━━\u001b[0m\u001b[37m\u001b[0m \u001b[1m0s\u001b[0m 41ms/step\n",
            "{'input_text': 'going ii iim communicating',\n",
            " 'predicted mask token': np.str_('isnt'),\n",
            " 'prediction': 'going ii iim isnt',\n",
            " 'probability': np.float32(0.3770971)}\n",
            "{'input_text': 'going ii iim communicating',\n",
            " 'predicted mask token': np.str_('this'),\n",
            " 'prediction': 'going ii iim this',\n",
            " 'probability': np.float32(0.29066142)}\n",
            "{'input_text': 'going ii iim communicating',\n",
            " 'predicted mask token': np.str_('boxes'),\n",
            " 'prediction': 'going ii iim boxes',\n",
            " 'probability': np.float32(0.12866093)}\n",
            "{'input_text': 'going ii iim communicating',\n",
            " 'predicted mask token': np.str_('ursula'),\n",
            " 'prediction': 'going ii iim ursula',\n",
            " 'probability': np.float32(0.029918713)}\n",
            "{'input_text': 'going ii iim communicating',\n",
            " 'predicted mask token': np.str_('herself'),\n",
            " 'prediction': 'going ii iim herself',\n",
            " 'probability': np.float32(0.019728236)}\n",
            "\n",
            "Epoch 20: loss improved from 0.65616 to 0.62559, saving model to checkpoints_friends/bert_mlm_best.keras\n",
            "\u001b[1m1495/1495\u001b[0m \u001b[32m━━━━━━━━━━━━━━━━━━━━\u001b[0m\u001b[37m\u001b[0m \u001b[1m15s\u001b[0m 10ms/step - loss: 0.6731\n"
          ]
        },
        {
          "data": {
            "text/plain": [
              "<keras.src.callbacks.history.History at 0x7991083686d0>"
            ]
          },
          "execution_count": 85,
          "metadata": {},
          "output_type": "execute_result"
        }
      ],
      "source": [
        "#Refinar o treinamento\n",
        "mlm_model.fit(\n",
        "    mlm_ds,\n",
        "    epochs=20,               # ex: vamos até a época 20\n",
        "    initial_epoch=17,        # porque você já treinou até a 17\n",
        "    callbacks=[generator_callback, checkpoint_cb]\n",
        ")"
      ]
    },
    {
      "cell_type": "code",
      "execution_count": null,
      "metadata": {
        "colab": {
          "base_uri": "https://localhost:8080/",
          "height": 17
        },
        "id": "aoVaiQiamC9Z",
        "outputId": "b7d1c297-9101-4ac6-bb8f-b07450d73dbe"
      },
      "outputs": [
        {
          "data": {
            "application/javascript": "\n    async function download(id, filename, size) {\n      if (!google.colab.kernel.accessAllowed) {\n        return;\n      }\n      const div = document.createElement('div');\n      const label = document.createElement('label');\n      label.textContent = `Downloading \"${filename}\": `;\n      div.appendChild(label);\n      const progress = document.createElement('progress');\n      progress.max = size;\n      div.appendChild(progress);\n      document.body.appendChild(div);\n\n      const buffers = [];\n      let downloaded = 0;\n\n      const channel = await google.colab.kernel.comms.open(id);\n      // Send a message to notify the kernel that we're ready.\n      channel.send({})\n\n      for await (const message of channel.messages) {\n        // Send a message to notify the kernel that we're ready.\n        channel.send({})\n        if (message.buffers) {\n          for (const buffer of message.buffers) {\n            buffers.push(buffer);\n            downloaded += buffer.byteLength;\n            progress.value = downloaded;\n          }\n        }\n      }\n      const blob = new Blob(buffers, {type: 'application/binary'});\n      const a = document.createElement('a');\n      a.href = window.URL.createObjectURL(blob);\n      a.download = filename;\n      div.appendChild(a);\n      a.click();\n      div.remove();\n    }\n  ",
            "text/plain": [
              "<IPython.core.display.Javascript object>"
            ]
          },
          "metadata": {},
          "output_type": "display_data"
        },
        {
          "data": {
            "application/javascript": "download(\"download_d544c119-4f68-418c-8939-cb208301cfb9\", \"bert_mlm_friends_final.keras\", 94188974)",
            "text/plain": [
              "<IPython.core.display.Javascript object>"
            ]
          },
          "metadata": {},
          "output_type": "display_data"
        },
        {
          "data": {
            "application/javascript": "\n    async function download(id, filename, size) {\n      if (!google.colab.kernel.accessAllowed) {\n        return;\n      }\n      const div = document.createElement('div');\n      const label = document.createElement('label');\n      label.textContent = `Downloading \"${filename}\": `;\n      div.appendChild(label);\n      const progress = document.createElement('progress');\n      progress.max = size;\n      div.appendChild(progress);\n      document.body.appendChild(div);\n\n      const buffers = [];\n      let downloaded = 0;\n\n      const channel = await google.colab.kernel.comms.open(id);\n      // Send a message to notify the kernel that we're ready.\n      channel.send({})\n\n      for await (const message of channel.messages) {\n        // Send a message to notify the kernel that we're ready.\n        channel.send({})\n        if (message.buffers) {\n          for (const buffer of message.buffers) {\n            buffers.push(buffer);\n            downloaded += buffer.byteLength;\n            progress.value = downloaded;\n          }\n        }\n      }\n      const blob = new Blob(buffers, {type: 'application/binary'});\n      const a = document.createElement('a');\n      a.href = window.URL.createObjectURL(blob);\n      a.download = filename;\n      div.appendChild(a);\n      a.click();\n      div.remove();\n    }\n  ",
            "text/plain": [
              "<IPython.core.display.Javascript object>"
            ]
          },
          "metadata": {},
          "output_type": "display_data"
        },
        {
          "data": {
            "application/javascript": "download(\"download_4f4e8c60-588c-4eb5-9780-1fd16c97ad60\", \"bert_mlm_best.keras\", 94188614)",
            "text/plain": [
              "<IPython.core.display.Javascript object>"
            ]
          },
          "metadata": {},
          "output_type": "display_data"
        }
      ],
      "source": [
        "bert_masked_model.save(\"bert_mlm_friends_final.keras\")\n",
        "from google.colab import files\n",
        "files.download(\"bert_mlm_friends_final.keras\")\n",
        "files.download(\"checkpoints_friends/bert_mlm_best.keras\")"
      ]
    },
    {
      "cell_type": "markdown",
      "metadata": {
        "id": "OlETeTzmlJXY"
      },
      "source": [
        "### 7 Avaliação do Modelo e Realização de Testes"
      ]
    },
    {
      "cell_type": "code",
      "execution_count": null,
      "metadata": {
        "id": "KH0_lUYKkSO6"
      },
      "outputs": [],
      "source": [
        "#testar várias frases com [MASK] e ver o modelo treinado completa cada uma\n",
        "\n",
        "def completar_frases_friends(frases_com_mask, top_k=5):\n",
        "    for frase in frases_com_mask:\n",
        "        print(f\"\\nInput: {frase}\")\n",
        "\n",
        "        sample_tokens = vectorize_layer([frase]).numpy()\n",
        "        prediction = mlm_model.predict(sample_tokens)\n",
        "\n",
        "        masked_index = np.where(sample_tokens == mask_token_id)[1]\n",
        "        mask_prediction = prediction[0][masked_index]\n",
        "\n",
        "        #Top-K predições\n",
        "        top_indices = mask_prediction[0].argsort()[-top_k:][::-1]\n",
        "        for i in range(top_k):\n",
        "            predicted_token_id = top_indices[i]\n",
        "            probability = mask_prediction[0][predicted_token_id]\n",
        "\n",
        "            completado = np.copy(sample_tokens[0])\n",
        "            completado[masked_index[0]] = predicted_token_id\n",
        "            frase_completada = \" \".join([id2token[t] for t in completado if t != 0])\n",
        "\n",
        "            print(f\"  {i+1}. {frase_completada}  (prob: {probability:.4f})\")"
      ]
    },
    {
      "cell_type": "code",
      "execution_count": null,
      "metadata": {
        "colab": {
          "base_uri": "https://localhost:8080/"
        },
        "id": "7NQxVLqtl_eJ",
        "outputId": "668d9a71-85a0-458f-dfa4-7d7a03302635"
      },
      "outputs": [
        {
          "name": "stdout",
          "output_type": "stream",
          "text": [
            "\n",
            "Input: Joey doesn't share [mask]!\n",
            "\u001b[1m1/1\u001b[0m \u001b[32m━━━━━━━━━━━━━━━━━━━━\u001b[0m\u001b[37m\u001b[0m \u001b[1m0s\u001b[0m 45ms/step\n",
            "  1. going ii iim isnt  (prob: 0.3771)\n",
            "  2. going ii iim this  (prob: 0.2907)\n",
            "  3. going ii iim boxes  (prob: 0.1287)\n",
            "  4. going ii iim ursula  (prob: 0.0299)\n",
            "  5. going ii iim herself  (prob: 0.0197)\n",
            "\n",
            "Input: How you [mask]?\n",
            "\u001b[1m1/1\u001b[0m \u001b[32m━━━━━━━━━━━━━━━━━━━━\u001b[0m\u001b[37m\u001b[0m \u001b[1m0s\u001b[0m 44ms/step\n",
            "  1. think i between  (prob: 0.0835)\n",
            "  2. think i your  (prob: 0.0660)\n",
            "  3. think i gonna  (prob: 0.0607)\n",
            "  4. think i no  (prob: 0.0605)\n",
            "  5. think i check  (prob: 0.0535)\n",
            "\n",
            "Input: Could I *be* wearing any more [mask]?\n",
            "\u001b[1m1/1\u001b[0m \u001b[32m━━━━━━━━━━━━━━━━━━━━\u001b[0m\u001b[37m\u001b[0m \u001b[1m0s\u001b[0m 44ms/step\n",
            "  1. hi [MASK] dont must has believe wanted  (prob: 0.8053)\n",
            "  2. hi [MASK] dont must has believe he  (prob: 0.0578)\n",
            "  3. hi [MASK] dont must has believe [sees  (prob: 0.0508)\n",
            "  4. hi [MASK] dont must has believe ten  (prob: 0.0155)\n",
            "  5. hi [MASK] dont must has believe then  (prob: 0.0155)\n",
            "\n",
            "Input: Welcome to the real [mask]!\n",
            "\u001b[1m1/1\u001b[0m \u001b[32m━━━━━━━━━━━━━━━━━━━━\u001b[0m\u001b[37m\u001b[0m \u001b[1m0s\u001b[0m 44ms/step\n",
            "  1. forever the you year maid  (prob: 0.9891)\n",
            "  2. forever the you year walking  (prob: 0.0068)\n",
            "  3. forever the you year keep  (prob: 0.0024)\n",
            "  4. forever the you year hundred  (prob: 0.0003)\n",
            "  5. forever the you year then  (prob: 0.0003)\n",
            "\n",
            "Input: I got off the [mask]!\n",
            "\u001b[1m1/1\u001b[0m \u001b[32m━━━━━━━━━━━━━━━━━━━━\u001b[0m\u001b[37m\u001b[0m \u001b[1m0s\u001b[0m 42ms/step\n",
            "  1. [MASK] mean man you save  (prob: 0.7655)\n",
            "  2. [MASK] mean man you neither  (prob: 0.0809)\n",
            "  3. [MASK] mean man you porn  (prob: 0.0355)\n",
            "  4. [MASK] mean man you years  (prob: 0.0250)\n",
            "  5. [MASK] mean man you help  (prob: 0.0187)\n",
            "\n",
            "Input: Smelly [mask], smelly [mask], what are they feeding you?\n",
            "\u001b[1m1/1\u001b[0m \u001b[32m━━━━━━━━━━━━━━━━━━━━\u001b[0m\u001b[37m\u001b[0m \u001b[1m0s\u001b[0m 43ms/step\n",
            "  1. inside suggestion inside communicating and we good fifty i  (prob: 0.4357)\n",
            "  2. inside cant inside communicating and we good fifty i  (prob: 0.3389)\n",
            "  3. inside umm inside communicating and we good fifty i  (prob: 0.0952)\n",
            "  4. inside naked inside communicating and we good fifty i  (prob: 0.0312)\n",
            "  5. inside together inside communicating and we good fifty i  (prob: 0.0244)\n"
          ]
        }
      ],
      "source": [
        "frases = [\n",
        "    \"Joey doesn't share [mask]!\",\n",
        "    \"How you [mask]?\",\n",
        "    \"Could I *be* wearing any more [mask]?\",\n",
        "    \"Welcome to the real [mask]!\",\n",
        "    \"I got off the [mask]!\",\n",
        "    \"Smelly [mask], smelly [mask], what are they feeding you?\"\n",
        "]\n",
        "\n",
        "completar_frases_friends(frases)"
      ]
    },
    {
      "cell_type": "code",
      "execution_count": null,
      "metadata": {
        "id": "yzy6Zhe9oVCr"
      },
      "outputs": [],
      "source": []
    },
    {
      "cell_type": "markdown",
      "metadata": {
        "id": "RdmJbXtLyDq5"
      },
      "source": [
        "## 🌦️ Implementação do Modelo Oculto de Markov"
      ]
    },
    {
      "cell_type": "markdown",
      "metadata": {
        "id": "LqnEXVSx27gm"
      },
      "source": [
        "### Dependências"
      ]
    },
    {
      "cell_type": "code",
      "execution_count": null,
      "metadata": {
        "id": "dwKTdmjhydEc"
      },
      "outputs": [],
      "source": [
        "import pandas as pd\n",
        "import re\n",
        "from collections import defaultdict, Counter\n"
      ]
    },
    {
      "cell_type": "markdown",
      "metadata": {
        "id": "Uzj3Ios427gm"
      },
      "source": [
        "### Carregamento da Base de Dados"
      ]
    },
    {
      "cell_type": "code",
      "execution_count": null,
      "metadata": {
        "colab": {
          "base_uri": "https://localhost:8080/",
          "height": 252
        },
        "id": "4tioJHILywYZ",
        "outputId": "ce27aa4f-90b6-4912-e63a-1f0cf5dacf12"
      },
      "outputs": [
        {
          "data": {
            "text/html": [
              "\n",
              "     <input type=\"file\" id=\"files-938b2308-e1b5-4f7d-bd49-ba44fcbd70e7\" name=\"files[]\" multiple disabled\n",
              "        style=\"border:none\" />\n",
              "     <output id=\"result-938b2308-e1b5-4f7d-bd49-ba44fcbd70e7\">\n",
              "      Upload widget is only available when the cell has been executed in the\n",
              "      current browser session. Please rerun this cell to enable.\n",
              "      </output>\n",
              "      <script>// Copyright 2017 Google LLC\n",
              "//\n",
              "// Licensed under the Apache License, Version 2.0 (the \"License\");\n",
              "// you may not use this file except in compliance with the License.\n",
              "// You may obtain a copy of the License at\n",
              "//\n",
              "//      http://www.apache.org/licenses/LICENSE-2.0\n",
              "//\n",
              "// Unless required by applicable law or agreed to in writing, software\n",
              "// distributed under the License is distributed on an \"AS IS\" BASIS,\n",
              "// WITHOUT WARRANTIES OR CONDITIONS OF ANY KIND, either express or implied.\n",
              "// See the License for the specific language governing permissions and\n",
              "// limitations under the License.\n",
              "\n",
              "/**\n",
              " * @fileoverview Helpers for google.colab Python module.\n",
              " */\n",
              "(function(scope) {\n",
              "function span(text, styleAttributes = {}) {\n",
              "  const element = document.createElement('span');\n",
              "  element.textContent = text;\n",
              "  for (const key of Object.keys(styleAttributes)) {\n",
              "    element.style[key] = styleAttributes[key];\n",
              "  }\n",
              "  return element;\n",
              "}\n",
              "\n",
              "// Max number of bytes which will be uploaded at a time.\n",
              "const MAX_PAYLOAD_SIZE = 100 * 1024;\n",
              "\n",
              "function _uploadFiles(inputId, outputId) {\n",
              "  const steps = uploadFilesStep(inputId, outputId);\n",
              "  const outputElement = document.getElementById(outputId);\n",
              "  // Cache steps on the outputElement to make it available for the next call\n",
              "  // to uploadFilesContinue from Python.\n",
              "  outputElement.steps = steps;\n",
              "\n",
              "  return _uploadFilesContinue(outputId);\n",
              "}\n",
              "\n",
              "// This is roughly an async generator (not supported in the browser yet),\n",
              "// where there are multiple asynchronous steps and the Python side is going\n",
              "// to poll for completion of each step.\n",
              "// This uses a Promise to block the python side on completion of each step,\n",
              "// then passes the result of the previous step as the input to the next step.\n",
              "function _uploadFilesContinue(outputId) {\n",
              "  const outputElement = document.getElementById(outputId);\n",
              "  const steps = outputElement.steps;\n",
              "\n",
              "  const next = steps.next(outputElement.lastPromiseValue);\n",
              "  return Promise.resolve(next.value.promise).then((value) => {\n",
              "    // Cache the last promise value to make it available to the next\n",
              "    // step of the generator.\n",
              "    outputElement.lastPromiseValue = value;\n",
              "    return next.value.response;\n",
              "  });\n",
              "}\n",
              "\n",
              "/**\n",
              " * Generator function which is called between each async step of the upload\n",
              " * process.\n",
              " * @param {string} inputId Element ID of the input file picker element.\n",
              " * @param {string} outputId Element ID of the output display.\n",
              " * @return {!Iterable<!Object>} Iterable of next steps.\n",
              " */\n",
              "function* uploadFilesStep(inputId, outputId) {\n",
              "  const inputElement = document.getElementById(inputId);\n",
              "  inputElement.disabled = false;\n",
              "\n",
              "  const outputElement = document.getElementById(outputId);\n",
              "  outputElement.innerHTML = '';\n",
              "\n",
              "  const pickedPromise = new Promise((resolve) => {\n",
              "    inputElement.addEventListener('change', (e) => {\n",
              "      resolve(e.target.files);\n",
              "    });\n",
              "  });\n",
              "\n",
              "  const cancel = document.createElement('button');\n",
              "  inputElement.parentElement.appendChild(cancel);\n",
              "  cancel.textContent = 'Cancel upload';\n",
              "  const cancelPromise = new Promise((resolve) => {\n",
              "    cancel.onclick = () => {\n",
              "      resolve(null);\n",
              "    };\n",
              "  });\n",
              "\n",
              "  // Wait for the user to pick the files.\n",
              "  const files = yield {\n",
              "    promise: Promise.race([pickedPromise, cancelPromise]),\n",
              "    response: {\n",
              "      action: 'starting',\n",
              "    }\n",
              "  };\n",
              "\n",
              "  cancel.remove();\n",
              "\n",
              "  // Disable the input element since further picks are not allowed.\n",
              "  inputElement.disabled = true;\n",
              "\n",
              "  if (!files) {\n",
              "    return {\n",
              "      response: {\n",
              "        action: 'complete',\n",
              "      }\n",
              "    };\n",
              "  }\n",
              "\n",
              "  for (const file of files) {\n",
              "    const li = document.createElement('li');\n",
              "    li.append(span(file.name, {fontWeight: 'bold'}));\n",
              "    li.append(span(\n",
              "        `(${file.type || 'n/a'}) - ${file.size} bytes, ` +\n",
              "        `last modified: ${\n",
              "            file.lastModifiedDate ? file.lastModifiedDate.toLocaleDateString() :\n",
              "                                    'n/a'} - `));\n",
              "    const percent = span('0% done');\n",
              "    li.appendChild(percent);\n",
              "\n",
              "    outputElement.appendChild(li);\n",
              "\n",
              "    const fileDataPromise = new Promise((resolve) => {\n",
              "      const reader = new FileReader();\n",
              "      reader.onload = (e) => {\n",
              "        resolve(e.target.result);\n",
              "      };\n",
              "      reader.readAsArrayBuffer(file);\n",
              "    });\n",
              "    // Wait for the data to be ready.\n",
              "    let fileData = yield {\n",
              "      promise: fileDataPromise,\n",
              "      response: {\n",
              "        action: 'continue',\n",
              "      }\n",
              "    };\n",
              "\n",
              "    // Use a chunked sending to avoid message size limits. See b/62115660.\n",
              "    let position = 0;\n",
              "    do {\n",
              "      const length = Math.min(fileData.byteLength - position, MAX_PAYLOAD_SIZE);\n",
              "      const chunk = new Uint8Array(fileData, position, length);\n",
              "      position += length;\n",
              "\n",
              "      const base64 = btoa(String.fromCharCode.apply(null, chunk));\n",
              "      yield {\n",
              "        response: {\n",
              "          action: 'append',\n",
              "          file: file.name,\n",
              "          data: base64,\n",
              "        },\n",
              "      };\n",
              "\n",
              "      let percentDone = fileData.byteLength === 0 ?\n",
              "          100 :\n",
              "          Math.round((position / fileData.byteLength) * 100);\n",
              "      percent.textContent = `${percentDone}% done`;\n",
              "\n",
              "    } while (position < fileData.byteLength);\n",
              "  }\n",
              "\n",
              "  // All done.\n",
              "  yield {\n",
              "    response: {\n",
              "      action: 'complete',\n",
              "    }\n",
              "  };\n",
              "}\n",
              "\n",
              "scope.google = scope.google || {};\n",
              "scope.google.colab = scope.google.colab || {};\n",
              "scope.google.colab._files = {\n",
              "  _uploadFiles,\n",
              "  _uploadFilesContinue,\n",
              "};\n",
              "})(self);\n",
              "</script> "
            ],
            "text/plain": [
              "<IPython.core.display.HTML object>"
            ]
          },
          "metadata": {},
          "output_type": "display_data"
        },
        {
          "name": "stdout",
          "output_type": "stream",
          "text": [
            "Saving falas_chandler.txt to falas_chandler.txt\n",
            "Saving falas_joey.txt to falas_joey.txt\n",
            "Saving falas_monica.txt to falas_monica.txt\n",
            "Saving falas_phoebe.txt to falas_phoebe.txt\n",
            "Saving falas_rachel.txt to falas_rachel.txt\n",
            "Saving falas_ross.txt to falas_ross.txt\n"
          ]
        }
      ],
      "source": [
        "#Upload dos arquivos\n",
        "from google.colab import files\n",
        "uploaded = files.upload()"
      ]
    },
    {
      "cell_type": "markdown",
      "metadata": {
        "id": "FWOUgb5b27gm"
      },
      "source": [
        "### Limpeza dos Dados\n",
        "Nesta estapa realizamos para cada fala carregada de todos os personagens:\n",
        "* Remoção de texto entre colchetes, parenteses;\n",
        "* Remoção de todos os caracteres, exceto letras, números, espaços e apóstrofos, garantindo que apenas texto limpo e legível permaneça;\n",
        "* Subtituição de várias espaços em branco por apenas um único espaço em branco;\n",
        "* Remoção de espaços iniciais/finais;\n",
        "* Converção do texto para minúsculas."
      ]
    },
    {
      "cell_type": "code",
      "execution_count": null,
      "metadata": {
        "id": "SkBnbhWIyyWd"
      },
      "outputs": [],
      "source": [
        "#Ler e limpar os dados\n",
        "arquivos = [\n",
        "    \"falas_joey.txt\", \"falas_chandler.txt\", \"falas_rachel.txt\",\n",
        "    \"falas_monica.txt\", \"falas_phoebe.txt\", \"falas_ross.txt\"\n",
        "]\n",
        "\n",
        "def limpar_fala(fala):\n",
        "    fala = re.sub(r'\\[.*?\\]', '', fala)\n",
        "    fala = re.sub(r'\\(.*?\\)', '', fala)\n",
        "    fala = re.sub(r\"[^\\w\\s']\", '', fala)\n",
        "    fala = re.sub(r'\\s+', ' ', fala)\n",
        "    return fala.strip().lower()\n",
        "\n",
        "falas = []\n",
        "for arquivo in arquivos:\n",
        "    with open(arquivo, \"r\", encoding=\"utf-8\") as f:\n",
        "        for linha in f:\n",
        "            limpa = limpar_fala(linha)\n",
        "            if len(limpa.split()) >= 4:\n",
        "                falas.append(limpa)"
      ]
    },
    {
      "cell_type": "markdown",
      "metadata": {
        "id": "ZhayeCcI27gn"
      },
      "source": [
        "### Construção do Triagramas\n",
        "\n",
        "Realizamos a definição de um n-grams de 3 elementos para encontrar um padrõa linguíticos nas falas (ou seja, nosso _corpus_). Desta forma, definimos como podemos encontrar a próxima sequência dada uma sequência de 2 palavras (probabilidade condicional).\n",
        "\n",
        "Então, definimos a frequência para cada par de palavras (chave) contamos quantas vezes cada palavra apareceu depois (utilizando Counter).\n"
      ]
    },
    {
      "cell_type": "code",
      "execution_count": null,
      "metadata": {
        "id": "AVtWS9Dty8hF"
      },
      "outputs": [],
      "source": [
        "#Construir os trigramas\n",
        "from collections import defaultdict, Counter\n",
        "\n",
        "trigramas = defaultdict(list)\n",
        "for frase in falas:\n",
        "    tokens = frase.split()\n",
        "    for i in range(len(tokens) - 2):\n",
        "        chave = (tokens[i], tokens[i+1])\n",
        "        prox = tokens[i+2]\n",
        "        trigramas[chave].append(prox)\n",
        "\n",
        "# Frequências\n",
        "modelo_markov = {chave: Counter(palavras) for chave, palavras in trigramas.items()}"
      ]
    },
    {
      "cell_type": "markdown",
      "metadata": {
        "id": "4zqAJhPJ27gn"
      },
      "source": [
        "### Modelagem do Modelo Oculto de Markov com Máscara\n",
        "\n",
        "Na última etapa criamos o método para completar as frases, onde dada uma frase com uma lacuna (representado por ` ____ `), o algoritmo tenta preencher com a palavra mais provável (novamente, baseando-se nas duas palavras anteriores à lacuna)."
      ]
    },
    {
      "cell_type": "code",
      "execution_count": null,
      "metadata": {
        "id": "r-Mhcc3jzAnl"
      },
      "outputs": [],
      "source": [
        "#Função para completar frases\n",
        "\n",
        "def completar_frase_markov(frase, placeholder=\"___\"):\n",
        "    frase = frase.replace(\"'___'\", \"___\").replace('\"___\"', \"___\")  # normaliza\n",
        "    tokens = frase.lower().split()\n",
        "\n",
        "    if \"___\" not in tokens:\n",
        "        return \"A frase precisa conter '___'\"\n",
        "\n",
        "    idx = tokens.index(\"___\")\n",
        "    if idx < 2:\n",
        "        return \"São necessárias 2 palavras antes da lacuna.\"\n",
        "\n",
        "    contexto = (tokens[idx - 2], tokens[idx - 1])\n",
        "    if contexto not in modelo_markov:\n",
        "        return \"Contexto não encontrado no modelo.\"\n",
        "\n",
        "    palavra = modelo_markov[contexto].most_common(1)[0][0]\n",
        "    tokens[idx] = palavra\n",
        "    return \" \".join(tokens)"
      ]
    },
    {
      "cell_type": "markdown",
      "metadata": {
        "id": "-y6_RK4C27gn"
      },
      "source": [
        "### Testando a previsibilidade do modelo\n",
        "\n",
        "Agora podemos testar com um conjunto de frases e que podem ser completadas."
      ]
    },
    {
      "cell_type": "code",
      "execution_count": null,
      "metadata": {
        "colab": {
          "base_uri": "https://localhost:8080/"
        },
        "id": "GsCLtTwdzDMV",
        "outputId": "e6b165cb-e3c7-4788-d579-5d09f27badd1"
      },
      "outputs": [
        {
          "name": "stdout",
          "output_type": "stream",
          "text": [
            "\n",
            "Frase original: Joey doesn't share ___ !\n",
            "Frase completada: joey doesn't share food !\n",
            "\n",
            "Frase original: How you ___ ?\n",
            "Frase completada: how you doin ?\n",
            "\n",
            "Frase original: I got off the ___ !\n",
            "Frase completada: i got off the plane !\n",
            "\n",
            "Frase original: Could I be wearing any more ___ ?\n",
            "Frase completada: could i be wearing any more clothes ?\n"
          ]
        }
      ],
      "source": [
        "#Testando o modelo\n",
        "frases_teste = [\n",
        "    \"Joey doesn't share ___ !\",\n",
        "    \"How you ___ ?\",\n",
        "    \"I got off the ___ !\",\n",
        "    \"Could I be wearing any more ___ ?\"\n",
        "]\n",
        "\n",
        "for frase in frases_teste:\n",
        "    print(f\"\\nFrase original: {frase}\")\n",
        "    print(\"Frase completada:\", completar_frase_markov(frase))"
      ]
    },
    {
      "cell_type": "markdown",
      "metadata": {
        "id": "FXmXP0RLzH_J"
      },
      "source": [
        "\n",
        "\n",
        "---\n",
        "\n"
      ]
    },
    {
      "cell_type": "markdown",
      "metadata": {
        "id": "L5YC6JvvzNo4"
      },
      "source": [
        "# **Comparação e análise dos resultados**"
      ]
    },
    {
      "cell_type": "markdown",
      "metadata": {
        "id": "hxNQg34527gp"
      },
      "source": [
        "A implementação de ambos os modelos (BERT e HMM) mostram-se um desafio por algumas questões: tratar corretamente a base de dados para treiná-los corretamente (ou da melhor forma possível) para atingir o objetivo, mesmo que haja uma boa quantidade de dados para cada um dos 6 personagens principais da série; e pelo própria instigação de se implementar esses modelos.\n",
        "\n",
        "Trantando da implementação do modelo de BERT, realizamos duas implementações sendo a primeira com muitos problemas e a segunda como uma tentativa de realizar melhorias. Focando na primeira implementação, houve muito esforço no tratamento dos dados e na etapa de treinamento, pois os resultados obtidos após o treinamento não foram satisfatórios. A solução foi adicionar pesos, mas que mesmo assim gerou um overffiting. Numa outra tentativa (nesta mesma primeira implementação), foram feitos outros ajustes para obtermos um oversampling.\n",
        "\n",
        "No fim das contas, optamos por realizar uma segunda implementação do modelo de BERT ainda que com resultados não muito bons.\n",
        "\n",
        "Por outro lado, na implementação do Modelo Oculto de Markov, utilizamos uma abordagem mais simples porque simula apenas o componente de emissão de um HMM sem modelar explicitamente os estados ocultos.\n",
        "\n",
        "Em vez de usar bibliotecas como hmmlearn, que exigem a definição e o treinamento de uma estrutura completa com estados e probabilidades, ela utiliza trigramas para prever observações diretamente com base no contexto anterior. Foi uma abordagem mais leve devido a carga que tivemos na implementação do modelo de BERT.\n",
        "\n",
        "E ainda, com a simplicidade, conseguimos atingir o objetivo de completar as frases e ver que elas tem bastante sentido e que condizem com os diálogos dos roteiros originais da série.\n",
        "\n",
        "Concluímos que podemos meelhorar a modelagem do modelo BERT com a adição de mais planejamento e melhor tratamento da base de dados.  "
      ]
    },
    {
      "cell_type": "markdown",
      "source": [
        "# Carregar modelo e classificador para apresentação"
      ],
      "metadata": {
        "id": "3ZRjqYuX3qQc"
      }
    },
    {
      "cell_type": "markdown",
      "source": [
        "## BERT"
      ],
      "metadata": {
        "id": "8r7_jqPd3xFc"
      }
    },
    {
      "cell_type": "code",
      "source": [
        "from google.colab import files\n",
        "files.download(\"bert_mlm_friends_final.keras\")\n",
        "files.download(\"vectorize_layer_model.keras\")"
      ],
      "metadata": {
        "colab": {
          "base_uri": "https://localhost:8080/",
          "height": 17
        },
        "id": "oYP9noD_3o7w",
        "outputId": "57a3115b-367a-4880-842b-016b3a76bf2d"
      },
      "execution_count": null,
      "outputs": [
        {
          "output_type": "display_data",
          "data": {
            "text/plain": [
              "<IPython.core.display.Javascript object>"
            ],
            "application/javascript": [
              "\n",
              "    async function download(id, filename, size) {\n",
              "      if (!google.colab.kernel.accessAllowed) {\n",
              "        return;\n",
              "      }\n",
              "      const div = document.createElement('div');\n",
              "      const label = document.createElement('label');\n",
              "      label.textContent = `Downloading \"${filename}\": `;\n",
              "      div.appendChild(label);\n",
              "      const progress = document.createElement('progress');\n",
              "      progress.max = size;\n",
              "      div.appendChild(progress);\n",
              "      document.body.appendChild(div);\n",
              "\n",
              "      const buffers = [];\n",
              "      let downloaded = 0;\n",
              "\n",
              "      const channel = await google.colab.kernel.comms.open(id);\n",
              "      // Send a message to notify the kernel that we're ready.\n",
              "      channel.send({})\n",
              "\n",
              "      for await (const message of channel.messages) {\n",
              "        // Send a message to notify the kernel that we're ready.\n",
              "        channel.send({})\n",
              "        if (message.buffers) {\n",
              "          for (const buffer of message.buffers) {\n",
              "            buffers.push(buffer);\n",
              "            downloaded += buffer.byteLength;\n",
              "            progress.value = downloaded;\n",
              "          }\n",
              "        }\n",
              "      }\n",
              "      const blob = new Blob(buffers, {type: 'application/binary'});\n",
              "      const a = document.createElement('a');\n",
              "      a.href = window.URL.createObjectURL(blob);\n",
              "      a.download = filename;\n",
              "      div.appendChild(a);\n",
              "      a.click();\n",
              "      div.remove();\n",
              "    }\n",
              "  "
            ]
          },
          "metadata": {}
        },
        {
          "output_type": "display_data",
          "data": {
            "text/plain": [
              "<IPython.core.display.Javascript object>"
            ],
            "application/javascript": [
              "download(\"download_e60a2f7e-08e7-40e2-bed6-d9ae78f96320\", \"bert_mlm_friends_final.keras\", 94188974)"
            ]
          },
          "metadata": {}
        },
        {
          "output_type": "display_data",
          "data": {
            "text/plain": [
              "<IPython.core.display.Javascript object>"
            ],
            "application/javascript": [
              "\n",
              "    async function download(id, filename, size) {\n",
              "      if (!google.colab.kernel.accessAllowed) {\n",
              "        return;\n",
              "      }\n",
              "      const div = document.createElement('div');\n",
              "      const label = document.createElement('label');\n",
              "      label.textContent = `Downloading \"${filename}\": `;\n",
              "      div.appendChild(label);\n",
              "      const progress = document.createElement('progress');\n",
              "      progress.max = size;\n",
              "      div.appendChild(progress);\n",
              "      document.body.appendChild(div);\n",
              "\n",
              "      const buffers = [];\n",
              "      let downloaded = 0;\n",
              "\n",
              "      const channel = await google.colab.kernel.comms.open(id);\n",
              "      // Send a message to notify the kernel that we're ready.\n",
              "      channel.send({})\n",
              "\n",
              "      for await (const message of channel.messages) {\n",
              "        // Send a message to notify the kernel that we're ready.\n",
              "        channel.send({})\n",
              "        if (message.buffers) {\n",
              "          for (const buffer of message.buffers) {\n",
              "            buffers.push(buffer);\n",
              "            downloaded += buffer.byteLength;\n",
              "            progress.value = downloaded;\n",
              "          }\n",
              "        }\n",
              "      }\n",
              "      const blob = new Blob(buffers, {type: 'application/binary'});\n",
              "      const a = document.createElement('a');\n",
              "      a.href = window.URL.createObjectURL(blob);\n",
              "      a.download = filename;\n",
              "      div.appendChild(a);\n",
              "      a.click();\n",
              "      div.remove();\n",
              "    }\n",
              "  "
            ]
          },
          "metadata": {}
        },
        {
          "output_type": "display_data",
          "data": {
            "text/plain": [
              "<IPython.core.display.Javascript object>"
            ],
            "application/javascript": [
              "download(\"download_9a25921b-e37c-40e3-a970-708a79adfd28\", \"vectorize_layer_model.keras\", 276669)"
            ]
          },
          "metadata": {}
        }
      ]
    },
    {
      "cell_type": "code",
      "source": [
        "frases = [\n",
        "    \"Joey doesnt share [mask]!\",\n",
        "    \"How you [mask]?\",\n",
        "    \"Could I *be* wearing any more [mask]?\",\n",
        "    \"Welcome to the real [mask]!\",\n",
        "    \"I got off the [mask]\"\n",
        "]"
      ],
      "metadata": {
        "id": "hBKOpbHF4N9P"
      },
      "execution_count": null,
      "outputs": []
    },
    {
      "cell_type": "code",
      "source": [
        "#Hiperparâmetros\n",
        "EMBED_DIM = 128\n",
        "NUM_HEAD = 4\n",
        "FF_DIM = 256\n",
        "NUM_LAYERS = 4\n",
        "VOCAB_SIZE = 30000\n",
        "MAX_LEN = 128\n",
        "LR = 1e-4\n",
        "\n",
        "\n",
        "#criação da vectorize_layer\n",
        "def get_vectorize_layer(texts, vocab_size=30000, max_seq_length=128, special_tokens=[\"[MASK]\"]):\n",
        "    vectorize_layer = TextVectorization(\n",
        "        max_tokens=vocab_size,\n",
        "        output_mode=\"int\",\n",
        "        standardize=custom_standardization,\n",
        "        output_sequence_length=max_seq_length,\n",
        "    )\n",
        "    vectorize_layer.adapt(texts)\n",
        "\n",
        "    # Ajuste do vocabulário\n",
        "    vocab = vectorize_layer.get_vocabulary()\n",
        "    vocab = [tok for tok in vocab if tok not in [\"\", \"[UNK]\"] + special_tokens]\n",
        "    vocab = vocab[:vocab_size - len(special_tokens) - 2]\n",
        "    vocab_final = [\"\", \"[UNK]\"] + special_tokens + vocab\n",
        "    vectorize_layer.set_vocabulary(vocab_final)\n",
        "\n",
        "    # Envolve em um modelo Keras e salva\n",
        "    vectorize_model = keras.Sequential([vectorize_layer])\n",
        "    vectorize_model(tf.constant([\"exemplo de frase\"]))  # força a construção\n",
        "\n",
        "    path = \"vectorize_layer_model.keras\"\n",
        "    vectorize_model.save(path)\n",
        "    #files.download(path)\n",
        "\n",
        "    return vectorize_layer\n",
        "\n",
        "#instanciar vectorize_layer\n",
        "vectorize_layer = get_vectorize_layer(\n",
        "    all_data.line.values.tolist(),\n",
        "    config.VOCAB_SIZE,\n",
        "    config.MAX_LEN,\n",
        "    special_tokens=[\"[mask]\"]\n",
        ")\n",
        "\n",
        "#testar várias frases com [MASK] e ver o modelo treinado completa cada uma\n",
        "def completar_frases_friends(frases_com_mask, top_k=5):\n",
        "    for frase in frases_com_mask:\n",
        "        print(f\"\\nInput: {frase}\")\n",
        "\n",
        "        sample_tokens = vectorize_layer([frase]).numpy()\n",
        "        prediction = mlm_model.predict(sample_tokens)\n",
        "\n",
        "        masked_index = np.where(sample_tokens == mask_token_id)[1]\n",
        "        mask_prediction = prediction[0][masked_index]\n",
        "\n",
        "        #Top-K predições\n",
        "        top_indices = mask_prediction[0].argsort()[-top_k:][::-1]\n",
        "        for i in range(top_k):\n",
        "            predicted_token_id = top_indices[i]\n",
        "            probability = mask_prediction[0][predicted_token_id]\n",
        "\n",
        "            completado = np.copy(sample_tokens[0])\n",
        "            completado[masked_index[0]] = predicted_token_id\n",
        "            frase_completada = \" \".join([id2token[t] for t in completado if t != 0])\n",
        "\n",
        "            print(f\"  {i+1}. {frase_completada}  (prob: {probability:.4f})\")\n",
        "\n",
        "completar_frases_friends(frases)"
      ],
      "metadata": {
        "colab": {
          "base_uri": "https://localhost:8080/",
          "height": 390
        },
        "id": "ExNXmF5m4XgW",
        "outputId": "58c635ab-f094-474d-c482-56615642d64c"
      },
      "execution_count": null,
      "outputs": [
        {
          "output_type": "error",
          "ename": "ValueError",
          "evalue": "Invalid dtype: object",
          "traceback": [
            "\u001b[0;31m---------------------------------------------------------------------------\u001b[0m",
            "\u001b[0;31mValueError\u001b[0m                                Traceback (most recent call last)",
            "\u001b[0;32m<ipython-input-20-c0435f41bb79>\u001b[0m in \u001b[0;36m<cell line: 0>\u001b[0;34m()\u001b[0m\n\u001b[1;32m     37\u001b[0m \u001b[0;34m\u001b[0m\u001b[0m\n\u001b[1;32m     38\u001b[0m \u001b[0;31m#instanciar vectorize_layer\u001b[0m\u001b[0;34m\u001b[0m\u001b[0;34m\u001b[0m\u001b[0m\n\u001b[0;32m---> 39\u001b[0;31m vectorize_layer = get_vectorize_layer(\n\u001b[0m\u001b[1;32m     40\u001b[0m     \u001b[0mall_data\u001b[0m\u001b[0;34m.\u001b[0m\u001b[0mline\u001b[0m\u001b[0;34m.\u001b[0m\u001b[0mvalues\u001b[0m\u001b[0;34m.\u001b[0m\u001b[0mtolist\u001b[0m\u001b[0;34m(\u001b[0m\u001b[0;34m)\u001b[0m\u001b[0;34m,\u001b[0m\u001b[0;34m\u001b[0m\u001b[0;34m\u001b[0m\u001b[0m\n\u001b[1;32m     41\u001b[0m     \u001b[0mconfig\u001b[0m\u001b[0;34m.\u001b[0m\u001b[0mVOCAB_SIZE\u001b[0m\u001b[0;34m,\u001b[0m\u001b[0;34m\u001b[0m\u001b[0;34m\u001b[0m\u001b[0m\n",
            "\u001b[0;32m<ipython-input-20-c0435f41bb79>\u001b[0m in \u001b[0;36mget_vectorize_layer\u001b[0;34m(texts, vocab_size, max_seq_length, special_tokens)\u001b[0m\n\u001b[1;32m     28\u001b[0m     \u001b[0;31m# Envolve em um modelo Keras e salva\u001b[0m\u001b[0;34m\u001b[0m\u001b[0;34m\u001b[0m\u001b[0m\n\u001b[1;32m     29\u001b[0m     \u001b[0mvectorize_model\u001b[0m \u001b[0;34m=\u001b[0m \u001b[0mkeras\u001b[0m\u001b[0;34m.\u001b[0m\u001b[0mSequential\u001b[0m\u001b[0;34m(\u001b[0m\u001b[0;34m[\u001b[0m\u001b[0mvectorize_layer\u001b[0m\u001b[0;34m]\u001b[0m\u001b[0;34m)\u001b[0m\u001b[0;34m\u001b[0m\u001b[0;34m\u001b[0m\u001b[0m\n\u001b[0;32m---> 30\u001b[0;31m     \u001b[0mvectorize_model\u001b[0m\u001b[0;34m(\u001b[0m\u001b[0mtf\u001b[0m\u001b[0;34m.\u001b[0m\u001b[0mconstant\u001b[0m\u001b[0;34m(\u001b[0m\u001b[0;34m[\u001b[0m\u001b[0;34m\"exemplo de frase\"\u001b[0m\u001b[0;34m]\u001b[0m\u001b[0;34m)\u001b[0m\u001b[0;34m)\u001b[0m  \u001b[0;31m# força a construção\u001b[0m\u001b[0;34m\u001b[0m\u001b[0;34m\u001b[0m\u001b[0m\n\u001b[0m\u001b[1;32m     31\u001b[0m \u001b[0;34m\u001b[0m\u001b[0m\n\u001b[1;32m     32\u001b[0m     \u001b[0mpath\u001b[0m \u001b[0;34m=\u001b[0m \u001b[0;34m\"vectorize_layer_model.keras\"\u001b[0m\u001b[0;34m\u001b[0m\u001b[0;34m\u001b[0m\u001b[0m\n",
            "\u001b[0;32m/usr/local/lib/python3.11/dist-packages/keras/src/utils/traceback_utils.py\u001b[0m in \u001b[0;36merror_handler\u001b[0;34m(*args, **kwargs)\u001b[0m\n\u001b[1;32m    120\u001b[0m             \u001b[0;31m# To get the full stack trace, call:\u001b[0m\u001b[0;34m\u001b[0m\u001b[0;34m\u001b[0m\u001b[0m\n\u001b[1;32m    121\u001b[0m             \u001b[0;31m# `keras.config.disable_traceback_filtering()`\u001b[0m\u001b[0;34m\u001b[0m\u001b[0;34m\u001b[0m\u001b[0m\n\u001b[0;32m--> 122\u001b[0;31m             \u001b[0;32mraise\u001b[0m \u001b[0me\u001b[0m\u001b[0;34m.\u001b[0m\u001b[0mwith_traceback\u001b[0m\u001b[0;34m(\u001b[0m\u001b[0mfiltered_tb\u001b[0m\u001b[0;34m)\u001b[0m \u001b[0;32mfrom\u001b[0m \u001b[0;32mNone\u001b[0m\u001b[0;34m\u001b[0m\u001b[0;34m\u001b[0m\u001b[0m\n\u001b[0m\u001b[1;32m    123\u001b[0m         \u001b[0;32mfinally\u001b[0m\u001b[0;34m:\u001b[0m\u001b[0;34m\u001b[0m\u001b[0;34m\u001b[0m\u001b[0m\n\u001b[1;32m    124\u001b[0m             \u001b[0;32mdel\u001b[0m \u001b[0mfiltered_tb\u001b[0m\u001b[0;34m\u001b[0m\u001b[0;34m\u001b[0m\u001b[0m\n",
            "\u001b[0;32m/usr/local/lib/python3.11/dist-packages/optree/ops.py\u001b[0m in \u001b[0;36mtree_map\u001b[0;34m(func, tree, is_leaf, none_is_leaf, namespace, *rests)\u001b[0m\n\u001b[1;32m    764\u001b[0m     \u001b[0mleaves\u001b[0m\u001b[0;34m,\u001b[0m \u001b[0mtreespec\u001b[0m \u001b[0;34m=\u001b[0m \u001b[0m_C\u001b[0m\u001b[0;34m.\u001b[0m\u001b[0mflatten\u001b[0m\u001b[0;34m(\u001b[0m\u001b[0mtree\u001b[0m\u001b[0;34m,\u001b[0m \u001b[0mis_leaf\u001b[0m\u001b[0;34m,\u001b[0m \u001b[0mnone_is_leaf\u001b[0m\u001b[0;34m,\u001b[0m \u001b[0mnamespace\u001b[0m\u001b[0;34m)\u001b[0m\u001b[0;34m\u001b[0m\u001b[0;34m\u001b[0m\u001b[0m\n\u001b[1;32m    765\u001b[0m     \u001b[0mflat_args\u001b[0m \u001b[0;34m=\u001b[0m \u001b[0;34m[\u001b[0m\u001b[0mleaves\u001b[0m\u001b[0;34m]\u001b[0m \u001b[0;34m+\u001b[0m \u001b[0;34m[\u001b[0m\u001b[0mtreespec\u001b[0m\u001b[0;34m.\u001b[0m\u001b[0mflatten_up_to\u001b[0m\u001b[0;34m(\u001b[0m\u001b[0mr\u001b[0m\u001b[0;34m)\u001b[0m \u001b[0;32mfor\u001b[0m \u001b[0mr\u001b[0m \u001b[0;32min\u001b[0m \u001b[0mrests\u001b[0m\u001b[0;34m]\u001b[0m\u001b[0;34m\u001b[0m\u001b[0;34m\u001b[0m\u001b[0m\n\u001b[0;32m--> 766\u001b[0;31m     \u001b[0;32mreturn\u001b[0m \u001b[0mtreespec\u001b[0m\u001b[0;34m.\u001b[0m\u001b[0munflatten\u001b[0m\u001b[0;34m(\u001b[0m\u001b[0mmap\u001b[0m\u001b[0;34m(\u001b[0m\u001b[0mfunc\u001b[0m\u001b[0;34m,\u001b[0m \u001b[0;34m*\u001b[0m\u001b[0mflat_args\u001b[0m\u001b[0;34m)\u001b[0m\u001b[0;34m)\u001b[0m\u001b[0;34m\u001b[0m\u001b[0;34m\u001b[0m\u001b[0m\n\u001b[0m\u001b[1;32m    767\u001b[0m \u001b[0;34m\u001b[0m\u001b[0m\n\u001b[1;32m    768\u001b[0m \u001b[0;34m\u001b[0m\u001b[0m\n",
            "\u001b[0;31mValueError\u001b[0m: Invalid dtype: object"
          ]
        }
      ]
    },
    {
      "cell_type": "markdown",
      "source": [
        "## Markov"
      ],
      "metadata": {
        "id": "F3M4C-D33z1T"
      }
    },
    {
      "cell_type": "code",
      "source": [],
      "metadata": {
        "id": "GAB4Qx8M33QG"
      },
      "execution_count": null,
      "outputs": []
    }
  ],
  "metadata": {
    "accelerator": "GPU",
    "colab": {
      "gpuType": "A100",
      "provenance": []
    },
    "kernelspec": {
      "display_name": "Python 3",
      "name": "python3"
    },
    "language_info": {
      "name": "python"
    }
  },
  "nbformat": 4,
  "nbformat_minor": 0
}